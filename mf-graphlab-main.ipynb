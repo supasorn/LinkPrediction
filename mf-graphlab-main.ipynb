{
 "cells": [
  {
   "cell_type": "code",
   "execution_count": 1,
   "metadata": {
    "collapsed": false
   },
   "outputs": [
    {
     "name": "stderr",
     "output_type": "stream",
     "text": [
      "[INFO] This trial license of GraphLab Create is assigned to kanitw@gmail.com and will expire on June 26, 2015. Please contact trial@dato.com for licensing options or to request a free non-commercial license for personal or academic use.\n",
      "\n",
      "[INFO] Start server at: ipc:///tmp/graphlab_server-52625 - Server binary: /usr/local/lib/python2.7/site-packages/graphlab/unity_server - Server log: /tmp/graphlab_server_1433109606.log\n",
      "[INFO] GraphLab Server Version: 1.4.0\n"
     ]
    }
   ],
   "source": [
    "import graphlab as gl\n",
    "from graphlab import SFrame\n",
    "from graphlab import SGraph\n",
    "import numpy as np\n",
    "from random import sample\n",
    "import random\n",
    "import scipy.io as sio\n",
    "from itertools import izip\n",
    "from datetime import datetime\n",
    "from numpy.random import rand\n",
    "random.seed(123)"
   ]
  },
  {
   "cell_type": "code",
   "execution_count": 128,
   "metadata": {
    "collapsed": false
   },
   "outputs": [],
   "source": [
    "def load(name):\n",
    "    return gl.load_sframe('data/%s_train.sframe' % name), \\\n",
    "        gl.load_sframe('data/%s_test.sframe' % name)"
   ]
  },
  {
   "cell_type": "code",
   "execution_count": null,
   "metadata": {
    "collapsed": true
   },
   "outputs": [],
   "source": [
    "movies = sio.mmread('data/movies.mtx').tocsr()"
   ]
  },
  {
   "cell_type": "code",
   "execution_count": 56,
   "metadata": {
    "collapsed": true
   },
   "outputs": [],
   "source": [
    "def prefix(p):\n",
    "    return lambda x: \"%s%s\"%(p,x)\n",
    "\n",
    "def remove(c):\n",
    "    def r(x):\n",
    "        del x[c]\n",
    "        return x\n",
    "    return r"
   ]
  },
  {
   "cell_type": "code",
   "execution_count": null,
   "metadata": {
    "collapsed": true
   },
   "outputs": [],
   "source": [
    "n, m = (138493, 27278)\n",
    "ng, nht = 19, 40 #"
   ]
  },
  {
   "cell_type": "code",
   "execution_count": null,
   "metadata": {
    "collapsed": true
   },
   "outputs": [],
   "source": [
    "def get_features(m):\n",
    "    return dict(zip(m.indices, m.data))\n",
    "\n",
    "def get_vertices(n, m, k, movies, factor0=1):\n",
    "    user_ids = range(n)\n",
    "    movie_ids = range(m)\n",
    "    return SFrame({ \n",
    "            # Movies\n",
    "            '__id': map(prefix('m'), movie_ids),\n",
    "            'factors': map(lambda _: rand(k) * factor0, movie_ids), \n",
    "            'w': map(lambda _: np.zeros(ng+nht), movie_ids), \n",
    "            'b': map(lambda _: 0, movie_ids),\n",
    "            'features': map(lambda i: get_features(movies[i]), movie_ids),  #FIXME\n",
    "            'user':  map(lambda _: 0, movie_ids)\n",
    "        }).append(SFrame({ \n",
    "            # User\n",
    "            '__id': map(prefix('u'), user_ids), \n",
    "            'factors': map(lambda _: rand(k) * factor0, user_ids), \n",
    "            'w': map(lambda _: np.zeros(ng+nht), user_ids), \n",
    "            'b': map(lambda _: 0, user_ids),\n",
    "            'features': map(lambda _:{}, user_ids), \n",
    "            'user': map(lambda _: 1, user_ids)\n",
    "        }))"
   ]
  },
  {
   "cell_type": "code",
   "execution_count": 137,
   "metadata": {
    "collapsed": true
   },
   "outputs": [],
   "source": [
    "def get_graph(X_train, k, movies):\n",
    "    factor0 = (X_train['rating'].mean() / k / 0.25) ** 0.5\n",
    "    vertices  = get_vertices(n, m, k, movies, factor0)\n",
    "    X_train['uid'] = X_train['userId'].apply(prefix('u'))\n",
    "    X_train['mid'] = X_train['movieId'].apply(prefix('m'))\n",
    "    return SGraph().add_vertices(vertices, vid_field='__id')\\\n",
    "        .add_edges(X_train, src_field='uid', dst_field='mid')"
   ]
  },
  {
   "cell_type": "code",
   "execution_count": null,
   "metadata": {
    "collapsed": true
   },
   "outputs": [],
   "source": [
    "# def rmse_mtx(X, L, R):\n",
    "#     se = 0.0\n",
    "#     for u, m, x in izip(X.row, X.col, X.data):\n",
    "#         d = x - L[u].dot(R[:,m])\n",
    "#         se += d**2\n",
    "#     return np.sqrt(se/ X.nnz)"
   ]
  },
  {
   "cell_type": "code",
   "execution_count": 47,
   "metadata": {
    "collapsed": true
   },
   "outputs": [],
   "source": [
    "def rmse(sf, L, R):\n",
    "    se = 0.0\n",
    "    n = len(sf)\n",
    "    se = sf.apply(lambda r: (r['rating'] - L[r['userId']].dot(R[:,r['movieId']]))**2)\n",
    "    return np.sqrt(se.sum()/ n)"
   ]
  },
  {
   "cell_type": "code",
   "execution_count": null,
   "metadata": {
    "collapsed": true
   },
   "outputs": [],
   "source": [
    "def sgd_triple_updater(eta, lambda_u, lambda_v, unified, lambda_w):\n",
    "    def updater(src, edge, dst):\n",
    "        Lu = np.array(src['factors'])\n",
    "        Rv = np.array(dst['factors'])\n",
    "        ruv = edge['rating']\n",
    "        rhat = Lu.dot(Rv) \n",
    "        if unified: \n",
    "            rhat += src['b'] + dst['b'] + \\\n",
    "                sum((src['w'][i] + dst['w'][i]) * x for i, x in dst['features'].iteritems())\n",
    "            \n",
    "        eps = rhat - ruv \n",
    "        src['factors'] = (1 - eta * lambda_u) * Lu - eta * eps * Rv\n",
    "        dst['factors'] = (1 - eta * lambda_v) * Rv - eta * eps * Lu\n",
    "        if unified:\n",
    "            src['w'] = (1 - eta * lambda_w) * src['w'] \n",
    "            dst['w'] = (1 - eta * lambda_w) * dst['w'] \n",
    "            for i, x in dst['features'].iteritems():\n",
    "                src['w'][i] -= eta * eps * x\n",
    "                src['w'][i] -= eta * eps * x\n",
    "                \n",
    "            src['b'] -= eta * eps\n",
    "            dst['b'] -= eta * eps\n",
    "        \n",
    "        return (src, edge, dst)\n",
    "    return updater"
   ]
  },
  {
   "cell_type": "code",
   "execution_count": 139,
   "metadata": {
    "collapsed": false
   },
   "outputs": [],
   "source": [
    "def sgd_gl_edge(g, X_train, X_test, \\\n",
    "                lambduh, k, eta=0.1, unified=False, lambduh_w=0, Niter=100, e_rmse=0.001):\n",
    "    L = np.ones((n + 1, k))\n",
    "    R = np.ones((k, m + 1))\n",
    "    rmse_train = [rmse(X_train, L, R)]\n",
    "    print \"%s: %.4f\" % (0,rmse_train[-1])\n",
    "    start = datetime.now()\n",
    "    \n",
    "    for i in xrange(1, Niter+1): \n",
    "        g = g.triple_apply(sgd_triple_updater(\\\n",
    "            eta, lambduh, lambduh, unified, lambduh_w), 'factors')\n",
    "        \n",
    "        U = g.get_vertices(fields={'user':1})\n",
    "        uids = U['__id'].apply(lambda x: x[1:])\n",
    "        L[np.array(uids, dtype=int)] = np.array(U['factors'])\n",
    "        \n",
    "        M = g.get_vertices(fields={'user':0})\n",
    "        mids = M['__id'].apply(lambda x: x[1:])\n",
    "        R[:,np.array(mids, dtype=int)] = np.array(M['factors']).T\n",
    "        \n",
    "        rmse_train.append(rmse(X_train, L, R))\n",
    "        print \"%s : %.4f (time:%s)\" % (i, rmse_train[-1], datetime.now()-start)\n",
    "        if abs(rmse_train[-1] - rmse_train[-2]) < e_rmse:\n",
    "            break\n",
    "    \n",
    "    rmse_test = rmse(X_test, L, R)\n",
    "    print \"test=%.4f\" % (rmse_test)\n",
    "    return rmse_train, rmse_test, L, R\n",
    "        "
   ]
  },
  {
   "cell_type": "code",
   "execution_count": 102,
   "metadata": {
    "collapsed": true
   },
   "outputs": [],
   "source": [
    "def run_full():\n",
    "    X_train, X_test = load('ratings')\n",
    "    g = get_graph(X_train, 5, movies)\n",
    "    return sgd_gl_edge(g, X_train, X_test, 0.01, 5)"
   ]
  },
  {
   "cell_type": "code",
   "execution_count": 143,
   "metadata": {
    "collapsed": true
   },
   "outputs": [],
   "source": [
    "def run_debug(Niter=1):\n",
    "    X_train, X_test = load('ratings_debug')\n",
    "    g = get_graph(X_train, 5, movies)\n",
    "    return sgd_gl_edge(g, X_train, X_test, 0.01, 5, Niter=Niter)"
   ]
  },
  {
   "cell_type": "code",
   "execution_count": 144,
   "metadata": {
    "collapsed": false
   },
   "outputs": [
    {
     "name": "stdout",
     "output_type": "stream",
     "text": [
      "0: 1.8112\n",
      "1 : 1.0017 (time:0:01:10.040569)\n",
      "test=1.0803\n"
     ]
    }
   ],
   "source": [
    "rmse_train, rmse_test, L, R = run_debug()"
   ]
  },
  {
   "cell_type": "code",
   "execution_count": 140,
   "metadata": {
    "collapsed": false
   },
   "outputs": [],
   "source": [
    "def run_pure_mf(eta=0.05):0 # FIXME\n",
    "    X_train_debug, X_test_debug = load('ratings_debug')\n",
    "    min_rmse_test = float('inf')\n",
    "    min_k, min_lambduh = None, None\n",
    "    rmse_map = {}\n",
    "    for lambduh in [0, 0.001, 0.01, 0.1]:\n",
    "        for k in [5, 10, 20]:\n",
    "            g = get_graph(X_train_debug, 5, movies)\n",
    "            rmse_trainunified, rmse_test, L, R = \\\n",
    "                sgd_gl_edge(g, X_train_debug, X_test_debug, lambduh, k, eta, Niter=20)\n",
    "            rmse_map.get(lambduh, {})[k] = rmse_test\n",
    "            print \"l=%s, k=%s, rmse=%.4f\" % (lambduh, k, rmse_test)\n",
    "            if rmse_test < min_rmse_test:\n",
    "                min_rmse_test = rmse_test\n",
    "                min_k = k\n",
    "                min_lambduh = lambduh\n",
    "    \n",
    "    X_train, X_test = load('ratings')\n",
    "    g = get_graph(X_train, 5, movies)\n",
    "    rmse_train, rmse_test, L, R = \\\n",
    "                sgd_gl_edge(g, X_train, X_test, min_lambduh, min_k)\n",
    "    print rmse_test\n",
    "    return rmse_map, rmse_train, rmse_test, min_lambduh, min_k"
   ]
  },
  {
   "cell_type": "code",
   "execution_count": 162,
   "metadata": {
    "collapsed": false
   },
   "outputs": [],
   "source": [
    "def eta_search(): # FIXME\n",
    "    X_train_debug, X_test_debug = load('ratings_debug')\n",
    "    min_rmse_test = float('inf')\n",
    "    min_k, min_lambduh = None, None\n",
    "    rmse_map = {}\n",
    "    for eta in [0.01]: # 0.005, 0.01, 0.05,\n",
    "        print 'eta %s'%eta\n",
    "        for lambduh in [0.01]: #[0, 0.001, 0.01, 0.1, 1]:\n",
    "            for k in [5]: #, 10, 20]:\n",
    "                g = get_graph(X_train_debug, 5, movies)\n",
    "                rmse_train, rmse_test, L, R = \\\n",
    "                    sgd_gl_edge(g, X_train_debug, X_test_debug, lambduh, k, eta, Niter=3)\n",
    "                rmse_map.get(lambduh, {}).get(k,{})[eta] = rmse_test\n",
    "                print \"l=%s, k=%s, rmse=%.4f\" % (lambduh, k, rmse_test)\n",
    "                if rmse_test < min_rmse_test:\n",
    "                    min_rmse_test = rmse_test\n",
    "                    min_k = k\n",
    "                    min_eta = eta\n",
    "                    min_lambduh = lambduh\n",
    "    print min_eta\n",
    "    return rmse_map, min_lambduh, min_k, min_eta\n"
   ]
  },
  {
   "cell_type": "code",
   "execution_count": null,
   "metadata": {
    "collapsed": true
   },
   "outputs": [],
   "source": [
    "# eta 0.005\n",
    "# 0: 1.8112\n",
    "# 1 : 1.2069 (time:0:02:50.931521)\n",
    "# 2 : 1.0992 (time:0:04:23.580317)\n",
    "# 3 : 1.0346 (time:0:06:03.407423)\n",
    "# test=1.0803\n",
    "# l=0.01, k=5, rmse=1.0803\n",
    "# eta 0.01\n",
    "# 0: 1.8112\n",
    "# 1 : 1.1017 (time:0:01:29.450320)\n",
    "# 2 : 0.9914 (time:0:03:06.359180)\n",
    "# 3 : 0.9343 (time:0:04:30.713422)\n",
    "# test=1.0803\n",
    "# l=0.01, k=5, rmse=1.0803\n",
    "# eta 0.05\n",
    "# 0: 1.8112\n",
    "# 1 : 0.9312 (time:0:01:29.850168)\n",
    "# 2 : 0.8715 (time:0:02:45.898214)\n",
    "# 3 : 0.8472 (time:0:04:16.494505)\n",
    "# test=1.0803\n",
    "# l=0.01, k=5, rmse=1.0803\n",
    "# 0.005\n",
    "# Out[161]:\n",
    "# ({}, 0.01, 5, 0.005)"
   ]
  },
  {
   "cell_type": "code",
   "execution_count": 163,
   "metadata": {
    "collapsed": false
   },
   "outputs": [
    {
     "name": "stdout",
     "output_type": "stream",
     "text": [
      "eta 0.01\n",
      "0: 1.8112\n",
      "1 : 1.1008 (time:0:01:09.639385)\n",
      "2 : 0.9918 (time:0:02:28.738751)\n",
      "3 : 0.9347 (time:0:03:50.585330)\n",
      "test=1.0803\n",
      "l=0.01, k=5, rmse=1.0803\n",
      "0.01\n"
     ]
    },
    {
     "data": {
      "text/plain": [
       "({}, 0.01, 5, 0.01)"
      ]
     },
     "execution_count": 163,
     "metadata": {},
     "output_type": "execute_result"
    }
   ],
   "source": [
    "eta_search()"
   ]
  },
  {
   "cell_type": "code",
   "execution_count": 164,
   "metadata": {
    "collapsed": false
   },
   "outputs": [
    {
     "data": {
      "text/html": [
       "<div style=\"max-height:1000px;max-width:1500px;overflow:auto;\"><table frame=\"box\" rules=\"cols\">\n",
       "    <tr>\n",
       "        <th style=\"padding-left: 1em; padding-right: 1em; text-align: center\">userId</th>\n",
       "        <th style=\"padding-left: 1em; padding-right: 1em; text-align: center\">movieId</th>\n",
       "        <th style=\"padding-left: 1em; padding-right: 1em; text-align: center\">rating</th>\n",
       "        <th style=\"padding-left: 1em; padding-right: 1em; text-align: center\">timestamp</th>\n",
       "        <th style=\"padding-left: 1em; padding-right: 1em; text-align: center\">uid</th>\n",
       "        <th style=\"padding-left: 1em; padding-right: 1em; text-align: center\">mid</th>\n",
       "    </tr>\n",
       "    <tr>\n",
       "        <td style=\"padding-left: 1em; padding-right: 1em; text-align: center; vertical-align: top\">53450</td>\n",
       "        <td style=\"padding-left: 1em; padding-right: 1em; text-align: center; vertical-align: top\">2495</td>\n",
       "        <td style=\"padding-left: 1em; padding-right: 1em; text-align: center; vertical-align: top\">4.0</td>\n",
       "        <td style=\"padding-left: 1em; padding-right: 1em; text-align: center; vertical-align: top\">940687312</td>\n",
       "        <td style=\"padding-left: 1em; padding-right: 1em; text-align: center; vertical-align: top\">u53450</td>\n",
       "        <td style=\"padding-left: 1em; padding-right: 1em; text-align: center; vertical-align: top\">m2495</td>\n",
       "    </tr>\n",
       "    <tr>\n",
       "        <td style=\"padding-left: 1em; padding-right: 1em; text-align: center; vertical-align: top\">109744</td>\n",
       "        <td style=\"padding-left: 1em; padding-right: 1em; text-align: center; vertical-align: top\">2382</td>\n",
       "        <td style=\"padding-left: 1em; padding-right: 1em; text-align: center; vertical-align: top\">4.0</td>\n",
       "        <td style=\"padding-left: 1em; padding-right: 1em; text-align: center; vertical-align: top\">1047851282</td>\n",
       "        <td style=\"padding-left: 1em; padding-right: 1em; text-align: center; vertical-align: top\">u109744</td>\n",
       "        <td style=\"padding-left: 1em; padding-right: 1em; text-align: center; vertical-align: top\">m2382</td>\n",
       "    </tr>\n",
       "    <tr>\n",
       "        <td style=\"padding-left: 1em; padding-right: 1em; text-align: center; vertical-align: top\">138199</td>\n",
       "        <td style=\"padding-left: 1em; padding-right: 1em; text-align: center; vertical-align: top\">14866</td>\n",
       "        <td style=\"padding-left: 1em; padding-right: 1em; text-align: center; vertical-align: top\">3.5</td>\n",
       "        <td style=\"padding-left: 1em; padding-right: 1em; text-align: center; vertical-align: top\">1272834224</td>\n",
       "        <td style=\"padding-left: 1em; padding-right: 1em; text-align: center; vertical-align: top\">u138199</td>\n",
       "        <td style=\"padding-left: 1em; padding-right: 1em; text-align: center; vertical-align: top\">m14866</td>\n",
       "    </tr>\n",
       "    <tr>\n",
       "        <td style=\"padding-left: 1em; padding-right: 1em; text-align: center; vertical-align: top\">122318</td>\n",
       "        <td style=\"padding-left: 1em; padding-right: 1em; text-align: center; vertical-align: top\">1672</td>\n",
       "        <td style=\"padding-left: 1em; padding-right: 1em; text-align: center; vertical-align: top\">4.0</td>\n",
       "        <td style=\"padding-left: 1em; padding-right: 1em; text-align: center; vertical-align: top\">1242330925</td>\n",
       "        <td style=\"padding-left: 1em; padding-right: 1em; text-align: center; vertical-align: top\">u122318</td>\n",
       "        <td style=\"padding-left: 1em; padding-right: 1em; text-align: center; vertical-align: top\">m1672</td>\n",
       "    </tr>\n",
       "    <tr>\n",
       "        <td style=\"padding-left: 1em; padding-right: 1em; text-align: center; vertical-align: top\">33220</td>\n",
       "        <td style=\"padding-left: 1em; padding-right: 1em; text-align: center; vertical-align: top\">46</td>\n",
       "        <td style=\"padding-left: 1em; padding-right: 1em; text-align: center; vertical-align: top\">4.5</td>\n",
       "        <td style=\"padding-left: 1em; padding-right: 1em; text-align: center; vertical-align: top\">1295461781</td>\n",
       "        <td style=\"padding-left: 1em; padding-right: 1em; text-align: center; vertical-align: top\">u33220</td>\n",
       "        <td style=\"padding-left: 1em; padding-right: 1em; text-align: center; vertical-align: top\">m46</td>\n",
       "    </tr>\n",
       "    <tr>\n",
       "        <td style=\"padding-left: 1em; padding-right: 1em; text-align: center; vertical-align: top\">41453</td>\n",
       "        <td style=\"padding-left: 1em; padding-right: 1em; text-align: center; vertical-align: top\">1248</td>\n",
       "        <td style=\"padding-left: 1em; padding-right: 1em; text-align: center; vertical-align: top\">4.5</td>\n",
       "        <td style=\"padding-left: 1em; padding-right: 1em; text-align: center; vertical-align: top\">1062545982</td>\n",
       "        <td style=\"padding-left: 1em; padding-right: 1em; text-align: center; vertical-align: top\">u41453</td>\n",
       "        <td style=\"padding-left: 1em; padding-right: 1em; text-align: center; vertical-align: top\">m1248</td>\n",
       "    </tr>\n",
       "    <tr>\n",
       "        <td style=\"padding-left: 1em; padding-right: 1em; text-align: center; vertical-align: top\">112761</td>\n",
       "        <td style=\"padding-left: 1em; padding-right: 1em; text-align: center; vertical-align: top\">2403</td>\n",
       "        <td style=\"padding-left: 1em; padding-right: 1em; text-align: center; vertical-align: top\">4.0</td>\n",
       "        <td style=\"padding-left: 1em; padding-right: 1em; text-align: center; vertical-align: top\">1251964985</td>\n",
       "        <td style=\"padding-left: 1em; padding-right: 1em; text-align: center; vertical-align: top\">u112761</td>\n",
       "        <td style=\"padding-left: 1em; padding-right: 1em; text-align: center; vertical-align: top\">m2403</td>\n",
       "    </tr>\n",
       "    <tr>\n",
       "        <td style=\"padding-left: 1em; padding-right: 1em; text-align: center; vertical-align: top\">28142</td>\n",
       "        <td style=\"padding-left: 1em; padding-right: 1em; text-align: center; vertical-align: top\">108</td>\n",
       "        <td style=\"padding-left: 1em; padding-right: 1em; text-align: center; vertical-align: top\">3.0</td>\n",
       "        <td style=\"padding-left: 1em; padding-right: 1em; text-align: center; vertical-align: top\">860277711</td>\n",
       "        <td style=\"padding-left: 1em; padding-right: 1em; text-align: center; vertical-align: top\">u28142</td>\n",
       "        <td style=\"padding-left: 1em; padding-right: 1em; text-align: center; vertical-align: top\">m108</td>\n",
       "    </tr>\n",
       "    <tr>\n",
       "        <td style=\"padding-left: 1em; padding-right: 1em; text-align: center; vertical-align: top\">115002</td>\n",
       "        <td style=\"padding-left: 1em; padding-right: 1em; text-align: center; vertical-align: top\">9582</td>\n",
       "        <td style=\"padding-left: 1em; padding-right: 1em; text-align: center; vertical-align: top\">3.0</td>\n",
       "        <td style=\"padding-left: 1em; padding-right: 1em; text-align: center; vertical-align: top\">1303327349</td>\n",
       "        <td style=\"padding-left: 1em; padding-right: 1em; text-align: center; vertical-align: top\">u115002</td>\n",
       "        <td style=\"padding-left: 1em; padding-right: 1em; text-align: center; vertical-align: top\">m9582</td>\n",
       "    </tr>\n",
       "    <tr>\n",
       "        <td style=\"padding-left: 1em; padding-right: 1em; text-align: center; vertical-align: top\">15824</td>\n",
       "        <td style=\"padding-left: 1em; padding-right: 1em; text-align: center; vertical-align: top\">3332</td>\n",
       "        <td style=\"padding-left: 1em; padding-right: 1em; text-align: center; vertical-align: top\">4.0</td>\n",
       "        <td style=\"padding-left: 1em; padding-right: 1em; text-align: center; vertical-align: top\">1221151468</td>\n",
       "        <td style=\"padding-left: 1em; padding-right: 1em; text-align: center; vertical-align: top\">u15824</td>\n",
       "        <td style=\"padding-left: 1em; padding-right: 1em; text-align: center; vertical-align: top\">m3332</td>\n",
       "    </tr>\n",
       "</table>\n",
       "[600009 rows x 6 columns]<br/>Note: Only the head of the SFrame is printed.<br/>You can use print_rows(num_rows=m, num_columns=n) to print more rows and columns.\n",
       "</div>"
      ],
      "text/plain": [
       "Columns:\n",
       "\tuserId\tint\n",
       "\tmovieId\tint\n",
       "\trating\tfloat\n",
       "\ttimestamp\tint\n",
       "\tuid\tstr\n",
       "\tmid\tstr\n",
       "\n",
       "Rows: 600009\n",
       "\n",
       "Data:\n",
       "+--------+---------+--------+------------+---------+--------+\n",
       "| userId | movieId | rating | timestamp  |   uid   |  mid   |\n",
       "+--------+---------+--------+------------+---------+--------+\n",
       "| 53450  |   2495  |  4.0   | 940687312  |  u53450 | m2495  |\n",
       "| 109744 |   2382  |  4.0   | 1047851282 | u109744 | m2382  |\n",
       "| 138199 |  14866  |  3.5   | 1272834224 | u138199 | m14866 |\n",
       "| 122318 |   1672  |  4.0   | 1242330925 | u122318 | m1672  |\n",
       "| 33220  |    46   |  4.5   | 1295461781 |  u33220 |  m46   |\n",
       "| 41453  |   1248  |  4.5   | 1062545982 |  u41453 | m1248  |\n",
       "| 112761 |   2403  |  4.0   | 1251964985 | u112761 | m2403  |\n",
       "| 28142  |   108   |  3.0   | 860277711  |  u28142 |  m108  |\n",
       "| 115002 |   9582  |  3.0   | 1303327349 | u115002 | m9582  |\n",
       "| 15824  |   3332  |  4.0   | 1221151468 |  u15824 | m3332  |\n",
       "+--------+---------+--------+------------+---------+--------+\n",
       "[600009 rows x 6 columns]\n",
       "Note: Only the head of the SFrame is printed.\n",
       "You can use print_rows(num_rows=m, num_columns=n) to print more rows and columns."
      ]
     },
     "execution_count": 164,
     "metadata": {},
     "output_type": "execute_result"
    }
   ],
   "source": [
    "X_train"
   ]
  },
  {
   "cell_type": "code",
   "execution_count": null,
   "metadata": {
    "collapsed": false,
    "scrolled": true
   },
   "outputs": [
    {
     "name": "stdout",
     "output_type": "stream",
     "text": [
      "0: 1.8112\n",
      "1 : 1.0117 (time:0:00:58.099448)\n",
      "2 : 0.9697 (time:0:02:05.973085)\n",
      "3 : 0.9579 (time:0:03:17.667039)\n",
      "4 : 0.9325 (time:0:04:44.986584)\n",
      "5 : 0.9264 (time:0:06:21.786802)\n",
      "6 : 0.9165 (time:0:07:56.377591)\n",
      "7 : 0.9067 (time:0:09:25.674062)\n",
      "8 : 0.9020 (time:0:10:42.723533)\n",
      "9 : 0.8974 (time:0:12:29.716956)\n",
      "10 : 0.8939 (time:0:13:57.979749)\n",
      "11 : 0.8910 (time:0:15:39.241020)\n",
      "12 : 0.8847 (time:0:17:21.321695)\n",
      "13 : 0.8824 (time:0:18:49.046950)\n",
      "14 : 0.8799 (time:0:20:27.517569)\n",
      "15 : 0.8790 (time:0:22:07.366880)\n",
      "test=1.0803\n",
      "l=0, k=5, rmse=1.0803\n",
      "0: 1.8112\n",
      "1 : 1.0114 (time:0:01:42.227319)\n",
      "2 : 0.9721 (time:0:03:17.125196)\n",
      "3 : 0.9545 (time:0:04:45.694033)\n",
      "4 : 0.9403 (time:0:06:32.914066)\n",
      "5 : 0.9312 (time:0:08:09.092949)\n",
      "6 : 0.9149 (time:0:09:42.033428)\n",
      "7 : 0.9071 (time:0:11:37.178244)"
     ]
    }
   ],
   "source": [
    "rmse_map, rmse_train, rmse_test, min_lambduh, min_k = run_pure_mf()"
   ]
  },
  {
   "cell_type": "code",
   "execution_count": null,
   "metadata": {
    "collapsed": true
   },
   "outputs": [],
   "source": [
    "# FIXME need to loop more parameter \n",
    "\n",
    "def run_cf(eta=0.05):\n",
    "    X_train_debug, X_test_debug = load('ratings_debug')\n",
    "    min_rmse_test = float('inf')\n",
    "    min_k, min_lambduh, min_lambduh_w = None, None, None\n",
    "    rmse_map = {}\n",
    "    for lambduh in [0, 0.001, 0.01, 0.1]:\n",
    "        for k in [5, 10, 20]:\n",
    "            for lambduh_w in [0, 0.001, 0.01, 0.1]:\n",
    "                g = get_graph(X_train_debug, 5, movies)\n",
    "                rmse_train, rmse_test, L, R = \\\n",
    "                    sgd_gl_edge(g, X_train_debug, X_test_debug, lambduh, k, eta, \\\n",
    "                                unified=true, lambduh_w=lambduh_w)\n",
    "                rmse_map.get(lambduh, {}).get(k,{})[lambduh_w] = rmse_test\n",
    "                print \"l=%s, k=%s, l_w=%s, rmse=%.4f\" % (lambduh, k, lambduh_w, rmse_test)\n",
    "                if rmse_test < min_rmse_test:\n",
    "                    min_rmse_test = rmse_test\n",
    "                    min_k = k\n",
    "                    min_lambduh = lambduh\n",
    "                    min_lambduh_w = lambduh_w\n",
    "    \n",
    "    X_train, X_test = load('ratings_debug')\n",
    "    g = get_graph(X_train, min_k, movies)\n",
    "    rmse_train, rmse_test, L, R = \\\n",
    "                sgd_gl_edge(g, X_train, X_test, min_lambduh, min_k, min_eta, \\\n",
    "                                unified=true, lambduh_w=min_lambduh_w)\n",
    "    print rmse_test\n",
    "    return rmse_map, rmse_train, rmse_test, min_lambduh, min_k"
   ]
  }
 ],
 "metadata": {
  "kernelspec": {
   "display_name": "Python 2",
   "language": "python",
   "name": "python2"
  },
  "language_info": {
   "codemirror_mode": {
    "name": "ipython",
    "version": 2
   },
   "file_extension": ".py",
   "mimetype": "text/x-python",
   "name": "python",
   "nbconvert_exporter": "python",
   "pygments_lexer": "ipython2",
   "version": "2.7.3"
  }
 },
 "nbformat": 4,
 "nbformat_minor": 0
}
