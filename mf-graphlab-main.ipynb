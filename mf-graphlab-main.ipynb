{
 "cells": [
  {
   "cell_type": "code",
   "execution_count": 1,
   "metadata": {
    "collapsed": false
   },
   "outputs": [
    {
     "name": "stderr",
     "output_type": "stream",
     "text": [
      "[INFO] This trial license of GraphLab Create is assigned to kanitw@gmail.com and will expire on June 26, 2015. Please contact trial@dato.com for licensing options or to request a free non-commercial license for personal or academic use.\n",
      "\n",
      "[INFO] Start server at: ipc:///tmp/graphlab_server-52625 - Server binary: /usr/local/lib/python2.7/site-packages/graphlab/unity_server - Server log: /tmp/graphlab_server_1433109606.log\n",
      "[INFO] GraphLab Server Version: 1.4.0\n"
     ]
    }
   ],
   "source": [
    "import graphlab as gl\n",
    "from graphlab import SFrame\n",
    "from graphlab import SGraph\n",
    "import numpy as np\n",
    "from random import sample\n",
    "import random\n",
    "import scipy.io as sio\n",
    "from itertools import izip\n",
    "from datetime import datetime\n",
    "random.seed(123)"
   ]
  },
  {
   "cell_type": "code",
   "execution_count": 18,
   "metadata": {
    "collapsed": true
   },
   "outputs": [],
   "source": [
    "def load(name):\n",
    "    return gl.load_sframe('data/%s_train.sframe' % name), \\\n",
    "        gl.load_sframe('data/%s_validate.sframe' % name), \\\n",
    "        gl.load_sframe('data/%s_test.sframe' % name), \\\n",
    "        sio.mmread('data/movies.mtx')"
   ]
  },
  {
   "cell_type": "code",
   "execution_count": 56,
   "metadata": {
    "collapsed": true
   },
   "outputs": [],
   "source": [
    "def prefix(p):\n",
    "    return lambda x: \"%s%s\"%(p,x)\n",
    "\n",
    "def remove(c):\n",
    "    def r(x):\n",
    "        del x[c]\n",
    "        return x\n",
    "    return r"
   ]
  },
  {
   "cell_type": "code",
   "execution_count": 58,
   "metadata": {
    "collapsed": true
   },
   "outputs": [],
   "source": [
    "def get_vertices(n, m, k, movies):\n",
    "    user_ids = range(n)\n",
    "    movie_ids = range(m)\n",
    "    return SFrame({\n",
    "            '__id': map(prefix('m'), movie_ids),\n",
    "            'factors': map(lambda _: np.ones(k), movie_ids), #FIXME\n",
    "            'features': map(lambda _:{}, movie_ids),  #FIXME\n",
    "            'user':  map(lambda _: 0, movie_ids)\n",
    "        }).append(SFrame({\n",
    "            '__id': map(prefix('u'), user_ids), \n",
    "            'factors': map(lambda _: np.ones(k), user_ids), \n",
    "            'features': map(lambda _:{}, user_ids),\n",
    "            'user': map(lambda _: 1, user_ids)\n",
    "        }))"
   ]
  },
  {
   "cell_type": "code",
   "execution_count": 85,
   "metadata": {
    "collapsed": true
   },
   "outputs": [],
   "source": [
    "def get_graph(X_train, k, movies):\n",
    "    vertices  = get_vertices(n, m, k, movies)\n",
    "    X_train['uid'] = X_train['userId'].apply(prefix('u'))\n",
    "    X_train['mid'] = X_train['movieId'].apply(prefix('m'))\n",
    "    return SGraph().add_vertices(vertices, vid_field='id')\\\n",
    "        .add_edges(X_train, src_field='uid', dst_field='mid')"
   ]
  },
  {
   "cell_type": "code",
   "execution_count": null,
   "metadata": {
    "collapsed": true
   },
   "outputs": [],
   "source": [
    "n, m = (138493, 27278)"
   ]
  },
  {
   "cell_type": "code",
   "execution_count": null,
   "metadata": {
    "collapsed": true
   },
   "outputs": [],
   "source": [
    "# def rmse_mtx(X, L, R):\n",
    "#     se = 0.0\n",
    "#     for u, m, x in izip(X.row, X.col, X.data):\n",
    "#         d = x - L[u].dot(R[:,m])\n",
    "#         se += d**2\n",
    "#     return np.sqrt(se/ X.nnz)"
   ]
  },
  {
   "cell_type": "code",
   "execution_count": 47,
   "metadata": {
    "collapsed": true
   },
   "outputs": [],
   "source": [
    "def rmse(sf, L, R):\n",
    "    se = 0.0\n",
    "    n = len(sf)\n",
    "    se = sf.apply(lambda r: (r['rating'] - L[r['userId']].dot(R[:,r['movieId']]))**2)\n",
    "    return np.sqrt(se.sum()/ n)"
   ]
  },
  {
   "cell_type": "code",
   "execution_count": 34,
   "metadata": {
    "collapsed": false
   },
   "outputs": [],
   "source": [
    "# k = 5\n",
    "# L = np.ones((n + 1, k))\n",
    "# R = np.ones((k, m + 1))\n",
    "# rmse_train = [rmse(X_train, L, R)]"
   ]
  },
  {
   "cell_type": "code",
   "execution_count": 48,
   "metadata": {
    "collapsed": false
   },
   "outputs": [],
   "source": []
  },
  {
   "cell_type": "code",
   "execution_count": 88,
   "metadata": {
    "collapsed": true
   },
   "outputs": [],
   "source": [
    "def sgd_triple_updater(eta, lambda_u, lambda_v):\n",
    "    def updater(src, edge, dst):\n",
    "        Lu = np.array(src['factors'])\n",
    "        Rv = np.array(dst['factors'])\n",
    "        ruv = edge['rating']\n",
    "        \n",
    "        eps = Lu.dot(Rv) - ruv\n",
    "        src['factors'] = (1 - eta * lambda_u) * Lu - eta * eps * Rv\n",
    "        dst['factors'] = (1 - eta * lambda_v) * Rv - eta * eps * Lu\n",
    "        \n",
    "        return (src, edge, dst)\n",
    "    return updater"
   ]
  },
  {
   "cell_type": "code",
   "execution_count": 104,
   "metadata": {
    "collapsed": false
   },
   "outputs": [],
   "source": [
    "def sgd_gl_edge(g, X_train, X_valid, X_test, \\\n",
    "                lambduh, k, eta=0.1, Niter=100, e_rmse=0.0001):\n",
    "    L = np.ones((n + 1, k))\n",
    "    R = np.ones((k, m + 1))\n",
    "    rmse_train = [rmse(X_train, L, R)]\n",
    "    print \"%s: %.4f\" % (0,rmse_train[-1])\n",
    "    start = datetime.now()\n",
    "    \n",
    "    for i in xrange(1, Niter+1): \n",
    "        g = g.triple_apply(sgd_triple_updater(\\\n",
    "            eta=eta, lambda_u=lambduh, lambda_v=lambduh), 'factors')\n",
    "        \n",
    "        U = g.get_vertices(fields={'user':1})\n",
    "        uids = U['__id'].apply(lambda x: x[1:])\n",
    "        L[np.array(uids, dtype=int)] = np.array(U['factors'])\n",
    "        \n",
    "        M = g.get_vertices(fields={'user':0})\n",
    "        mids = M['__id'].apply(lambda x: x[1:])\n",
    "        R[:,np.array(mids, dtype=int)] = np.array(M['factors']).T\n",
    "        \n",
    "        rmse_train.append(rmse(X_train, L, R))\n",
    "        print \"%s : %.4f (time:%s)\" % (i, rmse_train[-1], datetime.now()-start)\n",
    "        if abs(rmse_train[-1] - rmse_train[-2]) < e_rmse:\n",
    "            break\n",
    "    \n",
    "    rmse_valid = rmse(X_valid, L, R)\n",
    "    rmse_test = rmse(X_test, L, R)\n",
    "    print \"valid=%.4f, test=%.4f\" % (rmse_valid, rmse_test)\n",
    "    return rmse_train, rmse_valid, rmse_test\n",
    "        "
   ]
  },
  {
   "cell_type": "code",
   "execution_count": 102,
   "metadata": {
    "collapsed": true
   },
   "outputs": [],
   "source": [
    "def run_full():\n",
    "    X_train, X_valid, X_test, movies = load('ratings')\n",
    "    g = get_graph(X_train, 5, movies)\n",
    "    return sgd_gl_edge(g, X_train, X_valid, X_test, 0.01, 5)"
   ]
  },
  {
   "cell_type": "code",
   "execution_count": null,
   "metadata": {
    "collapsed": true
   },
   "outputs": [],
   "source": [
    "def run_debug():\n",
    "    X_train, X_valid, X_test, movies = load('ratings_debug')\n",
    "    g = get_graph(X_train, 5, movies)\n",
    "    return sgd_gl_edge(g, X_train, X_valid, X_test, 0.01, 5)"
   ]
  },
  {
   "cell_type": "code",
   "execution_count": null,
   "metadata": {
    "collapsed": false
   },
   "outputs": [],
   "source": [
    "rmse_train, rmse_valid, rmse_test = run_full()"
   ]
  },
  {
   "cell_type": "code",
   "execution_count": null,
   "metadata": {
    "collapsed": true
   },
   "outputs": [],
   "source": []
  }
 ],
 "metadata": {
  "kernelspec": {
   "display_name": "Python 2",
   "language": "python",
   "name": "python2"
  },
  "language_info": {
   "codemirror_mode": {
    "name": "ipython",
    "version": 2
   },
   "file_extension": ".py",
   "mimetype": "text/x-python",
   "name": "python",
   "nbconvert_exporter": "python",
   "pygments_lexer": "ipython2",
   "version": "2.7.3"
  }
 },
 "nbformat": 4,
 "nbformat_minor": 0
}
