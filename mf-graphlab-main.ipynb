{
 "cells": [
  {
   "cell_type": "code",
   "execution_count": 1,
   "metadata": {
    "collapsed": false
   },
   "outputs": [
    {
     "name": "stderr",
     "output_type": "stream",
     "text": [
      "[INFO] This trial license of GraphLab Create is assigned to kanitw@gmail.com and will expire on June 26, 2015. Please contact trial@dato.com for licensing options or to request a free non-commercial license for personal or academic use.\n",
      "\n",
      "[INFO] Start server at: ipc:///tmp/graphlab_server-1784 - Server binary: /usr/local/lib/python2.7/site-packages/graphlab/unity_server - Server log: /tmp/graphlab_server_1433200655.log\n",
      "[INFO] GraphLab Server Version: 1.4.0\n"
     ]
    }
   ],
   "source": [
    "import graphlab as gl\n",
    "from graphlab import SFrame\n",
    "from graphlab import SGraph\n",
    "import numpy as np\n",
    "from random import sample\n",
    "import random\n",
    "import scipy.io as sio\n",
    "from itertools import izip\n",
    "from datetime import datetime\n",
    "from numpy.random import rand\n",
    "random.seed(123)\n",
    "np.random.seed(123)"
   ]
  },
  {
   "cell_type": "code",
   "execution_count": null,
   "metadata": {
    "collapsed": true
   },
   "outputs": [],
   "source": [
    "import lib"
   ]
  },
  {
   "cell_type": "code",
   "execution_count": null,
   "metadata": {
    "collapsed": true
   },
   "outputs": [],
   "source": [
    "reload(lib)\n",
    "from lib import load, get_features, prefix, remove, get_vertices, get_graph, \\\n",
    "    rmse_u,rmse, dot_feature, getLR, sgd_triple_updater"
   ]
  },
  {
   "cell_type": "code",
   "execution_count": null,
   "metadata": {
    "collapsed": true
   },
   "outputs": [],
   "source": [
    "import gflags\n",
    "\n",
    "FLAGS = gflags.FLAGS\n",
    "#gflags.DEFINE_string('train', 'netflix_mm_10000_1000', 'Training File')\n",
    "#gflags.DEFINE_string('test', 'netflix_mm_10000_1000', 'Testing File')\n",
    "gflags.DEFINE_string('dataset', 'ratings_debug', 'dataset')\n",
    "gflags.DEFINE_string('movie', 'movies', 'Testing File')\n",
    "gflags.DEFINE_integer('rank', 10, 'Matrix Rank')\n",
    "gflags.DEFINE_float('lamb', 0.1, 'Lambda')\n",
    "gflags.DEFINE_float('eta', 0.01, 'Learning Rate')\n",
    "gflags.DEFINE_integer('maxit', 50, 'Maximum Number of Iterations')\n",
    "gflags.DEFINE_integer('rmseint', 5, 'RMSE Computation Interval')\n",
    "gflags.DEFINE_integer('cores', -1, 'CPU cores')\n"
   ]
  },
  {
   "cell_type": "code",
   "execution_count": 54,
   "metadata": {
    "collapsed": true
   },
   "outputs": [],
   "source": [
    "n, m = (138493, 27278)\n",
    "ng, nht = 19, 40 #\n",
    "user_ids = range(n)\n",
    "movie_ids = range(m)\n",
    "uids = map(prefix('u'), user_ids)\n",
    "mids = map(prefix('m'), movie_ids)"
   ]
  },
  {
   "cell_type": "code",
   "execution_count": 89,
   "metadata": {
    "collapsed": false
   },
   "outputs": [],
   "source": [
    "movies = sio.mmread('data/movies.mtx').tocsr()\n",
    "movies.eliminate_zeros()\n",
    "movies_features = list(get_features(movies[i]) for i in xrange(m))"
   ]
  },
  {
   "cell_type": "code",
   "execution_count": 290,
   "metadata": {
    "collapsed": false
   },
   "outputs": [],
   "source": [
    "# updater = sgd_triple_updater(eta=0.05, lambda_u=0.01, lambda_v=0.01, unified=True, lambda_w=.01)\n",
    "# e = g.get_edges()[0]\n",
    "# src = g.get_vertices(ids=e['__src_id'])\n",
    "# dst = g.get_vertices(ids=e['__dst_id'])\n",
    "# updater(src, e, dst)"
   ]
  },
  {
   "cell_type": "code",
   "execution_count": 101,
   "metadata": {
    "collapsed": false
   },
   "outputs": [],
   "source": [
    "def sgd_gl_edge(g, X_train, X_test, \\\n",
    "                lambduh, k, eta=0.05, unified=False, lambduh_w=0, Niter=100, e_rmse=0.005, rmse_train=None, test_freq=5):\n",
    "    get_rmse = rmse_u if unified else rmse\n",
    "    \n",
    "    L, R, wu, wm, bu, bm = getLR(g, unified, k)\n",
    "    rmse_train = [get_rmse(X_train, L, R, wu, wm, bu, bm) if rmse_train is None else rmse_train]\n",
    "    rmse_test = []\n",
    "    \n",
    "    print \"%s: %.4f\" % (0,rmse_train[-1])\n",
    "    start = datetime.now()\n",
    "    \n",
    "    print 'eta=%s, lambduh=%s, lambduh=%s, unified=%s, lambduh_w=%s' % (eta, lambduh, lambduh, unified, lambduh_w)\n",
    "    \n",
    "    for i in xrange(1, Niter+1): \n",
    "        g = g.triple_apply(sgd_triple_updater(\\\n",
    "            eta, lambduh, lambduh, unified, lambduh_w), ['factors', 'w','b'])\n",
    "        \n",
    "        L, R, wu, wm, bu, bm = getLR(g, unified, k)\n",
    "        rmse_train.append(get_rmse(X_train, L, R, wu, wm, bu, bm))\n",
    "        \n",
    "        print \"%s : %.4f (time:%s)\" % (i, rmse_train[-1], datetime.now()-start)\n",
    "        if abs(rmse_train[-1] - rmse_train[-2]) < e_rmse or np.isnan(rmse_train[-1]):\n",
    "            break\n",
    "        if test_freq > 0 and i % test_freq == 0:\n",
    "            rmses_test.append((i,get_rmse(X_test, L, R, wu, wm, bu, bm)))\n",
    "    \n",
    "    rmse_test.append((i,get_rmse(X_test, L, R, wu, wm, bu, bm)))\n",
    "    print \"test=%.4f\" % (rmse_test[-1][1])\n",
    "    return rmse_train, rmse_test, L, R, wu, wm, bu, bm\n",
    "        "
   ]
  },
  {
   "cell_type": "code",
   "execution_count": 14,
   "metadata": {
    "collapsed": true
   },
   "outputs": [],
   "source": [
    "def run_full():\n",
    "    X_train, X_test = load('ratings')\n",
    "    g = get_graph(X_train, 5, movies)\n",
    "    return sgd_gl_edge(g, X_train, X_test, 0.01, 5)"
   ]
  },
  {
   "cell_type": "code",
   "execution_count": 71,
   "metadata": {
    "collapsed": true
   },
   "outputs": [],
   "source": [
    "def run_debug(g=None, Niter=1):\n",
    "    X_train, X_test = load('ratings_debug_small')\n",
    "    if g is None:\n",
    "        g = get_graph(X_train, 5, movies)\n",
    "    return sgd_gl_edge(g, X_train, X_test, 0.001, 5, 0.05, Niter=Niter, unified=True, lambduh_w=0.001)"
   ]
  },
  {
   "cell_type": "code",
   "execution_count": 72,
   "metadata": {
    "collapsed": false
   },
   "outputs": [
    {
     "name": "stdout",
     "output_type": "stream",
     "text": [
      "mse=3.0529\n",
      "0: 1.7473\n",
      "eta=0.05, lambduh=0.001, lambduh=0.001, unified=True, lambduh_w=0.001\n",
      "mse=2.0344\n",
      "1 : 1.4263 (time:0:00:33.239081)\n",
      "mse=3.1564\n",
      "test=1.7766\n"
     ]
    }
   ],
   "source": [
    "# rmse_train, rmse_test, L, R, wu, wm, bu, bm = run_debug()"
   ]
  },
  {
   "cell_type": "code",
   "execution_count": null,
   "metadata": {
    "collapsed": false
   },
   "outputs": [],
   "source": [
    "def eta_search(): \n",
    "    X_train_debug, X_test_debug = load('ratings_debug')\n",
    "    min_rmse_test = float('inf')\n",
    "    min_k, min_lambduh = None, None\n",
    "    rmse_map = {}\n",
    "    for eta in [0.01, 0.05, 0.1]:\n",
    "        print 'eta %s'%eta\n",
    "        for lambduh in [0.01]: #[0, 0.001, 0.01, 0.1, 1]:\n",
    "            for k in [5]: #, 10, 20]:\n",
    "                g = get_graph(X_train_debug, 5, movies)\n",
    "                rmse_train, rmse_test, L, R, wu, wm, bu, bm = \\\n",
    "                    sgd_gl_edge(g, X_train_debug, X_test_debug, lambduh, k, eta, Niter=3)\n",
    "                rmse_map.get(lambduh, {}).get(k,{})[eta] = rmse_test\n",
    "                print \"l=%s, k=%s, rmse=%.4f\" % (lambduh, k, rmse_test[-1][1])\n",
    "                if rmse_test[-1][1] < min_rmse_test  or np.isnan(rmse_test[-1][1]):\n",
    "                    min_rmse_test = rmse_test[-1][1]\n",
    "                    min_k = k\n",
    "                    min_eta = eta\n",
    "                    min_lambduh = lambduh\n",
    "    print min_eta\n",
    "    return rmse_map, min_lambduh, min_k, min_eta\n"
   ]
  },
  {
   "cell_type": "code",
   "execution_count": 102,
   "metadata": {
    "collapsed": false
   },
   "outputs": [],
   "source": [
    "# def search_pure_mf(eta=0.05, Niter=20, data='ratings_debug'):\n",
    "#     X_train_debug, X_test_debug = load(data)\n",
    "#     min_rmse_test = float('inf')\n",
    "#     min_k, min_lambduh = None, None\n",
    "#     rmse_map = {}\n",
    "#     for lambduh in [0.001, 0.01, 0.1]:\n",
    "#         for k in [5, 10, 20]:\n",
    "#             g = get_graph(X_train_debug, k, movies)\n",
    "#             rmse_trainunified, rmse_test, L, R, wu, wm, bu, bm = \\\n",
    "#                 sgd_gl_edge(g, X_train_debug, X_test_debug, lambduh, k, eta, Niter=Niter)\n",
    "#             rmse_map.get(lambduh, {})[k] = rmse_test\n",
    "#             print \"l=%s, k=%s, rmse=%.4f\" % (lambduh, k, rmse_test[-1][1])\n",
    "#             if rmse_test[-1][1] < min_rmse_test  or np.isnan(rmse_test[-1][1]):\n",
    "#                 min_rmse_test = rmse_test[-1][1]\n",
    "#                 min_k = k\n",
    "#                 min_lambduh = lambduh\n",
    "#     return min_rmse_test, min_lambduh, min_k\n",
    "\n",
    "\n",
    "def search_pure_mf(eta=0.05, Niter=20, data='ratings_debug'):\n",
    "    X_train_debug, X_test_debug = load(data)\n",
    "    min_rmse_test = float('inf')\n",
    "    min_k, min_lambduh = None, None\n",
    "    rmse_map = {}    \n",
    "    lambduh = 0.01\n",
    "    for k in [5, 10, 20]:\n",
    "        g = get_graph(X_train_debug, k, movies)\n",
    "        rmse_train, rmse_test, L, R, wu, wm, bu, bm = \\\n",
    "            sgd_gl_edge(g, X_train_debug, X_test_debug, lambduh, k, eta, Niter=Niter)\n",
    "        rmse_map.get(lambduh, {})[k] = rmse_test\n",
    "        print \"l=%s, k=%s, rmse=%.4f\" % (lambduh, k, rmse_test[-1][1])\n",
    "        if rmse_test[-1][1] < min_rmse_test or np.isnan(rmse_test[-1][1]):\n",
    "            min_rmse_test = rmse_test[-1][1]\n",
    "            min_k = k\n",
    "            min_lambduh = lambduh\n",
    "    k=min_k\n",
    "    for lambduh in [0.001, 0.1]:\n",
    "        g = get_graph(X_train_debug, k, movies)\n",
    "        rmse_trainunified, rmse_test, L, R, wu, wm, bu, bm = \\\n",
    "            sgd_gl_edge(g, X_train_debug, X_test_debug, lambduh, k, eta, Niter=Niter)\n",
    "        rmse_map.get(lambduh, {})[k] = rmse_test\n",
    "        print \"l=%s, k=%s, rmse=%.4f\" % (lambduh, k, rmse_test[-1][1])\n",
    "        if rmse_test[-1][1] < min_rmse_test  or np.isnan(rmse_test[-1][1]):\n",
    "            min_rmse_test = rmse_test[-1][1]\n",
    "            min_lambduh = lambduh\n",
    "    return min_rmse_test, min_lambduh, min_k\n",
    "    \n",
    "def run_pure_mf(min_lambduh, min_k, eta=0.05):\n",
    "    X_train, X_test = load('ratings')\n",
    "    g = get_graph(X_train, 5, movies)\n",
    "    rmse_train, rmse_test, L, R = \\\n",
    "                sgd_gl_edge(g, X_train, X_test, min_lambduh, min_k)\n",
    "    print rmse_test[-1][1]\n",
    "    return rmse_map, rmse_train, rmse_test"
   ]
  },
  {
   "cell_type": "code",
   "execution_count": 103,
   "metadata": {
    "collapsed": false
   },
   "outputs": [
    {
     "name": "stdout",
     "output_type": "stream",
     "text": [
      "get_graph 0:00:12.844179\n",
      "0: 1.7540\n",
      "eta=0.05, lambduh=0.01, lambduh=0.01, unified=False, lambduh_w=0\n",
      "1 : 0.9529 (time:0:00:14.133717)\n",
      "test=1.5757\n",
      "l=0.01, k=5, rmse=1.5757\n",
      "get_graph 0:00:12.503156\n",
      "0: 1.4427\n",
      "eta=0.05, lambduh=0.01, lambduh=0.01, unified=False, lambduh_w=0\n",
      "1 : 0.7969 (time:0:00:15.433969)\n",
      "test=1.3467\n",
      "l=0.01, k=10, rmse=1.3467\n",
      "get_graph 0:00:12.768615\n",
      "0: 1.2455\n",
      "eta=0.05, lambduh=0.01, lambduh=0.01, unified=False, lambduh_w=0\n",
      "1 : 0.7073 (time:0:00:19.190016)\n",
      "test=1.1824\n",
      "l=0.01, k=20, rmse=1.1824\n",
      "get_graph 0:00:13.598673\n",
      "0: 1.2667\n",
      "eta=0.05, lambduh=0.001, lambduh=0.001, unified=False, lambduh_w=0\n",
      "1 : 0.7067 (time:0:00:20.462753)\n",
      "test=1.1813\n",
      "l=0.001, k=20, rmse=1.1813\n",
      "get_graph 0:00:13.359637\n",
      "0: 1.2597\n",
      "eta=0.05, lambduh=0.1, lambduh=0.1, unified=False, lambduh_w=0\n",
      "1 : 0.7158 (time:0:00:19.785258)\n",
      "test=1.1864\n",
      "l=0.1, k=20, rmse=1.1864\n"
     ]
    }
   ],
   "source": [
    "# optimal_mf = search_pure_mf()\n",
    "optimal_mf = search_pure_mf(data='ratings_debug_small', Niter=1)"
   ]
  },
  {
   "cell_type": "code",
   "execution_count": null,
   "metadata": {
    "collapsed": false,
    "scrolled": true
   },
   "outputs": [],
   "source": [
    "# rmse_map, rmse_train, rmse_test = run_pure_mf(min_lambduh, min_k)"
   ]
  },
  {
   "cell_type": "code",
   "execution_count": 105,
   "metadata": {
    "collapsed": false
   },
   "outputs": [],
   "source": [
    "def search_cf(eta=0.05, Niter=20, data='ratings_debug'):\n",
    "    X_train_debug, X_test_debug = load(data)\n",
    "    min_rmse_test = float('inf')\n",
    "    min_k, min_lambduh, min_lambduh_w = None, None, None\n",
    "    rmse_map = {}\n",
    "    lambduh, lambduh_w = 0.01, 0.01\n",
    "    for k in [5, 10, 20]:\n",
    "        g = get_graph(X_train_debug, k, movies)\n",
    "        rmse_train, rmse_test, L, R, wu, wm, bu, bm = \\\n",
    "            sgd_gl_edge(g, X_train_debug, X_test_debug, lambduh, k, eta, \\\n",
    "                        unified=True, lambduh_w=lambduh_w, Niter=Niter)\n",
    "        rmse_map.get(lambduh, {}).get(k,{})[lambduh_w] = rmse_test\n",
    "        print \"l=%s, k=%s, l_w=%s, rmse=%.4f\" % (lambduh, k, lambduh_w, rmse_test[-1][1])\n",
    "        if rmse_test[-1][1] < min_rmse_test or np.isnan(rmse_test[-1][1]):\n",
    "            min_rmse_test = rmse_test[-1][1]\n",
    "            min_k = k\n",
    "    k=min_k\n",
    "    for lambduh in [0.001, 0.01, 0.1]:\n",
    "        for lambduh_w in [0.001, 0.01, 0.1]:\n",
    "            g = get_graph(X_train_debug, k, movies)\n",
    "            rmse_train, rmse_test, L, R, wu, wm, bu, bm = \\\n",
    "                sgd_gl_edge(g, X_train_debug, X_test_debug, lambduh, k, eta, \\\n",
    "                            unified=True, lambduh_w=lambduh_w, Niter=Niter)\n",
    "            rmse_map.get(lambduh, {}).get(k,{})[lambduh_w] = rmse_test\n",
    "            \n",
    "            print \"l=%s, k=%s, l_w=%s, rmse=%.4f\" % (lambduh, k, lambduh_w, rmse_test[-1][1])\n",
    "            if rmse_test[-1][1] < min_rmse_test or np.isnan(rmse_test[-1][1]):\n",
    "                min_rmse_test = rmse_test[-1][1]\n",
    "                min_lambduh = lambduh\n",
    "                min_lambduh_w = lambduh_w\n",
    "\n",
    "    return min_rmse_test, min_lambduh, min_k, min_lambduh_w\n",
    "    \n",
    "def run_cf(min_lambduh, min_k, min_lambduh_w, eta=0.05):\n",
    "    X_train, X_test = load('ratings')\n",
    "    g = get_graph(X_train, min_k, movies)\n",
    "    rmse_train, rmse_test, L, R = \\\n",
    "                sgd_gl_edge(g, X_train, X_test, min_lambduh, min_k, min_eta, \\\n",
    "                                unified=True, lambduh_w=min_lambduh_w)\n",
    "    print rmse_test[-1][1]\n",
    "    return rmse_map, rmse_train, rmse_test"
   ]
  },
  {
   "cell_type": "code",
   "execution_count": null,
   "metadata": {
    "collapsed": true
   },
   "outputs": [],
   "source": [
    "# def search_cf(eta=0.05):\n",
    "#     X_train_debug, X_test_debug = load('ratings_debug')\n",
    "#     min_rmse_test = float('inf')\n",
    "#     min_k, min_lambduh, min_lambduh_w = None, None, None\n",
    "#     rmse_map = {}\n",
    "#     for k in [5, 10, 20]:\n",
    "#         for lambduh in [0.001, 0.01, 0.1]:\n",
    "#             for lambduh_w in [0.001, 0.01, 0.1]:\n",
    "#                 g = get_graph(X_train_debug, k, movies)\n",
    "#                 rmse_train, rmse_test, L, R, wu, wm, bu, bm = \\\n",
    "#                     sgd_gl_edge(g, X_train_debug, X_test_debug, lambduh, k, eta, \\\n",
    "#                                 unified=True, lambduh_w=lambduh_w)\n",
    "#                 rmse_map.get(lambduh, {}).get(k,{})[lambduh_w] = rmse_test\n",
    "#                 print \"l=%s, k=%s, l_w=%s, rmse=%.4f\" % (lambduh, k, lambduh_w, rmse_test)\n",
    "#                 if rmse_test < min_rmse_test or np.isnan(rmse_test):\n",
    "#                     min_rmse_test = rmse_test\n",
    "#                     min_k = k\n",
    "#                     min_lambduh = lambduh\n",
    "#                     min_lambduh_w = lambduh_w\n",
    "\n",
    "#     return min_rmse_test, min_lambduh, min_k, min_lambduh_w"
   ]
  },
  {
   "cell_type": "code",
   "execution_count": null,
   "metadata": {
    "collapsed": true
   },
   "outputs": [],
   "source": [
    "# run coldstart to predict cold-start dataset\n",
    "def run_cf2(min_lambduh, min_k, min_lambduh_w, eta=0.05):\n",
    "    X_train, X_test = load('ratings_cs')\n",
    "    g = get_graph(X_train, min_k, movies)\n",
    "    rmse_train, rmse_test, L, R = \\\n",
    "                sgd_gl_edge(g, X_train, X_test, min_lambduh, min_k, min_eta, \\\n",
    "                                unified=true, lambduh_w=min_lambduh_w)\n",
    "    print rmse_test\n",
    "    return rmse_map, rmse_train, rmse_test"
   ]
  },
  {
   "cell_type": "code",
   "execution_count": null,
   "metadata": {
    "collapsed": false
   },
   "outputs": [],
   "source": [
    "# optimal_cf = search_cf()\n",
    "optimal_cf = search_cf(data='ratings_debug_small', Niter=1)"
   ]
  },
  {
   "cell_type": "code",
   "execution_count": null,
   "metadata": {
    "collapsed": true
   },
   "outputs": [],
   "source": [
    "# rmses_cf = run_cf(min_lambduh, min_k, min_lambduh_w)\n",
    "# rmses_cf2 = run_cf2(min_lambduh, min_k, min_lambduh_w)"
   ]
  },
  {
   "cell_type": "code",
   "execution_count": 64,
   "metadata": {
    "collapsed": true
   },
   "outputs": [],
   "source": [
    "# def main(argv):\n",
    "#     try:\n",
    "#       argv = FLAGS(argv)  # parse flags\n",
    "#     except gflags.FlagsError, e:\n",
    "#       print '%s\\\\nUsage: %s ARGS\\\\n%s' % (e, sys.argv[0], FLAGS)\n",
    "#       sys.exit(1)\n",
    "\n",
    "#     if FLAGS.cores == -1:\n",
    "#         FLAGS.cores = mp.cpu_count()\n",
    "\n",
    "#     for flag_name in sorted(FLAGS.RegisteredFlags()):\n",
    "#         if flag_name not in [\"?\", \"help\", \"helpshort\", \"helpxml\"]:\n",
    "#             fl = FLAGS.FlagDict()[flag_name]\n",
    "#             print \"# \" + fl.help + \" (\" + flag_name + \"): \" + str(fl.value)\n",
    "    \n",
    "#     X_train, X_test = load(FLAGS.dataset)\n",
    "#     g = get_graph(X_train, FLAGS.rank, movies)\n",
    "        \n",
    "#     rmse_train, rmse_test, L, R, wu, wm, bu, bm = \\\n",
    "#         sgd_gl_edge(g, X_train, X_test, \\\n",
    "#                     FLAGS.lamb, FLAGS.rank, FLAGS.eta, Niter=FLAGS.maxit)\n",
    "    \n",
    "#     print 'rmse_train', rmse_train\n",
    "#     print 'rmse_test', rmse_test"
   ]
  }
 ],
 "metadata": {
  "kernelspec": {
   "display_name": "Python 2",
   "language": "python",
   "name": "python2"
  },
  "language_info": {
   "codemirror_mode": {
    "name": "ipython",
    "version": 2
   },
   "file_extension": ".py",
   "mimetype": "text/x-python",
   "name": "python",
   "nbconvert_exporter": "python",
   "pygments_lexer": "ipython2",
   "version": "2.7.3"
  }
 },
 "nbformat": 4,
 "nbformat_minor": 0
}
