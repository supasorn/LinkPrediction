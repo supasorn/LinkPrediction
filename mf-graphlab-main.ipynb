{
 "cells": [
  {
   "cell_type": "code",
   "execution_count": 1,
   "metadata": {
    "collapsed": false
   },
   "outputs": [
    {
     "name": "stderr",
     "output_type": "stream",
     "text": [
      "[INFO] This trial license of GraphLab Create is assigned to kanitw@gmail.com and will expire on June 26, 2015. Please contact trial@dato.com for licensing options or to request a free non-commercial license for personal or academic use.\n",
      "\n",
      "[INFO] Start server at: ipc:///tmp/graphlab_server-2189 - Server binary: /usr/local/lib/python2.7/site-packages/graphlab/unity_server - Server log: /tmp/graphlab_server_1433269387.log\n",
      "[INFO] GraphLab Server Version: 1.4.0\n"
     ]
    }
   ],
   "source": [
    "import graphlab as gl\n",
    "from graphlab import SFrame\n",
    "from graphlab import SGraph\n",
    "import numpy as np\n",
    "from random import sample\n",
    "import random\n",
    "import scipy.io as sio\n",
    "from itertools import izip\n",
    "from datetime import datetime\n",
    "from numpy.random import rand\n",
    "random.seed(123)\n",
    "np.random.seed(123)"
   ]
  },
  {
   "cell_type": "code",
   "execution_count": 2,
   "metadata": {
    "collapsed": true
   },
   "outputs": [],
   "source": [
    "import lib"
   ]
  },
  {
   "cell_type": "code",
   "execution_count": 30,
   "metadata": {
    "collapsed": false
   },
   "outputs": [],
   "source": [
    "reload(lib)\n",
    "from lib import n, m, ng, nht, \\\n",
    "    user_ids, movie_ids, uids, mids, movies, movies_features,\\\n",
    "    load, get_features, prefix, remove, get_vertices, get_graph, \\\n",
    "    rmse_u, rmse, dot_feature, getLR, \\\n",
    "    sgd_triple_updater, sgd_gl_edge, \\\n",
    "    run_full, run_debug, search_mf, run_mf, \\\n",
    "    search_unified, search_pure"
   ]
  },
  {
   "cell_type": "code",
   "execution_count": 24,
   "metadata": {
    "collapsed": false
   },
   "outputs": [
    {
     "name": "stdout",
     "output_type": "stream",
     "text": [
      "get_graph 0:00:12.748103\n",
      "eta=0.05, lambduh=0.001, unified=True, lambduh_w=0.001\n",
      "\n",
      " i,  type,   rmse,           time\n",
      " 0, train, 1.7583, 0:00:00.004280\n",
      " 1, train, 0.9946, 0:00:30.819800\n",
      " 1,  test, 1.6745, 0:00:35.972806\n"
     ]
    }
   ],
   "source": [
    "# rmse_train, rmse_test, L, R, wu, wm, bu, bm = run_debug()"
   ]
  },
  {
   "cell_type": "code",
   "execution_count": 31,
   "metadata": {
    "collapsed": false
   },
   "outputs": [
    {
     "name": "stdout",
     "output_type": "stream",
     "text": [
      "get_graph 0:00:15.128367\n",
      "eta=0.05, lambduh=0.01, unified=False, lambduh_w=0\n",
      "\n",
      " i,  type,   rmse,           time\n",
      " 0, train, 1.7510, 0:00:00.000916\n",
      " 1, train, 0.9306, 0:02:16.002838\n",
      " 2, train, 0.8704, 0:04:53.228919\n",
      " 3, train, 0.8417, 0:07:25.974902\n",
      " 4, train, 0.8278, 0:10:13.378702\n",
      " 5, train, 0.8139, 0:12:48.617594\n",
      "5,  test, 1.0209, 0:12:49.536016\n",
      " 6, train, 0.8037, 0:15:15.633203\n",
      " 7, train, 0.7904, 0:17:45.070440\n",
      " 8, train, 0.7836, 0:20:18.492807\n",
      " 9, train, 0.7756, 0:22:43.951778\n",
      "10, train, 0.7629, 0:25:11.155791\n",
      "10,  test, 1.0638, 0:25:12.151043\n",
      "11, train, 0.7554, 0:27:35.467904\n",
      "12, train, 0.7446, 0:30:08.172370\n",
      "13, train, 0.7353, 0:32:01.120403\n",
      "14, train, 0.7290, 0:33:48.637352\n",
      "15, train, 0.7233, 0:35:41.000540\n",
      "15,  test, 1.0969, 0:35:41.843418\n",
      "16, train, 0.7122, 0:38:27.868253\n",
      "17, train, 0.7124, 0:40:26.043918\n",
      "17,  test, 1.1086, 0:40:26.909831\n",
      "l=0.01, k=5, rmse=1.1086\n",
      "get_graph 0:00:15.086946\n",
      "eta=0.05, lambduh=0.01, unified=False, lambduh_w=0\n",
      "\n",
      " i,  type,   rmse,           time\n",
      " 0, train, 1.4309, 0:00:00.000947\n",
      " 1, train, 0.8956, 0:02:16.327550\n",
      " 2, train, 0.8407, 0:04:27.581173\n",
      " 3, train, 0.8064, 0:06:08.133471\n",
      " 4, train, 0.7753, 0:08:00.089375\n",
      " 5, train, 0.7453, 0:09:46.406244\n",
      "5,  test, 1.0392, 0:09:47.568279\n",
      " 6, train, 0.7204, 0:11:41.518937\n",
      " 7, train, 0.6901, 0:13:37.049333\n",
      " 8, train, 0.6660, 0:15:57.619971\n",
      " 9, train, 0.6434, 0:17:59.568486\n",
      "10, train, 0.6252, 0:20:04.086473\n",
      "10,  test, 1.1146, 0:20:05.289385\n",
      "11, train, 0.6097, 0:22:24.587789\n",
      "12, train, 0.5969, 0:24:50.950800\n",
      "13, train, 0.5843, 0:27:06.626705\n",
      "14, train, 0.5740, 0:28:53.866868\n",
      "15, train, 0.5674, 0:31:02.392810\n",
      "15,  test, 1.1569, 0:31:03.597243\n",
      "16, train, 0.5545, 0:33:28.729669\n",
      "17, train, 0.5466, 0:35:43.597343\n",
      "18, train, 0.5392, 0:38:02.497454\n",
      "19, train, 0.5362, 0:40:13.326607\n",
      "19,  test, 1.1751, 0:40:14.479632\n",
      "l=0.01, k=10, rmse=1.1751\n",
      "get_graph 0:00:15.634449\n",
      "eta=0.05, lambduh=0.01, unified=False, lambduh_w=0\n",
      "\n",
      " i,  type,   rmse,           time\n",
      " 0, train, 1.2593, 0:00:00.005204\n",
      " 1, train, 0.8626, 0:02:21.368870\n",
      " 2, train, 0.7997, 0:04:53.560048\n",
      " 3, train, 0.7372, 0:07:13.623636\n",
      " 4, train, 0.6713, 0:10:03.399179\n",
      " 5, train, 0.6066, 0:12:55.162933\n",
      "5,  test, 1.0570, 0:12:56.946516\n",
      " 6, train, 0.5544, 0:15:21.896823\n",
      " 7, train, 0.5107, 0:17:47.105627\n",
      " 8, train, 0.4761, 0:20:19.634842\n",
      " 9, train, 0.4482, 0:22:41.258626\n",
      "10, train, 0.4257, 0:25:27.893451\n",
      "10,  test, 1.1253, 0:25:30.561225\n",
      "11, train, 0.4066, 0:27:58.364231\n",
      "12, train, 0.3905, 0:30:34.198624\n",
      "13, train, 0.3762, 0:33:13.732350\n",
      "14, train, 0.3654, 0:35:46.014813\n",
      "15, train, 0.3524, 0:38:07.322686\n",
      "15,  test, 1.1472, 0:38:09.183184\n",
      "16, train, 0.3473, 0:40:39.778697\n",
      "17, train, 0.3389, 0:42:59.836594\n",
      "18, train, 0.3338, 0:45:37.440206\n",
      "19, train, 0.3248, 0:47:51.862022\n",
      "20, train, 0.3165, 0:50:27.400476\n",
      "20,  test, 1.1604, 0:50:29.616000\n",
      "20,  test, 1.1604, 0:50:31.429319\n",
      "l=0.01, k=20, rmse=1.1604\n",
      "get_graph 0:00:16.729188\n",
      "eta=0.05, lambduh=0.001, unified=False, lambduh_w=0\n",
      "\n",
      " i,  type,   rmse,           time\n",
      " 0, train, 1.7437, 0:00:00.001658\n"
     ]
    },
    {
     "ename": "RuntimeError",
     "evalue": "Runtime Exception. Cancelled by user.",
     "output_type": "error",
     "traceback": [
      "\u001b[0;31m---------------------------------------------------------------------------\u001b[0m",
      "\u001b[0;31mRuntimeError\u001b[0m                              Traceback (most recent call last)",
      "\u001b[0;32m<ipython-input-31-e6e440fdf578>\u001b[0m in \u001b[0;36m<module>\u001b[0;34m()\u001b[0m\n\u001b[0;32m----> 1\u001b[0;31m \u001b[0moptimal_mf\u001b[0m \u001b[0;34m=\u001b[0m \u001b[0msearch_pure_coor\u001b[0m\u001b[0;34m(\u001b[0m\u001b[0;34m)\u001b[0m\u001b[0;34m\u001b[0m\u001b[0m\n\u001b[0m\u001b[1;32m      2\u001b[0m \u001b[0;31m# optimal_mf = search_pure_mf(data='ratings_debug_small', Niter=1)\u001b[0m\u001b[0;34m\u001b[0m\u001b[0;34m\u001b[0m\u001b[0m\n",
      "\u001b[0;32m/Users/kanitw/Documents/_code/_hw/cse547-hw/project/LinkPrediction/lib.py\u001b[0m in \u001b[0;36msearch_pure_coor\u001b[0;34m(eta, Niter, data)\u001b[0m\n\u001b[1;32m    295\u001b[0m     \u001b[0;32mprint\u001b[0m \u001b[0mrmse_test\u001b[0m\u001b[0;34m[\u001b[0m\u001b[0;34m-\u001b[0m\u001b[0;36m1\u001b[0m\u001b[0;34m]\u001b[0m\u001b[0;34m[\u001b[0m\u001b[0;36m1\u001b[0m\u001b[0;34m]\u001b[0m\u001b[0;34m\u001b[0m\u001b[0m\n\u001b[1;32m    296\u001b[0m     \u001b[0;32mreturn\u001b[0m \u001b[0mrmse_train\u001b[0m\u001b[0;34m,\u001b[0m \u001b[0mrmse_test\u001b[0m\u001b[0;34m\u001b[0m\u001b[0m\n\u001b[0;32m--> 297\u001b[0;31m \u001b[0;34m\u001b[0m\u001b[0m\n\u001b[0m\u001b[1;32m    298\u001b[0m \u001b[0;34m\u001b[0m\u001b[0m\n\u001b[1;32m    299\u001b[0m \u001b[0;32mdef\u001b[0m \u001b[0msearch_unified_coor\u001b[0m\u001b[0;34m(\u001b[0m\u001b[0meta\u001b[0m\u001b[0;34m=\u001b[0m\u001b[0;36m0.05\u001b[0m\u001b[0;34m,\u001b[0m \u001b[0mNiter\u001b[0m\u001b[0;34m=\u001b[0m\u001b[0;36m20\u001b[0m\u001b[0;34m,\u001b[0m \u001b[0mdata\u001b[0m\u001b[0;34m=\u001b[0m\u001b[0;34m'ratings_debug'\u001b[0m\u001b[0;34m)\u001b[0m\u001b[0;34m:\u001b[0m\u001b[0;34m\u001b[0m\u001b[0m\n",
      "\u001b[0;32m/Users/kanitw/Documents/_code/_hw/cse547-hw/project/LinkPrediction/lib.py\u001b[0m in \u001b[0;36msgd_gl_edge\u001b[0;34m(g, X_train, X_test, lambduh, k, eta, unified, lambduh_w, Niter, e_rmse, test_freq, output, save_freq, start_i)\u001b[0m\n\u001b[1;32m    229\u001b[0m     \u001b[0;32mfor\u001b[0m \u001b[0mi\u001b[0m \u001b[0;32min\u001b[0m \u001b[0mxrange\u001b[0m\u001b[0;34m(\u001b[0m\u001b[0mstart_i\u001b[0m\u001b[0;34m+\u001b[0m\u001b[0;36m1\u001b[0m\u001b[0;34m,\u001b[0m \u001b[0mNiter\u001b[0m \u001b[0;34m+\u001b[0m \u001b[0;36m1\u001b[0m\u001b[0;34m)\u001b[0m\u001b[0;34m:\u001b[0m\u001b[0;34m\u001b[0m\u001b[0m\n\u001b[1;32m    230\u001b[0m         g = g.triple_apply(sgd_triple_updater(\n\u001b[0;32m--> 231\u001b[0;31m             eta, lambduh, lambduh, unified, lambduh_w), ['factors', 'w', 'b'])\n\u001b[0m\u001b[1;32m    232\u001b[0m \u001b[0;34m\u001b[0m\u001b[0m\n\u001b[1;32m    233\u001b[0m         \u001b[0mL\u001b[0m\u001b[0;34m,\u001b[0m \u001b[0mR\u001b[0m\u001b[0;34m,\u001b[0m \u001b[0mwu\u001b[0m\u001b[0;34m,\u001b[0m \u001b[0mwm\u001b[0m\u001b[0;34m,\u001b[0m \u001b[0mbu\u001b[0m\u001b[0;34m,\u001b[0m \u001b[0mbm\u001b[0m \u001b[0;34m=\u001b[0m \u001b[0mgetLR\u001b[0m\u001b[0;34m(\u001b[0m\u001b[0mg\u001b[0m\u001b[0;34m,\u001b[0m \u001b[0munified\u001b[0m\u001b[0;34m,\u001b[0m \u001b[0mk\u001b[0m\u001b[0;34m)\u001b[0m\u001b[0;34m\u001b[0m\u001b[0m\n",
      "\u001b[0;32m/usr/local/lib/python2.7/site-packages/graphlab/data_structures/sgraph.pyc\u001b[0m in \u001b[0;36mtriple_apply\u001b[0;34m(self, triple_apply_fn, mutated_fields, input_fields)\u001b[0m\n\u001b[1;32m   1018\u001b[0m         \u001b[0;32melse\u001b[0m\u001b[0;34m:\u001b[0m\u001b[0;34m\u001b[0m\u001b[0m\n\u001b[1;32m   1019\u001b[0m             \u001b[0;32mwith\u001b[0m \u001b[0mcython_context\u001b[0m\u001b[0;34m(\u001b[0m\u001b[0;34m)\u001b[0m\u001b[0;34m:\u001b[0m\u001b[0;34m\u001b[0m\u001b[0m\n\u001b[0;32m-> 1020\u001b[0;31m                 \u001b[0;32mreturn\u001b[0m \u001b[0mSGraph\u001b[0m\u001b[0;34m(\u001b[0m\u001b[0m_proxy\u001b[0m\u001b[0;34m=\u001b[0m\u001b[0mg\u001b[0m\u001b[0;34m.\u001b[0m\u001b[0m__proxy__\u001b[0m\u001b[0;34m.\u001b[0m\u001b[0mlambda_triple_apply\u001b[0m\u001b[0;34m(\u001b[0m\u001b[0mtriple_apply_fn\u001b[0m\u001b[0;34m,\u001b[0m \u001b[0mmutated_fields\u001b[0m\u001b[0;34m)\u001b[0m\u001b[0;34m)\u001b[0m\u001b[0;34m\u001b[0m\u001b[0m\n\u001b[0m\u001b[1;32m   1021\u001b[0m \u001b[0;34m\u001b[0m\u001b[0m\n\u001b[1;32m   1022\u001b[0m     \u001b[0;32mdef\u001b[0m \u001b[0msave\u001b[0m\u001b[0;34m(\u001b[0m\u001b[0mself\u001b[0m\u001b[0;34m,\u001b[0m \u001b[0mfilename\u001b[0m\u001b[0;34m,\u001b[0m \u001b[0mformat\u001b[0m\u001b[0;34m=\u001b[0m\u001b[0;34m'auto'\u001b[0m\u001b[0;34m)\u001b[0m\u001b[0;34m:\u001b[0m\u001b[0;34m\u001b[0m\u001b[0m\n",
      "\u001b[0;32m/usr/local/lib/python2.7/site-packages/graphlab/cython/context.pyc\u001b[0m in \u001b[0;36m__exit__\u001b[0;34m(self, exc_type, exc_value, traceback)\u001b[0m\n\u001b[1;32m     29\u001b[0m     \u001b[0;32mdef\u001b[0m \u001b[0m__exit__\u001b[0m\u001b[0;34m(\u001b[0m\u001b[0mself\u001b[0m\u001b[0;34m,\u001b[0m \u001b[0mexc_type\u001b[0m\u001b[0;34m,\u001b[0m \u001b[0mexc_value\u001b[0m\u001b[0;34m,\u001b[0m \u001b[0mtraceback\u001b[0m\u001b[0;34m)\u001b[0m\u001b[0;34m:\u001b[0m\u001b[0;34m\u001b[0m\u001b[0m\n\u001b[1;32m     30\u001b[0m         \u001b[0;32mif\u001b[0m \u001b[0;32mnot\u001b[0m \u001b[0mself\u001b[0m\u001b[0;34m.\u001b[0m\u001b[0mshow_cython_trace\u001b[0m \u001b[0;32mand\u001b[0m \u001b[0mexc_type\u001b[0m\u001b[0;34m:\u001b[0m\u001b[0;34m\u001b[0m\u001b[0m\n\u001b[0;32m---> 31\u001b[0;31m             \u001b[0;32mraise\u001b[0m \u001b[0mexc_type\u001b[0m\u001b[0;34m(\u001b[0m\u001b[0mexc_value\u001b[0m\u001b[0;34m)\u001b[0m\u001b[0;34m\u001b[0m\u001b[0m\n\u001b[0m",
      "\u001b[0;31mRuntimeError\u001b[0m: Runtime Exception. Cancelled by user."
     ]
    }
   ],
   "source": [
    "optimal_mf = search_pure_coor()\n",
    "# optimal_mf = search_pure_mf(data='ratings_debug_small', Niter=1)"
   ]
  },
  {
   "cell_type": "code",
   "execution_count": null,
   "metadata": {
    "collapsed": false,
    "scrolled": true
   },
   "outputs": [],
   "source": [
    "# rmse_map, rmse_train, rmse_test = run_pure_mf(min_lambduh, min_k)"
   ]
  },
  {
   "cell_type": "code",
   "execution_count": null,
   "metadata": {
    "collapsed": false
   },
   "outputs": [],
   "source": [
    "optimal_cf = search_unified_coor()\n",
    "# optimal_cf = search_cf(data='ratings_debug_small', Niter=1)"
   ]
  },
  {
   "cell_type": "code",
   "execution_count": null,
   "metadata": {
    "collapsed": true
   },
   "outputs": [],
   "source": [
    "# rmses_cf = run_cf(min_lambduh, min_k, min_lambduh_w)\n",
    "# rmses_cf2 = run_cf2(min_lambduh, min_k, min_lambduh_w)"
   ]
  },
  {
   "cell_type": "code",
   "execution_count": 27,
   "metadata": {
    "collapsed": true
   },
   "outputs": [],
   "source": [
    "from itertools import product"
   ]
  },
  {
   "cell_type": "code",
   "execution_count": 29,
   "metadata": {
    "collapsed": false
   },
   "outputs": [
    {
     "data": {
      "text/plain": [
       "[(1, 2), (1, 3), (2, 2), (2, 3)]"
      ]
     },
     "execution_count": 29,
     "metadata": {},
     "output_type": "execute_result"
    }
   ],
   "source": [
    "[(a,b) for a,b in product([1,2],[2,3])]"
   ]
  },
  {
   "cell_type": "code",
   "execution_count": null,
   "metadata": {
    "collapsed": true
   },
   "outputs": [],
   "source": []
  }
 ],
 "metadata": {
  "kernelspec": {
   "display_name": "Python 2",
   "language": "python",
   "name": "python2"
  },
  "language_info": {
   "codemirror_mode": {
    "name": "ipython",
    "version": 2
   },
   "file_extension": ".py",
   "mimetype": "text/x-python",
   "name": "python",
   "nbconvert_exporter": "python",
   "pygments_lexer": "ipython2",
   "version": "2.7.3"
  }
 },
 "nbformat": 4,
 "nbformat_minor": 0
}
