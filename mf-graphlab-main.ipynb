{
 "cells": [
  {
   "cell_type": "code",
   "execution_count": 1,
   "metadata": {
    "collapsed": false
   },
   "outputs": [
    {
     "name": "stderr",
     "output_type": "stream",
     "text": [
      "[INFO] This trial license of GraphLab Create is assigned to kanitw@gmail.com and will expire on June 26, 2015. Please contact trial@dato.com for licensing options or to request a free non-commercial license for personal or academic use.\n",
      "\n",
      "[INFO] Start server at: ipc:///tmp/graphlab_server-1784 - Server binary: /usr/local/lib/python2.7/site-packages/graphlab/unity_server - Server log: /tmp/graphlab_server_1433200655.log\n",
      "[INFO] GraphLab Server Version: 1.4.0\n"
     ]
    }
   ],
   "source": [
    "import graphlab as gl\n",
    "from graphlab import SFrame\n",
    "from graphlab import SGraph\n",
    "import numpy as np\n",
    "from random import sample\n",
    "import random\n",
    "import scipy.io as sio\n",
    "from itertools import izip\n",
    "from datetime import datetime\n",
    "from numpy.random import rand\n",
    "random.seed(123)"
   ]
  },
  {
   "cell_type": "code",
   "execution_count": 2,
   "metadata": {
    "collapsed": false
   },
   "outputs": [],
   "source": [
    "def load(name):\n",
    "    return gl.load_sframe('data/%s_train.sframe' % name), \\\n",
    "        gl.load_sframe('data/%s_test.sframe' % name)"
   ]
  },
  {
   "cell_type": "code",
   "execution_count": 52,
   "metadata": {
    "collapsed": true
   },
   "outputs": [],
   "source": [
    "def get_features(m):\n",
    "    return dict(zip(m.indices, m.data))"
   ]
  },
  {
   "cell_type": "code",
   "execution_count": 5,
   "metadata": {
    "collapsed": true
   },
   "outputs": [],
   "source": [
    "def prefix(p):\n",
    "    return lambda x: \"%s%s\"%(p,x)\n",
    "\n",
    "def remove(c):\n",
    "    def r(x):\n",
    "        del x[c]\n",
    "        return x\n",
    "    return r"
   ]
  },
  {
   "cell_type": "code",
   "execution_count": 54,
   "metadata": {
    "collapsed": true
   },
   "outputs": [],
   "source": [
    "n, m = (138493, 27278)\n",
    "ng, nht = 19, 40 #\n",
    "user_ids = range(n)\n",
    "movie_ids = range(m)\n",
    "uids = map(prefix('u'), user_ids)\n",
    "mids = map(prefix('m'), movie_ids)"
   ]
  },
  {
   "cell_type": "code",
   "execution_count": 57,
   "metadata": {
    "collapsed": false
   },
   "outputs": [
    {
     "ename": "KeyboardInterrupt",
     "evalue": "",
     "output_type": "error",
     "traceback": [
      "\u001b[0;31m---------------------------------------------------------------------------\u001b[0m",
      "\u001b[0;31mKeyboardInterrupt\u001b[0m                         Traceback (most recent call last)",
      "\u001b[0;32m<ipython-input-57-cd9320a8a636>\u001b[0m in \u001b[0;36m<module>\u001b[0;34m()\u001b[0m\n\u001b[1;32m      1\u001b[0m \u001b[0mmovies\u001b[0m \u001b[0;34m=\u001b[0m \u001b[0msio\u001b[0m\u001b[0;34m.\u001b[0m\u001b[0mmmread\u001b[0m\u001b[0;34m(\u001b[0m\u001b[0;34m'data/movies.mtx'\u001b[0m\u001b[0;34m)\u001b[0m\u001b[0;34m.\u001b[0m\u001b[0mtocsr\u001b[0m\u001b[0;34m(\u001b[0m\u001b[0;34m)\u001b[0m\u001b[0;34m\u001b[0m\u001b[0m\n\u001b[1;32m      2\u001b[0m \u001b[0mmovies\u001b[0m\u001b[0;34m.\u001b[0m\u001b[0meliminate_zeros\u001b[0m\u001b[0;34m(\u001b[0m\u001b[0;34m)\u001b[0m\u001b[0;34m\u001b[0m\u001b[0m\n\u001b[0;32m----> 3\u001b[0;31m \u001b[0mmovies_features\u001b[0m \u001b[0;34m=\u001b[0m \u001b[0mlist\u001b[0m\u001b[0;34m(\u001b[0m\u001b[0mget_features\u001b[0m\u001b[0;34m(\u001b[0m\u001b[0mmovies\u001b[0m\u001b[0;34m[\u001b[0m\u001b[0mi\u001b[0m\u001b[0;34m]\u001b[0m\u001b[0;34m)\u001b[0m \u001b[0;32mfor\u001b[0m \u001b[0mi\u001b[0m \u001b[0;32min\u001b[0m \u001b[0mxrange\u001b[0m\u001b[0;34m(\u001b[0m\u001b[0mm\u001b[0m\u001b[0;34m)\u001b[0m\u001b[0;34m)\u001b[0m\u001b[0;34m\u001b[0m\u001b[0m\n\u001b[0m",
      "\u001b[0;31mKeyboardInterrupt\u001b[0m: "
     ]
    }
   ],
   "source": [
    "movies = sio.mmread('data/movies.mtx').tocsr()\n",
    "movies.eliminate_zeros()\n",
    "movies_features = list(get_features(movies[i]) for i in xrange(m))"
   ]
  },
  {
   "cell_type": "code",
   "execution_count": 62,
   "metadata": {
    "collapsed": true
   },
   "outputs": [],
   "source": [
    "def get_vertices(n, m, k, movies, factor0=1):\n",
    "    return SFrame({ \n",
    "            # Movies\n",
    "            '__id': mids,\n",
    "            'factors': map(lambda _: rand(k) * factor0, movie_ids), \n",
    "            'w': map(lambda _: np.zeros(ng+nht), movie_ids), \n",
    "            'b': map(lambda _: 0, movie_ids),\n",
    "            'features': movies_features, \n",
    "            'user':  map(lambda _: 0, movie_ids)\n",
    "        }).append(SFrame({ \n",
    "            # User\n",
    "            '__id': uids, \n",
    "            'factors': map(lambda _: rand(k) * factor0, user_ids), \n",
    "            'w': map(lambda _: np.zeros(ng+nht), user_ids), \n",
    "            'b': map(lambda _: 0, user_ids),\n",
    "            'features': map(lambda _:{}, user_ids), \n",
    "            'user': map(lambda _: 1, user_ids)\n",
    "        }))"
   ]
  },
  {
   "cell_type": "code",
   "execution_count": 8,
   "metadata": {
    "collapsed": true
   },
   "outputs": [],
   "source": [
    "def get_graph(X_train, k, movies):\n",
    "    factor0 = (X_train['rating'].mean() / k / 0.25) ** 0.5\n",
    "    vertices  = get_vertices(n, m, k, movies, factor0)\n",
    "    X_train['uid'] = X_train['userId'].apply(prefix('u'))\n",
    "    X_train['mid'] = X_train['movieId'].apply(prefix('m'))\n",
    "    return SGraph().add_vertices(vertices, vid_field='__id')\\\n",
    "        .add_edges(X_train, src_field='uid', dst_field='mid')"
   ]
  },
  {
   "cell_type": "code",
   "execution_count": 9,
   "metadata": {
    "collapsed": true
   },
   "outputs": [],
   "source": [
    "def rmse_u(sf, L, R, wu, wm, bu, bm):\n",
    "    def get_se(r):\n",
    "        u, m, r = r['userId'], r['movieId'], r['rating']\n",
    "        movie = movies[m]\n",
    "        rhat = L[u].dot(R[:,m]) \n",
    "        rhat += bu[u] + bm[m] \n",
    "        rhat += sum((wu[u][i]+wm[m][i])* x for i, x in izip(movie.indices, movie.data))\n",
    "#         print 'get_se', rhat, r, (rhat - r) ** 2\n",
    "        return (rhat - r) ** 2\n",
    "    \n",
    "    se = sf.apply(get_se)\n",
    "    return se.mean() ** 0.5\n",
    "\n",
    "def rmse(sf, L, R,  wu, wm, bu, bm):\n",
    "    se = sf.apply(lambda r: (L[r['userId']].dot(R[:,r['movieId']]) - r['rating'])**2)\n",
    "    return se.mean() ** 0.5"
   ]
  },
  {
   "cell_type": "code",
   "execution_count": 10,
   "metadata": {
    "collapsed": true
   },
   "outputs": [],
   "source": [
    "def dot_feature(wu, wm, features):\n",
    "    return sum((wu[i] + wm[i]) * x for i, x in features.iteritems())"
   ]
  },
  {
   "cell_type": "code",
   "execution_count": 11,
   "metadata": {
    "collapsed": true
   },
   "outputs": [],
   "source": [
    "def getLR(g, unified, k):\n",
    "    L = np.ones((n, k))\n",
    "    R = np.ones((k, m))\n",
    "    wu = np.zeros((n, ng+nht))\n",
    "    wm = np.zeros((m, ng+nht))\n",
    "    bu = np.zeros((n))\n",
    "    bm = np.zeros((m))\n",
    "    \n",
    "    U = g.get_vertices(fields={'user':1})\n",
    "    uids = np.array(U['__id'].apply(lambda x: x[1:]), dtype=int)\n",
    "    L[uids] = np.array(U['factors'])\n",
    "        \n",
    "    M = g.get_vertices(fields={'user':0})\n",
    "    mids = np.array(M['__id'].apply(lambda x: x[1:]),dtype=int)\n",
    "    R[:,mids] = np.array(M['factors']).T\n",
    "    \n",
    "    if unified:\n",
    "        wu[uids] = np.array(U['w'])\n",
    "        bu[uids] = U['b']\n",
    "        wm[mids] = np.array(M['w'])\n",
    "        bm[mids] = M['b']\n",
    "    \n",
    "    return L, R, wu, wm, bu, bm"
   ]
  },
  {
   "cell_type": "code",
   "execution_count": 290,
   "metadata": {
    "collapsed": false
   },
   "outputs": [],
   "source": [
    "# updater = sgd_triple_updater(eta=0.05, lambda_u=0.01, lambda_v=0.01, unified=True, lambda_w=.01)\n",
    "# e = g.get_edges()[0]\n",
    "# src = g.get_vertices(ids=e['__src_id'])\n",
    "# dst = g.get_vertices(ids=e['__dst_id'])\n",
    "# updater(src, e, dst)"
   ]
  },
  {
   "cell_type": "code",
   "execution_count": 49,
   "metadata": {
    "collapsed": true
   },
   "outputs": [],
   "source": [
    "def sgd_triple_updater(eta, lambda_u, lambda_v, unified, lambda_w):\n",
    "    c_u = 1-eta*lambda_u\n",
    "    c_v = 1-eta*lambda_v\n",
    "    c_w = 1-eta*lambda_w\n",
    "    def updater(src, edge, dst):\n",
    "        Lu = np.array(src['factors'])\n",
    "        Rv = np.array(dst['factors'])\n",
    "        ruv = edge['rating']\n",
    "        rhat = Lu.dot(Rv) \n",
    "        if unified: \n",
    "            rhat += src['b'] + dst['b'] + dot_feature(src['w'], dst['w'], dst['features'])\n",
    "            \n",
    "        eps = rhat - ruv \n",
    "        eta_eps = eta*eps\n",
    "        src['factors'] = c_u * Lu - eta_eps * Rv\n",
    "        dst['factors'] = c_v * Rv - eta_eps * Lu\n",
    "        if unified:\n",
    "            src['w'] = c_w * np.array(src['w'])\n",
    "            dst['w'] = c_w * np.array(dst['w'])\n",
    "            for i, x in dst['features'].iteritems():\n",
    "                dx = eta_eps * x\n",
    "                src['w'][i] -= dx\n",
    "                dst['w'][i] -= dx\n",
    "                \n",
    "            src['b'] -= eta_eps\n",
    "            dst['b'] -= eta_eps\n",
    "        \n",
    "        return (src, edge, dst)\n",
    "    return updater"
   ]
  },
  {
   "cell_type": "code",
   "execution_count": 13,
   "metadata": {
    "collapsed": false
   },
   "outputs": [],
   "source": [
    "def sgd_gl_edge(g, X_train, X_test, \\\n",
    "                lambduh, k, eta=0.05, unified=False, lambduh_w=0, Niter=100, e_rmse=0.005, rmse_train=None):\n",
    "    get_rmse = rmse_u if unified else rmse\n",
    "    \n",
    "    L, R, wu, wm, bu, bm = getLR(g, unified, k)\n",
    "    rmse_train = [get_rmse(X_train, L, R, wu, wm, bu, bm) if rmse_train is None else rmse_train]\n",
    "    \n",
    "    print \"%s: %.4f\" % (0,rmse_train[-1])\n",
    "    start = datetime.now()\n",
    "    \n",
    "    print 'eta=%s, lambduh=%s, lambduh=%s, unified=%s, lambduh_w=%s' % (eta, lambduh, lambduh, unified, lambduh_w)\n",
    "    \n",
    "    for i in xrange(1, Niter+1): \n",
    "        g = g.triple_apply(sgd_triple_updater(\\\n",
    "            eta, lambduh, lambduh, unified, lambduh_w), ['factors', 'w','b'])\n",
    "        \n",
    "        L, R, wu, wm, bu, bm = getLR(g, unified, k)\n",
    "        rmse_train.append(get_rmse(X_train, L, R, wu, wm, bu, bm))\n",
    "        \n",
    "        print \"%s : %.4f (time:%s)\" % (i, rmse_train[-1], datetime.now()-start)\n",
    "        if abs(rmse_train[-1] - rmse_train[-2]) < e_rmse:\n",
    "            break\n",
    "    \n",
    "    rmse_test = get_rmse(X_test, L, R, wu, wm, bu, bm)\n",
    "    print \"test=%.4f\" % (rmse_test)\n",
    "    return rmse_train, rmse_test, L, R, wu, wm, bu, bm\n",
    "        "
   ]
  },
  {
   "cell_type": "code",
   "execution_count": 14,
   "metadata": {
    "collapsed": true
   },
   "outputs": [],
   "source": [
    "def run_full():\n",
    "    X_train, X_test = load('ratings')\n",
    "    g = get_graph(X_train, 5, movies)\n",
    "    return sgd_gl_edge(g, X_train, X_test, 0.01, 5)"
   ]
  },
  {
   "cell_type": "code",
   "execution_count": 15,
   "metadata": {
    "collapsed": true
   },
   "outputs": [],
   "source": [
    "def run_debug(g=None, Niter=1):\n",
    "    X_train, X_test = load('ratings_debug_small')\n",
    "    if g is None:\n",
    "        g = get_graph(X_train, 5, movies)\n",
    "    return sgd_gl_edge(g, X_train, X_test, 0.1, 5, 0.01, Niter=Niter, unified=True, lambduh_w=0.1)"
   ]
  },
  {
   "cell_type": "code",
   "execution_count": 63,
   "metadata": {
    "collapsed": false
   },
   "outputs": [
    {
     "name": "stdout",
     "output_type": "stream",
     "text": [
      "mse=3.0284\n",
      "0: 1.7402\n",
      "eta=0.01, lambduh=0.1, lambduh=0.1, unified=True, lambduh_w=0.1\n",
      "mse=1.3688\n",
      "1 : 1.1700 (time:0:00:30.627286)\n",
      "mse=2.3913\n",
      "test=1.5464\n"
     ]
    }
   ],
   "source": [
    "rmse_train, rmse_test, L, R, wu, wm, bu, bm = run_debug()"
   ]
  },
  {
   "cell_type": "code",
   "execution_count": null,
   "metadata": {
    "collapsed": false
   },
   "outputs": [],
   "source": [
    "def eta_search(): \n",
    "    X_train_debug, X_test_debug = load('ratings_debug')\n",
    "    min_rmse_test = float('inf')\n",
    "    min_k, min_lambduh = None, None\n",
    "    rmse_map = {}\n",
    "    for eta in [0.01, 0.05, 0.1]:\n",
    "        print 'eta %s'%eta\n",
    "        for lambduh in [0.01]: #[0, 0.001, 0.01, 0.1, 1]:\n",
    "            for k in [5]: #, 10, 20]:\n",
    "                g = get_graph(X_train_debug, 5, movies)\n",
    "                rmse_train, rmse_test, L, R, wu, wm, bu, bm = \\\n",
    "                    sgd_gl_edge(g, X_train_debug, X_test_debug, lambduh, k, eta, Niter=3)\n",
    "                rmse_map.get(lambduh, {}).get(k,{})[eta] = rmse_test\n",
    "                print \"l=%s, k=%s, rmse=%.4f\" % (lambduh, k, rmse_test)\n",
    "                if rmse_test < min_rmse_test:\n",
    "                    min_rmse_test = rmse_test\n",
    "                    min_k = k\n",
    "                    min_eta = eta\n",
    "                    min_lambduh = lambduh\n",
    "    print min_eta\n",
    "    return rmse_map, min_lambduh, min_k, min_eta\n"
   ]
  },
  {
   "cell_type": "code",
   "execution_count": 47,
   "metadata": {
    "collapsed": false
   },
   "outputs": [],
   "source": [
    "def search_pure_mf(eta=0.05):\n",
    "    X_train_debug, X_test_debug = load('ratings_debug')\n",
    "    min_rmse_test = float('inf')\n",
    "    min_k, min_lambduh = None, None\n",
    "    rmse_map = {}\n",
    "    for lambduh in [0.001, 0.01, 0.1]:\n",
    "        for k in [5, 10, 20]:\n",
    "            g = get_graph(X_train_debug, 5, movies)\n",
    "            rmse_trainunified, rmse_test, L, R, wu, wm, bu, bm = \\\n",
    "                sgd_gl_edge(g, X_train_debug, X_test_debug, lambduh, k, eta, Niter=20)\n",
    "            rmse_map.get(lambduh, {})[k] = rmse_test\n",
    "            print \"l=%s, k=%s, rmse=%.4f\" % (lambduh, k, rmse_test)\n",
    "            if rmse_test < min_rmse_test:\n",
    "                min_rmse_test = rmse_test\n",
    "                min_k = k\n",
    "                min_lambduh = lambduh\n",
    "    return min_rmse_test, min_lambduh, min_k\n",
    "    \n",
    "def run_pure_mf(min_lambduh, min_k, eta=0.05):\n",
    "    X_train, X_test = load('ratings')\n",
    "    g = get_graph(X_train, 5, movies)\n",
    "    rmse_train, rmse_test, L, R = \\\n",
    "                sgd_gl_edge(g, X_train, X_test, min_lambduh, min_k)\n",
    "    print rmse_test\n",
    "    return rmse_map, rmse_train, rmse_test"
   ]
  },
  {
   "cell_type": "code",
   "execution_count": null,
   "metadata": {
    "collapsed": false
   },
   "outputs": [],
   "source": [
    "min_rmse_test, min_lambduh, min_k = search_pure_mf()"
   ]
  },
  {
   "cell_type": "code",
   "execution_count": null,
   "metadata": {
    "collapsed": false,
    "scrolled": true
   },
   "outputs": [],
   "source": [
    "rmse_map, rmse_train, rmse_test = run_pure_mf(min_lambduh, min_k)"
   ]
  },
  {
   "cell_type": "code",
   "execution_count": null,
   "metadata": {
    "collapsed": true
   },
   "outputs": [],
   "source": [
    "def search_cf(eta=0.05):\n",
    "    X_train_debug, X_test_debug = load('ratings_debug')\n",
    "    min_rmse_test = float('inf')\n",
    "    min_k, min_lambduh, min_lambduh_w = None, None, None\n",
    "    rmse_map = {}\n",
    "    for lambduh in [0.001, 0.01, 0.1]:\n",
    "        for k in [5, 10, 20]:\n",
    "            for lambduh_w in [0.001, 0.01, 0.1]:\n",
    "                g = get_graph(X_train_debug, 5, movies)\n",
    "                rmse_train, rmse_test, L, R, wu, wm, bu, bm = \\\n",
    "                    sgd_gl_edge(g, X_train_debug, X_test_debug, lambduh, k, eta, \\\n",
    "                                unified=true, lambduh_w=lambduh_w)\n",
    "                rmse_map.get(lambduh, {}).get(k,{})[lambduh_w] = rmse_test\n",
    "                print \"l=%s, k=%s, l_w=%s, rmse=%.4f\" % (lambduh, k, lambduh_w, rmse_test)\n",
    "                if rmse_test < min_rmse_test:\n",
    "                    min_rmse_test = rmse_test\n",
    "                    min_k = k\n",
    "                    min_lambduh = lambduh\n",
    "                    min_lambduh_w = lambduh_w\n",
    "                \n",
    "    return min_rmse_test, min_lambduh, min_k, min_lambduh_w\n",
    "    \n",
    "def run_cf(min_lambduh, min_k, min_lambduh_w, eta=0.05):\n",
    "    X_train, X_test = load('ratings')\n",
    "    g = get_graph(X_train, min_k, movies)\n",
    "    rmse_train, rmse_test, L, R = \\\n",
    "                sgd_gl_edge(g, X_train, X_test, min_lambduh, min_k, min_eta, \\\n",
    "                                unified=true, lambduh_w=min_lambduh_w)\n",
    "    print rmse_test\n",
    "    return rmse_map, rmse_train, rmse_test"
   ]
  },
  {
   "cell_type": "code",
   "execution_count": null,
   "metadata": {
    "collapsed": true
   },
   "outputs": [],
   "source": [
    "# run coldstart to predict cold-start dataset\n",
    "def run_cf2(min_lambduh, min_k, min_lambduh_w, eta=0.05):\n",
    "    X_train, X_test = load('ratings_cs')\n",
    "    g = get_graph(X_train, min_k, movies)\n",
    "    rmse_train, rmse_test, L, R = \\\n",
    "                sgd_gl_edge(g, X_train, X_test, min_lambduh, min_k, min_eta, \\\n",
    "                                unified=true, lambduh_w=min_lambduh_w)\n",
    "    print rmse_test\n",
    "    return rmse_map, rmse_train, rmse_test"
   ]
  },
  {
   "cell_type": "code",
   "execution_count": null,
   "metadata": {
    "collapsed": false
   },
   "outputs": [],
   "source": [
    "min_rmse_test, min_lambduh, min_k, min_lambduh_w = search_cf()"
   ]
  },
  {
   "cell_type": "code",
   "execution_count": null,
   "metadata": {
    "collapsed": true
   },
   "outputs": [],
   "source": [
    "rmses_cf = run_cf(min_lambduh, min_k, min_lambduh_w)\n",
    "rmses_cf2 = run_cf2(min_lambduh, min_k, min_lambduh_w)"
   ]
  },
  {
   "cell_type": "code",
   "execution_count": 64,
   "metadata": {
    "collapsed": true
   },
   "outputs": [],
   "source": [
    "#"
   ]
  }
 ],
 "metadata": {
  "kernelspec": {
   "display_name": "Python 2",
   "language": "python",
   "name": "python2"
  },
  "language_info": {
   "codemirror_mode": {
    "name": "ipython",
    "version": 2
   },
   "file_extension": ".py",
   "mimetype": "text/x-python",
   "name": "python",
   "nbconvert_exporter": "python",
   "pygments_lexer": "ipython2",
   "version": "2.7.3"
  }
 },
 "nbformat": 4,
 "nbformat_minor": 0
}
