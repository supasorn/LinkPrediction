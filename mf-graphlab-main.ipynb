{
 "cells": [
  {
   "cell_type": "code",
   "execution_count": 1,
   "metadata": {
    "collapsed": false
   },
   "outputs": [
    {
     "name": "stderr",
     "output_type": "stream",
     "text": [
      "[INFO] This trial license of GraphLab Create is assigned to kanitw@gmail.com and will expire on June 26, 2015. Please contact trial@dato.com for licensing options or to request a free non-commercial license for personal or academic use.\n",
      "\n",
      "[INFO] Start server at: ipc:///tmp/graphlab_server-2189 - Server binary: /usr/local/lib/python2.7/site-packages/graphlab/unity_server - Server log: /tmp/graphlab_server_1433269387.log\n",
      "[INFO] GraphLab Server Version: 1.4.0\n"
     ]
    }
   ],
   "source": [
    "import graphlab as gl\n",
    "from graphlab import SFrame\n",
    "from graphlab import SGraph\n",
    "import numpy as np\n",
    "from random import sample\n",
    "import random\n",
    "import scipy.io as sio\n",
    "from itertools import izip\n",
    "from datetime import datetime\n",
    "from numpy.random import rand\n",
    "random.seed(123)\n",
    "np.random.seed(123)"
   ]
  },
  {
   "cell_type": "code",
   "execution_count": 2,
   "metadata": {
    "collapsed": true
   },
   "outputs": [],
   "source": [
    "import lib"
   ]
  },
  {
   "cell_type": "code",
   "execution_count": null,
   "metadata": {
    "collapsed": false
   },
   "outputs": [],
   "source": [
    "reload(lib)\n",
    "from lib import n, m, ng, nht, \\\n",
    "    user_ids, movie_ids, uids, mids, movies, movies_features,\\\n",
    "    load, get_features, prefix, remove, get_vertices, get_graph, \\\n",
    "    rmse_u, rmse, dot_feature, getLR, \\\n",
    "    sgd_triple_updater, sgd_gl_edge, \\\n",
    "    run_full, run_debug, eta_search, \\\n",
    "    search_pure, search_pure_coor, run_pure, \\\n",
    "    search_unified, search_unified_coor, run_unified"
   ]
  },
  {
   "cell_type": "code",
   "execution_count": null,
   "metadata": {
    "collapsed": false
   },
   "outputs": [
    {
     "name": "stdout",
     "output_type": "stream",
     "text": [
      "get_graph 0:00:12.748103\n",
      "eta=0.05, lambduh=0.001, unified=True, lambduh_w=0.001\n"
     ]
    }
   ],
   "source": [
    "rmse_train, rmse_test, L, R, wu, wm, bu, bm = run_debug()"
   ]
  },
  {
   "cell_type": "code",
   "execution_count": 20,
   "metadata": {
    "collapsed": false
   },
   "outputs": [
    {
     "name": "stdout",
     "output_type": "stream",
     "text": [
      "get_graph 0:00:12.690738\n",
      "eta=0.05, lambduh=0.001, unified=False, lambduh_w=0\n",
      "\n",
      " i,  type,   rmse,           time\n",
      " 0, train,  1.7583, 0:00:00.001095\n",
      " 1, train, 0.9653, 0:00:14.385324\n",
      " 1,  test, 1.5705, 0:00:14.745801\n",
      "l=0.001, k=5, rmse=1.5705\n",
      "get_graph 0:00:12.898002\n",
      "eta=0.05, lambduh=0.001, unified=False, lambduh_w=0\n",
      "\n",
      " i,  type,   rmse,           time\n",
      " 0, train,  1.4513, 0:00:00.000771\n",
      " 1, train, 0.8054, 0:00:15.937424\n",
      " 1,  test, 1.3284, 0:00:16.719110\n",
      "l=0.001, k=10, rmse=1.3284\n",
      "get_graph 0:00:13.348355\n",
      "eta=0.05, lambduh=0.001, unified=False, lambduh_w=0\n",
      "\n",
      " i,  type,   rmse,           time\n",
      " 0, train,  1.2584, 0:00:00.000942\n",
      " 1, train, 0.7064, 0:00:19.015307\n",
      " 1,  test, 1.2248, 0:00:20.686864\n",
      "l=0.001, k=20, rmse=1.2248\n",
      "get_graph 0:00:12.725462\n",
      "eta=0.05, lambduh=0.01, unified=False, lambduh_w=0\n",
      "\n",
      " i,  type,   rmse,           time\n",
      " 0, train,  1.7780, 0:00:00.000843\n",
      " 1, train, 0.9622, 0:00:14.396599\n",
      " 1,  test, 1.5967, 0:00:14.758172\n",
      "l=0.01, k=5, rmse=1.5967\n",
      "get_graph 0:00:12.914142\n",
      "eta=0.05, lambduh=0.01, unified=False, lambduh_w=0\n",
      "\n",
      " i,  type,   rmse,           time\n",
      " 0, train,  1.4224, 0:00:00.000816\n",
      " 1, train, 0.7938, 0:00:15.803013\n",
      " 1,  test, 1.3327, 0:00:16.459107\n",
      "l=0.01, k=10, rmse=1.3327\n",
      "get_graph 0:00:13.083805\n",
      "eta=0.05, lambduh=0.01, unified=False, lambduh_w=0\n",
      "\n",
      " i,  type,   rmse,           time\n",
      " 0, train,  1.2659, 0:00:00.001208\n",
      " 1, train, 0.7071, 0:00:19.173481\n",
      " 1,  test, 1.2143, 0:00:21.286245\n",
      "l=0.01, k=20, rmse=1.2143\n",
      "get_graph 0:00:12.832031\n",
      "eta=0.05, lambduh=0.1, unified=False, lambduh_w=0\n",
      "\n",
      " i,  type,   rmse,           time\n",
      " 0, train,  1.7227, 0:00:00.000774\n",
      " 1, train, 0.9540, 0:00:14.624632\n",
      " 1,  test, 1.5215, 0:00:14.979407\n",
      "l=0.1, k=5, rmse=1.5215\n",
      "get_graph 0:00:12.806105\n"
     ]
    },
    {
     "ename": "RuntimeError",
     "evalue": "Runtime Exception. Cancelled by user.",
     "output_type": "error",
     "traceback": [
      "\u001b[0;31m---------------------------------------------------------------------------\u001b[0m",
      "\u001b[0;31mRuntimeError\u001b[0m                              Traceback (most recent call last)",
      "\u001b[0;32m<ipython-input-20-c693ff7eaddb>\u001b[0m in \u001b[0;36m<module>\u001b[0;34m()\u001b[0m\n\u001b[1;32m      1\u001b[0m \u001b[0;31m# optimal_mf = search_pure_mf_coor()\u001b[0m\u001b[0;34m\u001b[0m\u001b[0;34m\u001b[0m\u001b[0m\n\u001b[0;32m----> 2\u001b[0;31m \u001b[0moptimal_mf\u001b[0m \u001b[0;34m=\u001b[0m \u001b[0msearch_pure_mf\u001b[0m\u001b[0;34m(\u001b[0m\u001b[0mdata\u001b[0m\u001b[0;34m=\u001b[0m\u001b[0;34m'ratings_debug_small'\u001b[0m\u001b[0;34m,\u001b[0m \u001b[0mNiter\u001b[0m\u001b[0;34m=\u001b[0m\u001b[0;36m1\u001b[0m\u001b[0;34m)\u001b[0m\u001b[0;34m\u001b[0m\u001b[0m\n\u001b[0m",
      "\u001b[0;32m/Users/kanitw/Documents/_code/_hw/cse547-hw/project/LinkPrediction/lib.py\u001b[0m in \u001b[0;36msearch_pure_mf\u001b[0;34m(eta, Niter, data)\u001b[0m\n\u001b[1;32m    257\u001b[0m     \u001b[0;32mfor\u001b[0m \u001b[0mlambduh\u001b[0m \u001b[0;32min\u001b[0m \u001b[0;34m[\u001b[0m\u001b[0;36m0.001\u001b[0m\u001b[0;34m,\u001b[0m \u001b[0;36m0.01\u001b[0m\u001b[0;34m,\u001b[0m \u001b[0;36m0.1\u001b[0m\u001b[0;34m]\u001b[0m\u001b[0;34m:\u001b[0m\u001b[0;34m\u001b[0m\u001b[0m\n\u001b[1;32m    258\u001b[0m         \u001b[0;32mfor\u001b[0m \u001b[0mk\u001b[0m \u001b[0;32min\u001b[0m \u001b[0;34m[\u001b[0m\u001b[0;36m5\u001b[0m\u001b[0;34m,\u001b[0m \u001b[0;36m10\u001b[0m\u001b[0;34m,\u001b[0m \u001b[0;36m20\u001b[0m\u001b[0;34m]\u001b[0m\u001b[0;34m:\u001b[0m\u001b[0;34m\u001b[0m\u001b[0m\n\u001b[0;32m--> 259\u001b[0;31m             \u001b[0mg\u001b[0m \u001b[0;34m=\u001b[0m \u001b[0mget_graph\u001b[0m\u001b[0;34m(\u001b[0m\u001b[0mX_train_debug\u001b[0m\u001b[0;34m,\u001b[0m \u001b[0mk\u001b[0m\u001b[0;34m)\u001b[0m\u001b[0;34m\u001b[0m\u001b[0m\n\u001b[0m\u001b[1;32m    260\u001b[0m             \u001b[0mrmse_train\u001b[0m\u001b[0;34m,\u001b[0m \u001b[0mrmse_test\u001b[0m\u001b[0;34m,\u001b[0m \u001b[0mL\u001b[0m\u001b[0;34m,\u001b[0m \u001b[0mR\u001b[0m\u001b[0;34m,\u001b[0m \u001b[0mwu\u001b[0m\u001b[0;34m,\u001b[0m \u001b[0mwm\u001b[0m\u001b[0;34m,\u001b[0m \u001b[0mbu\u001b[0m\u001b[0;34m,\u001b[0m \u001b[0mbm\u001b[0m \u001b[0;34m=\u001b[0m\u001b[0;31m \u001b[0m\u001b[0;31m\\\u001b[0m\u001b[0;34m\u001b[0m\u001b[0m\n\u001b[1;32m    261\u001b[0m                 sgd_gl_edge(g, X_train_debug, X_test_debug, lambduh, k, eta, \\\n",
      "\u001b[0;32m/Users/kanitw/Documents/_code/_hw/cse547-hw/project/LinkPrediction/lib.py\u001b[0m in \u001b[0;36msgd_gl_edge\u001b[0;34m(g, X_train, X_test, lambduh, k, eta, unified, lambduh_w, Niter, e_rmse, test_freq, output)\u001b[0m\n\u001b[1;32m    218\u001b[0m     \u001b[0mlog\u001b[0m \u001b[0;34m=\u001b[0m \u001b[0mlogstdout\u001b[0m \u001b[0;32mif\u001b[0m \u001b[0moutput\u001b[0m \u001b[0;32mis\u001b[0m \u001b[0mNone\u001b[0m \u001b[0;32melse\u001b[0m \u001b[0mlogoutput\u001b[0m\u001b[0;34m\u001b[0m\u001b[0m\n\u001b[1;32m    219\u001b[0m \u001b[0;34m\u001b[0m\u001b[0m\n\u001b[0;32m--> 220\u001b[0;31m     \u001b[0mL\u001b[0m\u001b[0;34m,\u001b[0m \u001b[0mR\u001b[0m\u001b[0;34m,\u001b[0m \u001b[0mwu\u001b[0m\u001b[0;34m,\u001b[0m \u001b[0mwm\u001b[0m\u001b[0;34m,\u001b[0m \u001b[0mbu\u001b[0m\u001b[0;34m,\u001b[0m \u001b[0mbm\u001b[0m \u001b[0;34m=\u001b[0m \u001b[0mgetLR\u001b[0m\u001b[0;34m(\u001b[0m\u001b[0mg\u001b[0m\u001b[0;34m,\u001b[0m \u001b[0munified\u001b[0m\u001b[0;34m,\u001b[0m \u001b[0mk\u001b[0m\u001b[0;34m)\u001b[0m\u001b[0;34m\u001b[0m\u001b[0m\n\u001b[0m\u001b[1;32m    221\u001b[0m     \u001b[0mrmse_train\u001b[0m \u001b[0;34m=\u001b[0m \u001b[0;34m[\u001b[0m\u001b[0mget_rmse\u001b[0m\u001b[0;34m(\u001b[0m\u001b[0mX_train\u001b[0m\u001b[0;34m,\u001b[0m \u001b[0mL\u001b[0m\u001b[0;34m,\u001b[0m \u001b[0mR\u001b[0m\u001b[0;34m,\u001b[0m \u001b[0mwu\u001b[0m\u001b[0;34m,\u001b[0m \u001b[0mwm\u001b[0m\u001b[0;34m,\u001b[0m \u001b[0mbu\u001b[0m\u001b[0;34m,\u001b[0m \u001b[0mbm\u001b[0m\u001b[0;34m)\u001b[0m\u001b[0;34m]\u001b[0m\u001b[0;34m\u001b[0m\u001b[0m\n\u001b[1;32m    222\u001b[0m     \u001b[0mrmse_test\u001b[0m \u001b[0;34m=\u001b[0m \u001b[0;34m[\u001b[0m\u001b[0;34m]\u001b[0m\u001b[0;34m\u001b[0m\u001b[0m\n",
      "\u001b[0;32m/Users/kanitw/Documents/_code/_hw/cse547-hw/project/LinkPrediction/lib.py\u001b[0m in \u001b[0;36mgetLR\u001b[0;34m(g, unified, k)\u001b[0m\n\u001b[1;32m    113\u001b[0m     \u001b[0mbm\u001b[0m \u001b[0;34m=\u001b[0m \u001b[0mnp\u001b[0m\u001b[0;34m.\u001b[0m\u001b[0mzeros\u001b[0m\u001b[0;34m(\u001b[0m\u001b[0;34m(\u001b[0m\u001b[0mm\u001b[0m\u001b[0;34m)\u001b[0m\u001b[0;34m)\u001b[0m\u001b[0;34m\u001b[0m\u001b[0m\n\u001b[1;32m    114\u001b[0m \u001b[0;34m\u001b[0m\u001b[0m\n\u001b[0;32m--> 115\u001b[0;31m     \u001b[0mU\u001b[0m \u001b[0;34m=\u001b[0m \u001b[0mg\u001b[0m\u001b[0;34m.\u001b[0m\u001b[0mget_vertices\u001b[0m\u001b[0;34m(\u001b[0m\u001b[0mfields\u001b[0m\u001b[0;34m=\u001b[0m\u001b[0;34m{\u001b[0m\u001b[0;34m'user'\u001b[0m\u001b[0;34m:\u001b[0m \u001b[0;36m1\u001b[0m\u001b[0;34m}\u001b[0m\u001b[0;34m)\u001b[0m\u001b[0;34m\u001b[0m\u001b[0m\n\u001b[0m\u001b[1;32m    116\u001b[0m     \u001b[0m_uids\u001b[0m \u001b[0;34m=\u001b[0m \u001b[0mnp\u001b[0m\u001b[0;34m.\u001b[0m\u001b[0marray\u001b[0m\u001b[0;34m(\u001b[0m\u001b[0mU\u001b[0m\u001b[0;34m[\u001b[0m\u001b[0;34m'__id'\u001b[0m\u001b[0;34m]\u001b[0m\u001b[0;34m.\u001b[0m\u001b[0mapply\u001b[0m\u001b[0;34m(\u001b[0m\u001b[0;32mlambda\u001b[0m \u001b[0mx\u001b[0m\u001b[0;34m:\u001b[0m \u001b[0mx\u001b[0m\u001b[0;34m[\u001b[0m\u001b[0;36m1\u001b[0m\u001b[0;34m:\u001b[0m\u001b[0;34m]\u001b[0m\u001b[0;34m)\u001b[0m\u001b[0;34m,\u001b[0m \u001b[0mdtype\u001b[0m\u001b[0;34m=\u001b[0m\u001b[0mint\u001b[0m\u001b[0;34m)\u001b[0m\u001b[0;34m\u001b[0m\u001b[0m\n\u001b[1;32m    117\u001b[0m     \u001b[0mL\u001b[0m\u001b[0;34m[\u001b[0m\u001b[0m_uids\u001b[0m\u001b[0;34m]\u001b[0m \u001b[0;34m=\u001b[0m \u001b[0mnp\u001b[0m\u001b[0;34m.\u001b[0m\u001b[0marray\u001b[0m\u001b[0;34m(\u001b[0m\u001b[0mU\u001b[0m\u001b[0;34m[\u001b[0m\u001b[0;34m'factors'\u001b[0m\u001b[0;34m]\u001b[0m\u001b[0;34m)\u001b[0m\u001b[0;34m\u001b[0m\u001b[0m\n",
      "\u001b[0;32m/usr/local/lib/python2.7/site-packages/graphlab/data_structures/sgraph.pyc\u001b[0m in \u001b[0;36mget_vertices\u001b[0;34m(self, ids, fields, format)\u001b[0m\n\u001b[1;32m    462\u001b[0m \u001b[0;34m\u001b[0m\u001b[0m\n\u001b[1;32m    463\u001b[0m         \u001b[0;32mwith\u001b[0m \u001b[0mcython_context\u001b[0m\u001b[0;34m(\u001b[0m\u001b[0;34m)\u001b[0m\u001b[0;34m:\u001b[0m\u001b[0;34m\u001b[0m\u001b[0m\n\u001b[0;32m--> 464\u001b[0;31m             \u001b[0msf\u001b[0m \u001b[0;34m=\u001b[0m \u001b[0mSFrame\u001b[0m\u001b[0;34m(\u001b[0m\u001b[0m_proxy\u001b[0m\u001b[0;34m=\u001b[0m\u001b[0mself\u001b[0m\u001b[0;34m.\u001b[0m\u001b[0m__proxy__\u001b[0m\u001b[0;34m.\u001b[0m\u001b[0mget_vertices\u001b[0m\u001b[0;34m(\u001b[0m\u001b[0mids\u001b[0m\u001b[0;34m,\u001b[0m \u001b[0mfields\u001b[0m\u001b[0;34m)\u001b[0m\u001b[0;34m)\u001b[0m\u001b[0;34m\u001b[0m\u001b[0m\n\u001b[0m\u001b[1;32m    465\u001b[0m \u001b[0;34m\u001b[0m\u001b[0m\n\u001b[1;32m    466\u001b[0m         \u001b[0;32mif\u001b[0m \u001b[0;34m(\u001b[0m\u001b[0mformat\u001b[0m \u001b[0;34m==\u001b[0m \u001b[0;34m'sframe'\u001b[0m\u001b[0;34m)\u001b[0m\u001b[0;34m:\u001b[0m\u001b[0;34m\u001b[0m\u001b[0m\n",
      "\u001b[0;32m/usr/local/lib/python2.7/site-packages/graphlab/cython/context.pyc\u001b[0m in \u001b[0;36m__exit__\u001b[0;34m(self, exc_type, exc_value, traceback)\u001b[0m\n\u001b[1;32m     29\u001b[0m     \u001b[0;32mdef\u001b[0m \u001b[0m__exit__\u001b[0m\u001b[0;34m(\u001b[0m\u001b[0mself\u001b[0m\u001b[0;34m,\u001b[0m \u001b[0mexc_type\u001b[0m\u001b[0;34m,\u001b[0m \u001b[0mexc_value\u001b[0m\u001b[0;34m,\u001b[0m \u001b[0mtraceback\u001b[0m\u001b[0;34m)\u001b[0m\u001b[0;34m:\u001b[0m\u001b[0;34m\u001b[0m\u001b[0m\n\u001b[1;32m     30\u001b[0m         \u001b[0;32mif\u001b[0m \u001b[0;32mnot\u001b[0m \u001b[0mself\u001b[0m\u001b[0;34m.\u001b[0m\u001b[0mshow_cython_trace\u001b[0m \u001b[0;32mand\u001b[0m \u001b[0mexc_type\u001b[0m\u001b[0;34m:\u001b[0m\u001b[0;34m\u001b[0m\u001b[0m\n\u001b[0;32m---> 31\u001b[0;31m             \u001b[0;32mraise\u001b[0m \u001b[0mexc_type\u001b[0m\u001b[0;34m(\u001b[0m\u001b[0mexc_value\u001b[0m\u001b[0;34m)\u001b[0m\u001b[0;34m\u001b[0m\u001b[0m\n\u001b[0m",
      "\u001b[0;31mRuntimeError\u001b[0m: Runtime Exception. Cancelled by user."
     ]
    }
   ],
   "source": [
    "# optimal_mf = search_pure_mf_coor()\n",
    "optimal_mf = search_pure_mf(data='ratings_debug_small', Niter=1)"
   ]
  },
  {
   "cell_type": "code",
   "execution_count": null,
   "metadata": {
    "collapsed": false,
    "scrolled": true
   },
   "outputs": [],
   "source": [
    "# rmse_map, rmse_train, rmse_test = run_pure_mf(min_lambduh, min_k)"
   ]
  },
  {
   "cell_type": "code",
   "execution_count": 9,
   "metadata": {
    "collapsed": false
   },
   "outputs": [
    {
     "ename": "NameError",
     "evalue": "name 'search_cf' is not defined",
     "output_type": "error",
     "traceback": [
      "\u001b[0;31m---------------------------------------------------------------------------\u001b[0m",
      "\u001b[0;31mNameError\u001b[0m                                 Traceback (most recent call last)",
      "\u001b[0;32m<ipython-input-9-93c90e71f3bb>\u001b[0m in \u001b[0;36m<module>\u001b[0;34m()\u001b[0m\n\u001b[1;32m      1\u001b[0m \u001b[0;31m# optimal_cf = search_cf()\u001b[0m\u001b[0;34m\u001b[0m\u001b[0;34m\u001b[0m\u001b[0m\n\u001b[0;32m----> 2\u001b[0;31m \u001b[0moptimal_cf\u001b[0m \u001b[0;34m=\u001b[0m \u001b[0msearch_cf\u001b[0m\u001b[0;34m(\u001b[0m\u001b[0mdata\u001b[0m\u001b[0;34m=\u001b[0m\u001b[0;34m'ratings_debug_small'\u001b[0m\u001b[0;34m,\u001b[0m \u001b[0mNiter\u001b[0m\u001b[0;34m=\u001b[0m\u001b[0;36m1\u001b[0m\u001b[0;34m)\u001b[0m\u001b[0;34m\u001b[0m\u001b[0m\n\u001b[0m",
      "\u001b[0;31mNameError\u001b[0m: name 'search_cf' is not defined"
     ]
    }
   ],
   "source": [
    "# optimal_cf = search_cf()\n",
    "optimal_cf = search_cf(data='ratings_debug_small', Niter=1)"
   ]
  },
  {
   "cell_type": "code",
   "execution_count": null,
   "metadata": {
    "collapsed": true
   },
   "outputs": [],
   "source": [
    "# rmses_cf = run_cf(min_lambduh, min_k, min_lambduh_w)\n",
    "# rmses_cf2 = run_cf2(min_lambduh, min_k, min_lambduh_w)"
   ]
  }
 ],
 "metadata": {
  "kernelspec": {
   "display_name": "Python 2",
   "language": "python",
   "name": "python2"
  },
  "language_info": {
   "codemirror_mode": {
    "name": "ipython",
    "version": 2
   },
   "file_extension": ".py",
   "mimetype": "text/x-python",
   "name": "python",
   "nbconvert_exporter": "python",
   "pygments_lexer": "ipython2",
   "version": "2.7.3"
  }
 },
 "nbformat": 4,
 "nbformat_minor": 0
}
