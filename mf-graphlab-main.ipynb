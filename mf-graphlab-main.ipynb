{
 "cells": [
  {
   "cell_type": "code",
   "execution_count": 1,
   "metadata": {
    "collapsed": false
   },
   "outputs": [
    {
     "name": "stderr",
     "output_type": "stream",
     "text": [
      "[INFO] This trial license of GraphLab Create is assigned to kanitw@gmail.com and will expire on June 26, 2015. Please contact trial@dato.com for licensing options or to request a free non-commercial license for personal or academic use.\n",
      "\n",
      "[INFO] Start server at: ipc:///tmp/graphlab_server-2189 - Server binary: /usr/local/lib/python2.7/site-packages/graphlab/unity_server - Server log: /tmp/graphlab_server_1433269387.log\n",
      "[INFO] GraphLab Server Version: 1.4.0\n"
     ]
    }
   ],
   "source": [
    "import graphlab as gl\n",
    "from graphlab import SFrame\n",
    "from graphlab import SGraph\n",
    "import numpy as np\n",
    "from random import sample\n",
    "import random\n",
    "import scipy.io as sio\n",
    "from itertools import izip\n",
    "from datetime import datetime\n",
    "from numpy.random import rand\n",
    "random.seed(123)\n",
    "np.random.seed(123)"
   ]
  },
  {
   "cell_type": "code",
   "execution_count": 2,
   "metadata": {
    "collapsed": true
   },
   "outputs": [],
   "source": [
    "import lib"
   ]
  },
  {
   "cell_type": "code",
   "execution_count": 8,
   "metadata": {
    "collapsed": false
   },
   "outputs": [
    {
     "ename": "ImportError",
     "evalue": "cannot import name sgl_gl_edge",
     "output_type": "error",
     "traceback": [
      "\u001b[0;31m---------------------------------------------------------------------------\u001b[0m",
      "\u001b[0;31mImportError\u001b[0m                               Traceback (most recent call last)",
      "\u001b[0;32m<ipython-input-8-2025f9d1dd06>\u001b[0m in \u001b[0;36m<module>\u001b[0;34m()\u001b[0m\n\u001b[1;32m      1\u001b[0m \u001b[0mreload\u001b[0m\u001b[0;34m(\u001b[0m\u001b[0mlib\u001b[0m\u001b[0;34m)\u001b[0m\u001b[0;34m\u001b[0m\u001b[0m\n\u001b[0;32m----> 2\u001b[0;31m \u001b[0;32mfrom\u001b[0m \u001b[0mlib\u001b[0m \u001b[0;32mimport\u001b[0m \u001b[0mn\u001b[0m\u001b[0;34m,\u001b[0m \u001b[0mm\u001b[0m\u001b[0;34m,\u001b[0m \u001b[0mng\u001b[0m\u001b[0;34m,\u001b[0m \u001b[0mnht\u001b[0m\u001b[0;34m,\u001b[0m     \u001b[0muser_ids\u001b[0m\u001b[0;34m,\u001b[0m \u001b[0mmovie_ids\u001b[0m\u001b[0;34m,\u001b[0m \u001b[0muids\u001b[0m\u001b[0;34m,\u001b[0m \u001b[0mmids\u001b[0m\u001b[0;34m,\u001b[0m \u001b[0mmovies\u001b[0m\u001b[0;34m,\u001b[0m \u001b[0mmovies_features\u001b[0m\u001b[0;34m,\u001b[0m    \u001b[0mload\u001b[0m\u001b[0;34m,\u001b[0m \u001b[0mget_features\u001b[0m\u001b[0;34m,\u001b[0m \u001b[0mprefix\u001b[0m\u001b[0;34m,\u001b[0m \u001b[0mremove\u001b[0m\u001b[0;34m,\u001b[0m \u001b[0mget_vertices\u001b[0m\u001b[0;34m,\u001b[0m \u001b[0mget_graph\u001b[0m\u001b[0;34m,\u001b[0m     \u001b[0mrmse_u\u001b[0m\u001b[0;34m,\u001b[0m\u001b[0mrmse\u001b[0m\u001b[0;34m,\u001b[0m \u001b[0mdot_feature\u001b[0m\u001b[0;34m,\u001b[0m \u001b[0mgetLR\u001b[0m\u001b[0;34m,\u001b[0m     \u001b[0msgd_triple_updater\u001b[0m\u001b[0;34m,\u001b[0m \u001b[0msgl_gl_edge\u001b[0m\u001b[0;34m,\u001b[0m     \u001b[0mrun_full\u001b[0m\u001b[0;34m,\u001b[0m \u001b[0mrun_debug\u001b[0m\u001b[0;34m,\u001b[0m \u001b[0meta_search\u001b[0m\u001b[0;34m,\u001b[0m     \u001b[0msearch_pure_mf\u001b[0m\u001b[0;34m,\u001b[0m \u001b[0msearch_pure_mf_coor\u001b[0m\u001b[0;34m,\u001b[0m \u001b[0mrun_pure_mf\u001b[0m\u001b[0;34m,\u001b[0m     \u001b[0msearch_cf\u001b[0m\u001b[0;34m,\u001b[0m \u001b[0msearch_cf_coor\u001b[0m\u001b[0;34m,\u001b[0m \u001b[0mrun_cf\u001b[0m\u001b[0;34m,\u001b[0m \u001b[0mrun_cf2\u001b[0m\u001b[0;34m\u001b[0m\u001b[0m\n\u001b[0m",
      "\u001b[0;31mImportError\u001b[0m: cannot import name sgl_gl_edge"
     ]
    }
   ],
   "source": [
    "reload(lib)\n",
    "from lib import n, m, ng, nht, \\\n",
    "    user_ids, movie_ids, uids, mids, movies, movies_features,\\\n",
    "    load, get_features, prefix, remove, get_vertices, get_graph, \\\n",
    "    rmse_u,rmse, dot_feature, getLR, \\\n",
    "    sgd_triple_updater, sgl_gl_edge, \\\n",
    "    run_full, run_debug, eta_search, \\\n",
    "    search_pure_mf, search_pure_mf_coor, run_pure_mf, \\\n",
    "    search_cf, search_cf_coor, run_cf, run_cf2"
   ]
  },
  {
   "cell_type": "code",
   "execution_count": 27,
   "metadata": {
    "collapsed": false
   },
   "outputs": [
    {
     "name": "stdout",
     "output_type": "stream",
     "text": [
      "get_graph 0:00:13.956655\n",
      "0: 1.7583\n",
      "eta=0.05, lambduh=0.001, lambduh=0.001, unified=True, lambduh_w=0.001\n",
      "1 : 1.0050 (time:0:00:31.436064)\n",
      "test=1.6833\n"
     ]
    }
   ],
   "source": [
    "# rmse_train, rmse_test, L, R, wu, wm, bu, bm = run_debug()"
   ]
  },
  {
   "cell_type": "code",
   "execution_count": null,
   "metadata": {
    "collapsed": false
   },
   "outputs": [
    {
     "name": "stdout",
     "output_type": "stream",
     "text": [
      "get_graph 0:00:16.150340\n",
      "0: 1.7524"
     ]
    }
   ],
   "source": [
    "optimal_mf = search_pure_mf_coor()\n",
    "# optimal_mf = search_pure_mf(data='ratings_debug_small', Niter=1)"
   ]
  },
  {
   "cell_type": "code",
   "execution_count": null,
   "metadata": {
    "collapsed": false,
    "scrolled": true
   },
   "outputs": [],
   "source": [
    "# rmse_map, rmse_train, rmse_test = run_pure_mf(min_lambduh, min_k)"
   ]
  },
  {
   "cell_type": "code",
   "execution_count": 9,
   "metadata": {
    "collapsed": false
   },
   "outputs": [
    {
     "ename": "NameError",
     "evalue": "name 'search_cf' is not defined",
     "output_type": "error",
     "traceback": [
      "\u001b[0;31m---------------------------------------------------------------------------\u001b[0m",
      "\u001b[0;31mNameError\u001b[0m                                 Traceback (most recent call last)",
      "\u001b[0;32m<ipython-input-9-93c90e71f3bb>\u001b[0m in \u001b[0;36m<module>\u001b[0;34m()\u001b[0m\n\u001b[1;32m      1\u001b[0m \u001b[0;31m# optimal_cf = search_cf()\u001b[0m\u001b[0;34m\u001b[0m\u001b[0;34m\u001b[0m\u001b[0m\n\u001b[0;32m----> 2\u001b[0;31m \u001b[0moptimal_cf\u001b[0m \u001b[0;34m=\u001b[0m \u001b[0msearch_cf\u001b[0m\u001b[0;34m(\u001b[0m\u001b[0mdata\u001b[0m\u001b[0;34m=\u001b[0m\u001b[0;34m'ratings_debug_small'\u001b[0m\u001b[0;34m,\u001b[0m \u001b[0mNiter\u001b[0m\u001b[0;34m=\u001b[0m\u001b[0;36m1\u001b[0m\u001b[0;34m)\u001b[0m\u001b[0;34m\u001b[0m\u001b[0m\n\u001b[0m",
      "\u001b[0;31mNameError\u001b[0m: name 'search_cf' is not defined"
     ]
    }
   ],
   "source": [
    "# optimal_cf = search_cf()\n",
    "optimal_cf = search_cf(data='ratings_debug_small', Niter=1)"
   ]
  },
  {
   "cell_type": "code",
   "execution_count": null,
   "metadata": {
    "collapsed": true
   },
   "outputs": [],
   "source": [
    "# rmses_cf = run_cf(min_lambduh, min_k, min_lambduh_w)\n",
    "# rmses_cf2 = run_cf2(min_lambduh, min_k, min_lambduh_w)"
   ]
  }
 ],
 "metadata": {
  "kernelspec": {
   "display_name": "Python 2",
   "language": "python",
   "name": "python2"
  },
  "language_info": {
   "codemirror_mode": {
    "name": "ipython",
    "version": 2
   },
   "file_extension": ".py",
   "mimetype": "text/x-python",
   "name": "python",
   "nbconvert_exporter": "python",
   "pygments_lexer": "ipython2",
   "version": "2.7.3"
  }
 },
 "nbformat": 4,
 "nbformat_minor": 0
}
