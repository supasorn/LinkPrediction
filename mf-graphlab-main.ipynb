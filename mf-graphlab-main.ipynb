{
 "cells": [
  {
   "cell_type": "code",
   "execution_count": 1,
   "metadata": {
    "collapsed": false
   },
   "outputs": [
    {
     "name": "stderr",
     "output_type": "stream",
     "text": [
      "[INFO] This trial license of GraphLab Create is assigned to kanitw@gmail.com and will expire on June 26, 2015. Please contact trial@dato.com for licensing options or to request a free non-commercial license for personal or academic use.\n",
      "\n",
      "[INFO] Start server at: ipc:///tmp/graphlab_server-28333 - Server binary: /usr/local/lib/python2.7/site-packages/graphlab/unity_server - Server log: /tmp/graphlab_server_1433231156.log\n",
      "[INFO] GraphLab Server Version: 1.4.0\n"
     ]
    }
   ],
   "source": [
    "import graphlab as gl\n",
    "from graphlab import SFrame\n",
    "from graphlab import SGraph\n",
    "import numpy as np\n",
    "from random import sample\n",
    "import random\n",
    "import scipy.io as sio\n",
    "from itertools import izip\n",
    "from datetime import datetime\n",
    "from numpy.random import rand\n",
    "random.seed(123)\n",
    "np.random.seed(123)"
   ]
  },
  {
   "cell_type": "code",
   "execution_count": 2,
   "metadata": {
    "collapsed": true
   },
   "outputs": [],
   "source": [
    "import lib"
   ]
  },
  {
   "cell_type": "code",
   "execution_count": 26,
   "metadata": {
    "collapsed": true
   },
   "outputs": [],
   "source": [
    "reload(lib)\n",
    "from lib import n, m, ng, nht, user_ids, movie_ids, uids, mids,\\\n",
    "    load, get_features, prefix, remove, get_vertices, get_graph, \\\n",
    "    rmse_u,rmse, dot_feature, getLR, sgd_triple_updater, \\\n",
    "    run_full, run_debug, eta_search"
   ]
  },
  {
   "cell_type": "code",
   "execution_count": null,
   "metadata": {
    "collapsed": true
   },
   "outputs": [],
   "source": [
    "# import gflags\n",
    "\n",
    "# FLAGS = gflags.FLAGS\n",
    "# #gflags.DEFINE_string('train', 'netflix_mm_10000_1000', 'Training File')\n",
    "# #gflags.DEFINE_string('test', 'netflix_mm_10000_1000', 'Testing File')\n",
    "# gflags.DEFINE_string('dataset', 'ratings_debug', 'dataset')\n",
    "# gflags.DEFINE_string('movie', 'movies', 'Testing File')\n",
    "# gflags.DEFINE_integer('rank', 10, 'Matrix Rank')\n",
    "# gflags.DEFINE_float('lamb', 0.1, 'Lambda')\n",
    "# gflags.DEFINE_float('eta', 0.01, 'Learning Rate')\n",
    "# gflags.DEFINE_integer('maxit', 50, 'Maximum Number of Iterations')\n",
    "# gflags.DEFINE_integer('rmseint', 5, 'RMSE Computation Interval')\n",
    "# gflags.DEFINE_integer('cores', -1, 'CPU cores')\n"
   ]
  },
  {
   "cell_type": "code",
   "execution_count": 20,
   "metadata": {
    "collapsed": false
   },
   "outputs": [],
   "source": [
    "movies = sio.mmread('data/movies.mtx').tocsr()\n",
    "movies.eliminate_zeros()\n",
    "movies_features = list(get_features(movies[i]) for i in xrange(m))"
   ]
  },
  {
   "cell_type": "code",
   "execution_count": 14,
   "metadata": {
    "collapsed": false
   },
   "outputs": [],
   "source": [
    "def sgd_gl_edge(g, X_train, X_test, \\\n",
    "                lambduh, k, eta=0.05, unified=False, lambduh_w=0, Niter=100, \\\n",
    "                e_rmse=0.005, rmse_train=None, test_freq=5):\n",
    "    get_rmse = rmse_u if unified else rmse\n",
    "    \n",
    "    L, R, wu, wm, bu, bm = getLR(g, unified, k)\n",
    "    rmse_train = [get_rmse(X_train, L, R, wu, wm, bu, bm, movies) if rmse_train is None else rmse_train]\n",
    "    rmse_test = []\n",
    "    \n",
    "    print \"%s: %.4f\" % (0,rmse_train[-1])\n",
    "    start = datetime.now()\n",
    "    \n",
    "    print 'eta=%s, lambduh=%s, lambduh=%s, unified=%s, lambduh_w=%s' % (eta, lambduh, lambduh, unified, lambduh_w)\n",
    "    \n",
    "    for i in xrange(1, Niter+1): \n",
    "        g = g.triple_apply(sgd_triple_updater(\\\n",
    "            eta, lambduh, lambduh, unified, lambduh_w), ['factors', 'w','b'])\n",
    "        \n",
    "        L, R, wu, wm, bu, bm = getLR(g, unified, k)\n",
    "        rmse_train.append(get_rmse(X_train, L, R, wu, wm, bu, bm, movies))\n",
    "        \n",
    "        print \"%s : %.4f (time:%s)\" % (i, rmse_train[-1], datetime.now()-start)\n",
    "        if abs(rmse_train[-1] - rmse_train[-2]) < e_rmse or np.isnan(rmse_train[-1]):\n",
    "            break\n",
    "        if test_freq > 0 and i % test_freq == 0:\n",
    "            rmses_test.append((i,get_rmse(X_test, L, R, wu, wm, bu, bm, movies)))\n",
    "    \n",
    "    rmse_test.append((i,get_rmse(X_test, L, R, wu, wm, bu, bm, movies)))\n",
    "    print \"test=%.4f\" % (rmse_test[-1][1])\n",
    "    return rmse_train, rmse_test, L, R, wu, wm, bu, bm\n",
    "        "
   ]
  },
  {
   "cell_type": "code",
   "execution_count": 27,
   "metadata": {
    "collapsed": false
   },
   "outputs": [
    {
     "name": "stdout",
     "output_type": "stream",
     "text": [
      "get_graph 0:00:13.956655\n",
      "0: 1.7583\n",
      "eta=0.05, lambduh=0.001, lambduh=0.001, unified=True, lambduh_w=0.001\n",
      "1 : 1.0050 (time:0:00:31.436064)\n",
      "test=1.6833\n"
     ]
    }
   ],
   "source": [
    "# rmse_train, rmse_test, L, R, wu, wm, bu, bm = run_debug()"
   ]
  },
  {
   "cell_type": "code",
   "execution_count": 8,
   "metadata": {
    "collapsed": false
   },
   "outputs": [],
   "source": [
    "def search_pure_mf(eta=0.05, Niter=20, data='ratings_debug'):\n",
    "    X_train_debug, X_test_debug = load(data)\n",
    "    min_rmse_test = float('inf')\n",
    "    min_k, min_lambduh = None, None\n",
    "    rmse_map = {}\n",
    "    for lambduh in [0.001, 0.01, 0.1]:\n",
    "        for k in [5, 10, 20]:\n",
    "            g = get_graph(X_train_debug, k, movies)\n",
    "            rmse_trainunified, rmse_test, L, R, wu, wm, bu, bm = \\\n",
    "                sgd_gl_edge(g, X_train_debug, X_test_debug, lambduh, k, eta, Niter=Niter)\n",
    "            rmse_map.get(lambduh, {})[k] = rmse_test\n",
    "            print \"l=%s, k=%s, rmse=%.4f\" % (lambduh, k, rmse_test[-1][1])\n",
    "            if rmse_test[-1][1] < min_rmse_test  or np.isnan(rmse_test[-1][1]):\n",
    "                min_rmse_test = rmse_test[-1][1]\n",
    "                min_k = k\n",
    "                min_lambduh = lambduh\n",
    "    return min_rmse_test, min_lambduh, min_k\n",
    "\n",
    "\n",
    "def search_pure_mf_coor(eta=0.05, Niter=20, data='ratings_debug'):\n",
    "    X_train_debug, X_test_debug = load(data)\n",
    "    min_rmse_test = float('inf')\n",
    "    min_k, min_lambduh = None, None\n",
    "    rmse_map = {}    \n",
    "    lambduh = 0.01\n",
    "    for k in [5, 10, 20]:\n",
    "        g = get_graph(X_train_debug, k, movies_features)\n",
    "        rmse_train, rmse_test, L, R, wu, wm, bu, bm = \\\n",
    "            sgd_gl_edge(g, X_train_debug, X_test_debug, lambduh, k, eta, Niter=Niter)\n",
    "        rmse_map.get(lambduh, {})[k] = rmse_test\n",
    "        print \"l=%s, k=%s, rmse=%.4f\" % (lambduh, k, rmse_test[-1][1])\n",
    "        if rmse_test[-1][1] < min_rmse_test or np.isnan(rmse_test[-1][1]):\n",
    "            min_rmse_test = rmse_test[-1][1]\n",
    "            min_k = k\n",
    "            min_lambduh = lambduh\n",
    "    k=min_k\n",
    "    for lambduh in [0.001, 0.1]:\n",
    "        g = get_graph(X_train_debug, k, movies_features)\n",
    "        rmse_trainunified, rmse_test, L, R, wu, wm, bu, bm = \\\n",
    "            sgd_gl_edge(g, X_train_debug, X_test_debug, lambduh, k, eta, Niter=Niter)\n",
    "        rmse_map.get(lambduh, {})[k] = rmse_test\n",
    "        print \"l=%s, k=%s, rmse=%.4f\" % (lambduh, k, rmse_test[-1][1])\n",
    "        if rmse_test[-1][1] < min_rmse_test  or np.isnan(rmse_test[-1][1]):\n",
    "            min_rmse_test = rmse_test[-1][1]\n",
    "            min_lambduh = lambduh\n",
    "    return min_rmse_test, min_lambduh, min_k\n",
    "    \n",
    "def run_pure_mf(min_lambduh, min_k, eta=0.05):\n",
    "    X_train, X_test = load('ratings')\n",
    "    g = get_graph(X_train, 5, movies_features)\n",
    "    rmse_train, rmse_test, L, R = \\\n",
    "                sgd_gl_edge(g, X_train, X_test, min_lambduh, min_k)\n",
    "    print rmse_test[-1][1]\n",
    "    return rmse_map, rmse_train, rmse_test"
   ]
  },
  {
   "cell_type": "code",
   "execution_count": 9,
   "metadata": {
    "collapsed": false
   },
   "outputs": [
    {
     "ename": "NameError",
     "evalue": "global name 'n' is not defined",
     "output_type": "error",
     "traceback": [
      "\u001b[0;31m---------------------------------------------------------------------------\u001b[0m",
      "\u001b[0;31mNameError\u001b[0m                                 Traceback (most recent call last)",
      "\u001b[0;32m<ipython-input-9-8f5e1e989145>\u001b[0m in \u001b[0;36m<module>\u001b[0;34m()\u001b[0m\n\u001b[1;32m      1\u001b[0m \u001b[0;31m# optimal_mf = search_pure_mf()\u001b[0m\u001b[0;34m\u001b[0m\u001b[0;34m\u001b[0m\u001b[0m\n\u001b[0;32m----> 2\u001b[0;31m \u001b[0moptimal_mf\u001b[0m \u001b[0;34m=\u001b[0m \u001b[0msearch_pure_mf\u001b[0m\u001b[0;34m(\u001b[0m\u001b[0mdata\u001b[0m\u001b[0;34m=\u001b[0m\u001b[0;34m'ratings_debug_small'\u001b[0m\u001b[0;34m,\u001b[0m \u001b[0mNiter\u001b[0m\u001b[0;34m=\u001b[0m\u001b[0;36m1\u001b[0m\u001b[0;34m)\u001b[0m\u001b[0;34m\u001b[0m\u001b[0m\n\u001b[0m",
      "\u001b[0;32m<ipython-input-8-22d6874dda3a>\u001b[0m in \u001b[0;36msearch_pure_mf\u001b[0;34m(eta, Niter, data)\u001b[0m\n\u001b[1;32m     25\u001b[0m     \u001b[0mlambduh\u001b[0m \u001b[0;34m=\u001b[0m \u001b[0;36m0.01\u001b[0m\u001b[0;34m\u001b[0m\u001b[0m\n\u001b[1;32m     26\u001b[0m     \u001b[0;32mfor\u001b[0m \u001b[0mk\u001b[0m \u001b[0;32min\u001b[0m \u001b[0;34m[\u001b[0m\u001b[0;36m5\u001b[0m\u001b[0;34m,\u001b[0m \u001b[0;36m10\u001b[0m\u001b[0;34m,\u001b[0m \u001b[0;36m20\u001b[0m\u001b[0;34m]\u001b[0m\u001b[0;34m:\u001b[0m\u001b[0;34m\u001b[0m\u001b[0m\n\u001b[0;32m---> 27\u001b[0;31m         \u001b[0mg\u001b[0m \u001b[0;34m=\u001b[0m \u001b[0mget_graph\u001b[0m\u001b[0;34m(\u001b[0m\u001b[0mX_train_debug\u001b[0m\u001b[0;34m,\u001b[0m \u001b[0mk\u001b[0m\u001b[0;34m,\u001b[0m \u001b[0mmovies\u001b[0m\u001b[0;34m)\u001b[0m\u001b[0;34m\u001b[0m\u001b[0m\n\u001b[0m\u001b[1;32m     28\u001b[0m         \u001b[0mrmse_train\u001b[0m\u001b[0;34m,\u001b[0m \u001b[0mrmse_test\u001b[0m\u001b[0;34m,\u001b[0m \u001b[0mL\u001b[0m\u001b[0;34m,\u001b[0m \u001b[0mR\u001b[0m\u001b[0;34m,\u001b[0m \u001b[0mwu\u001b[0m\u001b[0;34m,\u001b[0m \u001b[0mwm\u001b[0m\u001b[0;34m,\u001b[0m \u001b[0mbu\u001b[0m\u001b[0;34m,\u001b[0m \u001b[0mbm\u001b[0m \u001b[0;34m=\u001b[0m             \u001b[0msgd_gl_edge\u001b[0m\u001b[0;34m(\u001b[0m\u001b[0mg\u001b[0m\u001b[0;34m,\u001b[0m \u001b[0mX_train_debug\u001b[0m\u001b[0;34m,\u001b[0m \u001b[0mX_test_debug\u001b[0m\u001b[0;34m,\u001b[0m \u001b[0mlambduh\u001b[0m\u001b[0;34m,\u001b[0m \u001b[0mk\u001b[0m\u001b[0;34m,\u001b[0m \u001b[0meta\u001b[0m\u001b[0;34m,\u001b[0m \u001b[0mNiter\u001b[0m\u001b[0;34m=\u001b[0m\u001b[0mNiter\u001b[0m\u001b[0;34m)\u001b[0m\u001b[0;34m\u001b[0m\u001b[0m\n\u001b[1;32m     29\u001b[0m         \u001b[0mrmse_map\u001b[0m\u001b[0;34m.\u001b[0m\u001b[0mget\u001b[0m\u001b[0;34m(\u001b[0m\u001b[0mlambduh\u001b[0m\u001b[0;34m,\u001b[0m \u001b[0;34m{\u001b[0m\u001b[0;34m}\u001b[0m\u001b[0;34m)\u001b[0m\u001b[0;34m[\u001b[0m\u001b[0mk\u001b[0m\u001b[0;34m]\u001b[0m \u001b[0;34m=\u001b[0m \u001b[0mrmse_test\u001b[0m\u001b[0;34m\u001b[0m\u001b[0m\n",
      "\u001b[0;32m/Users/kanitw/Documents/_code/_hw/cse547-hw/project/LinkPrediction/lib.pyc\u001b[0m in \u001b[0;36mget_graph\u001b[0;34m(X_train, k, movies)\u001b[0m\n\u001b[1;32m     51\u001b[0m     \u001b[0mstart\u001b[0m \u001b[0;34m=\u001b[0m \u001b[0mdatetime\u001b[0m\u001b[0;34m.\u001b[0m\u001b[0mnow\u001b[0m\u001b[0;34m(\u001b[0m\u001b[0;34m)\u001b[0m\u001b[0;34m\u001b[0m\u001b[0m\n\u001b[1;32m     52\u001b[0m     \u001b[0mfactor0\u001b[0m \u001b[0;34m=\u001b[0m \u001b[0;34m(\u001b[0m\u001b[0mX_train\u001b[0m\u001b[0;34m[\u001b[0m\u001b[0;34m'rating'\u001b[0m\u001b[0;34m]\u001b[0m\u001b[0;34m.\u001b[0m\u001b[0mmean\u001b[0m\u001b[0;34m(\u001b[0m\u001b[0;34m)\u001b[0m \u001b[0;34m/\u001b[0m \u001b[0mk\u001b[0m \u001b[0;34m/\u001b[0m \u001b[0;36m0.25\u001b[0m\u001b[0;34m)\u001b[0m \u001b[0;34m**\u001b[0m \u001b[0;36m0.5\u001b[0m\u001b[0;34m\u001b[0m\u001b[0m\n\u001b[0;32m---> 53\u001b[0;31m     \u001b[0mvertices\u001b[0m  \u001b[0;34m=\u001b[0m \u001b[0mget_vertices\u001b[0m\u001b[0;34m(\u001b[0m\u001b[0mn\u001b[0m\u001b[0;34m,\u001b[0m \u001b[0mm\u001b[0m\u001b[0;34m,\u001b[0m \u001b[0mk\u001b[0m\u001b[0;34m,\u001b[0m \u001b[0mmovies\u001b[0m\u001b[0;34m,\u001b[0m \u001b[0mfactor0\u001b[0m\u001b[0;34m)\u001b[0m\u001b[0;34m\u001b[0m\u001b[0m\n\u001b[0m\u001b[1;32m     54\u001b[0m     \u001b[0mX_train\u001b[0m\u001b[0;34m[\u001b[0m\u001b[0;34m'uid'\u001b[0m\u001b[0;34m]\u001b[0m \u001b[0;34m=\u001b[0m \u001b[0mX_train\u001b[0m\u001b[0;34m[\u001b[0m\u001b[0;34m'userId'\u001b[0m\u001b[0;34m]\u001b[0m\u001b[0;34m.\u001b[0m\u001b[0mapply\u001b[0m\u001b[0;34m(\u001b[0m\u001b[0mprefix\u001b[0m\u001b[0;34m(\u001b[0m\u001b[0;34m'u'\u001b[0m\u001b[0;34m)\u001b[0m\u001b[0;34m)\u001b[0m\u001b[0;34m\u001b[0m\u001b[0m\n\u001b[1;32m     55\u001b[0m     \u001b[0mX_train\u001b[0m\u001b[0;34m[\u001b[0m\u001b[0;34m'mid'\u001b[0m\u001b[0;34m]\u001b[0m \u001b[0;34m=\u001b[0m \u001b[0mX_train\u001b[0m\u001b[0;34m[\u001b[0m\u001b[0;34m'movieId'\u001b[0m\u001b[0;34m]\u001b[0m\u001b[0;34m.\u001b[0m\u001b[0mapply\u001b[0m\u001b[0;34m(\u001b[0m\u001b[0mprefix\u001b[0m\u001b[0;34m(\u001b[0m\u001b[0;34m'm'\u001b[0m\u001b[0;34m)\u001b[0m\u001b[0;34m)\u001b[0m\u001b[0;34m\u001b[0m\u001b[0m\n",
      "\u001b[0;31mNameError\u001b[0m: global name 'n' is not defined"
     ]
    }
   ],
   "source": [
    "# optimal_mf = search_pure_mf()\n",
    "optimal_mf = search_pure_mf(data='ratings_debug_small', Niter=1)"
   ]
  },
  {
   "cell_type": "code",
   "execution_count": null,
   "metadata": {
    "collapsed": false,
    "scrolled": true
   },
   "outputs": [],
   "source": [
    "# rmse_map, rmse_train, rmse_test = run_pure_mf(min_lambduh, min_k)"
   ]
  },
  {
   "cell_type": "code",
   "execution_count": 105,
   "metadata": {
    "collapsed": false
   },
   "outputs": [],
   "source": [
    "def search_cf(eta=0.05, Niter=20, data='ratings_debug'):\n",
    "    X_train_debug, X_test_debug = load(data)\n",
    "    min_rmse_test = float('inf')\n",
    "    min_k, min_lambduh, min_lambduh_w = None, None, None\n",
    "    rmse_map = {}\n",
    "    lambduh, lambduh_w = 0.01, 0.01\n",
    "    for k in [5, 10, 20]:\n",
    "        g = get_graph(X_train_debug, k, movies_features)\n",
    "        rmse_train, rmse_test, L, R, wu, wm, bu, bm = \\\n",
    "            sgd_gl_edge(g, X_train_debug, X_test_debug, lambduh, k, eta, \\\n",
    "                        unified=True, lambduh_w=lambduh_w, Niter=Niter)\n",
    "        rmse_map.get(lambduh, {}).get(k,{})[lambduh_w] = rmse_test\n",
    "        print \"l=%s, k=%s, l_w=%s, rmse=%.4f\" % (lambduh, k, lambduh_w, rmse_test[-1][1])\n",
    "        if rmse_test[-1][1] < min_rmse_test or np.isnan(rmse_test[-1][1]):\n",
    "            min_rmse_test = rmse_test[-1][1]\n",
    "            min_k = k\n",
    "    k=min_k\n",
    "    for lambduh in [0.001, 0.01, 0.1]:\n",
    "        for lambduh_w in [0.001, 0.01, 0.1]:\n",
    "            g = get_graph(X_train_debug, k, movies_features)\n",
    "            rmse_train, rmse_test, L, R, wu, wm, bu, bm = \\\n",
    "                sgd_gl_edge(g, X_train_debug, X_test_debug, lambduh, k, eta, \\\n",
    "                            unified=True, lambduh_w=lambduh_w, Niter=Niter)\n",
    "            rmse_map.get(lambduh, {}).get(k,{})[lambduh_w] = rmse_test\n",
    "            \n",
    "            print \"l=%s, k=%s, l_w=%s, rmse=%.4f\" % (lambduh, k, lambduh_w, rmse_test[-1][1])\n",
    "            if rmse_test[-1][1] < min_rmse_test or np.isnan(rmse_test[-1][1]):\n",
    "                min_rmse_test = rmse_test[-1][1]\n",
    "                min_lambduh = lambduh\n",
    "                min_lambduh_w = lambduh_w\n",
    "\n",
    "    return min_rmse_test, min_lambduh, min_k, min_lambduh_w\n",
    "    \n",
    "def run_cf(min_lambduh, min_k, min_lambduh_w, eta=0.05):\n",
    "    X_train, X_test = load('ratings')\n",
    "    g = get_graph(X_train, min_k, movies_features)\n",
    "    rmse_train, rmse_test, L, R = \\\n",
    "                sgd_gl_edge(g, X_train, X_test, min_lambduh, min_k, min_eta, \\\n",
    "                                unified=True, lambduh_w=min_lambduh_w)\n",
    "    print rmse_test[-1][1]\n",
    "    return rmse_map, rmse_train, rmse_test"
   ]
  },
  {
   "cell_type": "code",
   "execution_count": null,
   "metadata": {
    "collapsed": true
   },
   "outputs": [],
   "source": [
    "# def search_cf(eta=0.05):\n",
    "#     X_train_debug, X_test_debug = load('ratings_debug')\n",
    "#     min_rmse_test = float('inf')\n",
    "#     min_k, min_lambduh, min_lambduh_w = None, None, None\n",
    "#     rmse_map = {}\n",
    "#     for k in [5, 10, 20]:\n",
    "#         for lambduh in [0.001, 0.01, 0.1]:\n",
    "#             for lambduh_w in [0.001, 0.01, 0.1]:\n",
    "#                 g = get_graph(X_train_debug, k, movies_features)\n",
    "#                 rmse_train, rmse_test, L, R, wu, wm, bu, bm = \\\n",
    "#                     sgd_gl_edge(g, X_train_debug, X_test_debug, lambduh, k, eta, \\\n",
    "#                                 unified=True, lambduh_w=lambduh_w)\n",
    "#                 rmse_map.get(lambduh, {}).get(k,{})[lambduh_w] = rmse_test\n",
    "#                 print \"l=%s, k=%s, l_w=%s, rmse=%.4f\" % (lambduh, k, lambduh_w, rmse_test)\n",
    "#                 if rmse_test < min_rmse_test or np.isnan(rmse_test):\n",
    "#                     min_rmse_test = rmse_test\n",
    "#                     min_k = k\n",
    "#                     min_lambduh = lambduh\n",
    "#                     min_lambduh_w = lambduh_w\n",
    "\n",
    "#     return min_rmse_test, min_lambduh, min_k, min_lambduh_w"
   ]
  },
  {
   "cell_type": "code",
   "execution_count": null,
   "metadata": {
    "collapsed": true
   },
   "outputs": [],
   "source": [
    "# run coldstart to predict cold-start dataset\n",
    "def run_cf2(min_lambduh, min_k, min_lambduh_w, eta=0.05):\n",
    "    X_train, X_test = load('ratings_cs')\n",
    "    g = get_graph(X_train, min_k, movies_features)\n",
    "    rmse_train, rmse_test, L, R = \\\n",
    "                sgd_gl_edge(g, X_train, X_test, min_lambduh, min_k, min_eta, \\\n",
    "                                unified=true, lambduh_w=min_lambduh_w)\n",
    "    print rmse_test\n",
    "    return rmse_map, rmse_train, rmse_test"
   ]
  },
  {
   "cell_type": "code",
   "execution_count": null,
   "metadata": {
    "collapsed": false
   },
   "outputs": [],
   "source": [
    "# optimal_cf = search_cf()\n",
    "optimal_cf = search_cf(data='ratings_debug_small', Niter=1)"
   ]
  },
  {
   "cell_type": "code",
   "execution_count": null,
   "metadata": {
    "collapsed": true
   },
   "outputs": [],
   "source": [
    "# rmses_cf = run_cf(min_lambduh, min_k, min_lambduh_w)\n",
    "# rmses_cf2 = run_cf2(min_lambduh, min_k, min_lambduh_w)"
   ]
  }
 ],
 "metadata": {
  "kernelspec": {
   "display_name": "Python 2",
   "language": "python",
   "name": "python2"
  },
  "language_info": {
   "codemirror_mode": {
    "name": "ipython",
    "version": 2
   },
   "file_extension": ".py",
   "mimetype": "text/x-python",
   "name": "python",
   "nbconvert_exporter": "python",
   "pygments_lexer": "ipython2",
   "version": "2.7.3"
  }
 },
 "nbformat": 4,
 "nbformat_minor": 0
}
