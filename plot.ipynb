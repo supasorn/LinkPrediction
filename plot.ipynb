{
 "cells": [
  {
   "cell_type": "code",
   "execution_count": 1,
   "metadata": {
    "collapsed": true
   },
   "outputs": [],
   "source": [
    "train = [0.604255, 0.610064, 0.615182, 0.621191, 0.628228, 0.636071, 0.645129, 0.654826, 0.665248, 0.676327, 0.688678, 0.700217, 0.712928, 0.726742, 0.740284, 0.753542, 0.767320, 0.780989, 0.794237, 0.807206, 0.816160] \n",
    "\n",
    "test = [1.074918, 0.989220, 0.953115, 0.928455, 0.910106, 0.896169, 0.885433, 0.877442, 0.871651, 0.867681, 0.865728, 0.864080, 0.864035, 0.865411, 0.867127, 0.868916, 0.871774, 0.875172, 0.879060, 0.884179, 0.887081] "
   ]
  },
  {
   "cell_type": "code",
   "execution_count": 5,
   "metadata": {
    "collapsed": false
   },
   "outputs": [
    {
     "data": {
      "image/png": "[encoded data removed]",
      "text/plain": [
       "<matplotlib.figure.Figure at 0x10f4ea610>"
      ]
     },
     "metadata": {},
     "output_type": "display_data"
    }
   ],
   "source": [
    "%matplotlib inline \n",
    "\n",
    "import numpy as np\n",
    "import matplotlib.pyplot as plt\n",
    "\n",
    "t = np.arange(0., 0.21, 0.01)\n",
    "\n",
    "# red dashes, blue squares and green triangles\n",
    "plt.plot(t, train, 'r^', t, test, 'bs')\n",
    "plt.savefig(\"plot.png\")\n",
    "plt.show()"
   ]
  },
  {
   "cell_type": "code",
   "execution_count": null,
   "metadata": {
    "collapsed": true
   },
   "outputs": [],
   "source": []
  }
 ],
 "metadata": {
  "kernelspec": {
   "display_name": "Python 2",
   "language": "python",
   "name": "python2"
  },
  "language_info": {
   "codemirror_mode": {
    "name": "ipython",
    "version": 2
   },
   "file_extension": ".py",
   "mimetype": "text/x-python",
   "name": "python",
   "nbconvert_exporter": "python",
   "pygments_lexer": "ipython2",
   "version": "2.7.3"
  }
 },
 "nbformat": 4,
 "nbformat_minor": 0
}
