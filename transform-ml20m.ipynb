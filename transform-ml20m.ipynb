{
 "cells": [
  {
   "cell_type": "markdown",
   "metadata": {},
   "source": [
    "Assume the data has been loaded from \n",
    "http://files.grouplens.org/datasets/movielens/ml-20m.zip and unpacked in data/ml-20m"
   ]
  },
  {
   "cell_type": "code",
   "execution_count": 30,
   "metadata": {
    "collapsed": false
   },
   "outputs": [],
   "source": [
    "import scipy.io as sio\n",
    "import pandas as pd\n",
    "from scipy.sparse import dok_matrix\n",
    "from random import sample\n",
    "import random\n",
    "random.seed(123)\n",
    "import graphlab as gl\n",
    "from graphlab import SFrame\n",
    "from graphlab import SGraph\n",
    "import numpy as np\n",
    "from datetime import datetime\n",
    "from numpy.linalg import norm"
   ]
  },
  {
   "cell_type": "code",
   "execution_count": 235,
   "metadata": {
    "collapsed": true
   },
   "outputs": [],
   "source": [
    "import lib_transform"
   ]
  },
  {
   "cell_type": "code",
   "execution_count": 280,
   "metadata": {
    "collapsed": false
   },
   "outputs": [],
   "source": [
    "reload(lib_transform)\n",
    "from lib_transform import Transformer, get_debug, gen_cs"
   ]
  },
  {
   "cell_type": "code",
   "execution_count": 278,
   "metadata": {
    "collapsed": true
   },
   "outputs": [],
   "source": [
    "T = Transformer()"
   ]
  },
  {
   "cell_type": "code",
   "execution_count": 155,
   "metadata": {
    "collapsed": false
   },
   "outputs": [],
   "source": [
    "# split normal\n",
    "train_ids, _, test_ids = sample_split(T.nr)\n",
    "T.save_ratings_splits_mtx(train_ids, [], test_ids, 'ratings_normal')\n",
    "T.save_ratings_splits_sf(train_ids, [], test_ids, 'ratings_normal')"
   ]
  },
  {
   "cell_type": "code",
   "execution_count": 281,
   "metadata": {
    "collapsed": false
   },
   "outputs": [
    {
     "name": "stdout",
     "output_type": "stream",
     "text": [
      "dividing\n",
      "div 0 1.0\n",
      "div 10000 1.0\n",
      "div 20000 0.5\n",
      "0:11:14.677997\n"
     ]
    }
   ],
   "source": [
    "# write phi(m) -- features for each movie!\n",
    "start= datetime.now()\n",
    "movies_mtx = T.get_movie_matrix(40,\"movies.mtx\")\n",
    "print datetime.now()-start"
   ]
  },
  {
   "cell_type": "code",
   "execution_count": null,
   "metadata": {
    "collapsed": true
   },
   "outputs": [],
   "source": [
    "# split normal debug\n",
    "debug, debug_train, debug_test, movies_debug = get_debug('ratings')"
   ]
  },
  {
   "cell_type": "code",
   "execution_count": 287,
   "metadata": {
    "collapsed": true
   },
   "outputs": [],
   "source": [
    "debug_mids = sample(range(nm), nm / 5)"
   ]
  },
  {
   "cell_type": "code",
   "execution_count": 290,
   "metadata": {
    "collapsed": true
   },
   "outputs": [],
   "source": []
  },
  {
   "cell_type": "code",
   "execution_count": 294,
   "metadata": {
    "collapsed": true
   },
   "outputs": [],
   "source": [
    "sio.mmwrite('data/ratings_cs_train.mtx', train_rating_mtx)\n",
    "sio.mmwrite('data/ratings_cs_test.mtx', test_rating_mtx)"
   ]
  },
  {
   "cell_type": "code",
   "execution_count": 295,
   "metadata": {
    "collapsed": false
   },
   "outputs": [
    {
     "name": "stdout",
     "output_type": "stream",
     "text": [
      "sampling\n",
      "writing debug_train\n",
      "writing debug_test\n",
      "movie debug\n"
     ]
    },
    {
     "ename": "ValueError",
     "evalue": "too many values to unpack",
     "output_type": "error",
     "traceback": [
      "\u001b[0;31m---------------------------------------------------------------------------\u001b[0m",
      "\u001b[0;31mValueError\u001b[0m                                Traceback (most recent call last)",
      "\u001b[0;32m<ipython-input-295-39b0777ed407>\u001b[0m in \u001b[0;36m<module>\u001b[0;34m()\u001b[0m\n\u001b[0;32m----> 1\u001b[0;31m \u001b[0mdebug_cs\u001b[0m\u001b[0;34m,\u001b[0m \u001b[0mdebug_train_cs\u001b[0m\u001b[0;34m,\u001b[0m \u001b[0mdebug_test_cs\u001b[0m \u001b[0;34m=\u001b[0m \u001b[0mget_debug\u001b[0m\u001b[0;34m(\u001b[0m\u001b[0;34m'ratings_cs'\u001b[0m\u001b[0;34m)\u001b[0m\u001b[0;34m\u001b[0m\u001b[0m\n\u001b[0m",
      "\u001b[0;31mValueError\u001b[0m: too many values to unpack"
     ]
    }
   ],
   "source": [
    "debug_cs, debug_train_cs, debug_test_cs, movie_debug = get_debug('ratings_cs')"
   ]
  },
  {
   "cell_type": "code",
   "execution_count": null,
   "metadata": {
    "collapsed": true
   },
   "outputs": [],
   "source": [
    "for r in ['','_cs']:\n",
    "    for d in ['','_debug']:\n",
    "        for t in ['_train','_test']:\n",
    "            filename = 'ratings'+r+d+t\n",
    "            print filename\n",
    "            coo = sio.mmread('data/%.mtx'%filename)\n",
    "            get_sf_from_coo(coo, 'data/%s.sgraph'%filename)"
   ]
  },
  {
   "cell_type": "code",
   "execution_count": 248,
   "metadata": {
    "collapsed": true
   },
   "outputs": [],
   "source": [
    "ratings_cs_train = sio.mmread('data/ratings_cs_train.mtx').tocsr()\n",
    "ratings_cs_test = sio.mmread('data/ratings_cs_test.mtx').tocsr()\n",
    "# debug_mids = sample(range(nm), nm/5)\n",
    "# debug_uids = sample(range(nu), nu/5)\n",
    "# debug = ratings_train[debug_uids][:, debug_mids].tocoo()\n",
    "# debug"
   ]
  },
  {
   "cell_type": "code",
   "execution_count": 288,
   "metadata": {
    "collapsed": false
   },
   "outputs": [
    {
     "data": {
      "text/plain": [
       "0.99999999999999978"
      ]
     },
     "execution_count": 288,
     "metadata": {},
     "output_type": "execute_result"
    }
   ],
   "source": [
    "movies_read = sio.mmread('data/movies_ratings_debug.mtx').tocsr()\n",
    "norm(movies_read[0].toarray())  # should be 1"
   ]
  },
  {
   "cell_type": "code",
   "execution_count": 289,
   "metadata": {
    "collapsed": false
   },
   "outputs": [
    {
     "data": {
      "text/plain": [
       "(<138493x27278 sparse matrix of type '<type 'numpy.float64'>'\n",
       " \twith 15649875 stored elements in Compressed Sparse Row format>,\n",
       " <138493x27278 sparse matrix of type '<type 'numpy.float64'>'\n",
       " \twith 4000052 stored elements in Compressed Sparse Row format>,\n",
       " <138493x27278 sparse matrix of type '<type 'numpy.float64'>'\n",
       " \twith 16519779 stored elements in Compressed Sparse Row format>)"
      ]
     },
     "execution_count": 289,
     "metadata": {},
     "output_type": "execute_result"
    }
   ],
   "source": [
    "ratings_cs_train, ratings_cs_test, ratings_cs_train + ratings_cs_test"
   ]
  },
  {
   "cell_type": "code",
   "execution_count": 251,
   "metadata": {
    "collapsed": false
   },
   "outputs": [],
   "source": [
    "rtraino = ratings_train.tocoo()\n",
    "rtesto = ratings_test.tocoo()\n",
    "len(set(zip(rtraino.row, rtraino.col)) & set(zip(rtesto.row, rtesto.col)))"
   ]
  },
  {
   "cell_type": "code",
   "execution_count": 298,
   "metadata": {
    "collapsed": false
   },
   "outputs": [
    {
     "data": {
      "text/plain": [
       "5"
      ]
     },
     "execution_count": 298,
     "metadata": {},
     "output_type": "execute_result"
    }
   ],
   "source": [
    "int(5.51)"
   ]
  },
  {
   "cell_type": "code",
   "execution_count": null,
   "metadata": {
    "collapsed": true
   },
   "outputs": [],
   "source": []
  }
 ],
 "metadata": {
  "kernelspec": {
   "display_name": "Python 2",
   "language": "python",
   "name": "python2"
  },
  "language_info": {
   "codemirror_mode": {
    "name": "ipython",
    "version": 2
   },
   "file_extension": ".py",
   "mimetype": "text/x-python",
   "name": "python",
   "nbconvert_exporter": "python",
   "pygments_lexer": "ipython2",
   "version": "2.7.3"
  }
 },
 "nbformat": 4,
 "nbformat_minor": 0
}
