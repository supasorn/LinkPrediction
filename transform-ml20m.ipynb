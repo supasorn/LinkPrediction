{
 "cells": [
  {
   "cell_type": "markdown",
   "metadata": {},
   "source": [
    "Assume the data has been loaded from \n",
    "http://files.grouplens.org/datasets/movielens/ml-20m.zip and unpacked in data/ml-20m"
   ]
  },
  {
   "cell_type": "code",
   "execution_count": 1,
   "metadata": {
    "collapsed": false
   },
   "outputs": [],
   "source": [
    "import scipy.io as sio\n",
    "import pandas as pd\n",
    "from scipy.sparse import dok_matrix\n",
    "from random import sample\n",
    "import random\n",
    "random.seed(123)"
   ]
  },
  {
   "cell_type": "code",
   "execution_count": 2,
   "metadata": {
    "collapsed": false
   },
   "outputs": [],
   "source": [
    "#read movies and tags\n",
    "movies = pd.read_csv(\"data/ml-20m/movies.csv\", quotechar='\"')\n",
    "tags = pd.read_csv(\"data/ml-20m/tags.csv\", quotechar='\"')\n",
    "ratings = pd.read_csv(\"data/ml-20m/ratings.csv\", quotechar='\"')"
   ]
  },
  {
   "cell_type": "code",
   "execution_count": 72,
   "metadata": {
    "collapsed": true
   },
   "outputs": [],
   "source": [
    "### ratings.mtx\n",
    "# movieId => movieRow\n",
    "movie_dict = dict((m, i) for (i, m) in enumerate(movies['movieId']))\n",
    "# userId => userRow\n",
    "user_dict = dict((u, i) for (i, u) in enumerate(ratings['userId'].unique()))"
   ]
  },
  {
   "cell_type": "code",
   "execution_count": 4,
   "metadata": {
    "collapsed": true
   },
   "outputs": [],
   "source": [
    "nm, nr, nu = len(movies), len(ratings), len(user_dict)"
   ]
  },
  {
   "cell_type": "code",
   "execution_count": 76,
   "metadata": {
    "collapsed": false
   },
   "outputs": [
    {
     "data": {
      "text/plain": [
       "(138493, 27278)"
      ]
     },
     "execution_count": 76,
     "metadata": {},
     "output_type": "execute_result"
    }
   ],
   "source": [
    "nu, nm"
   ]
  },
  {
   "cell_type": "code",
   "execution_count": null,
   "metadata": {
    "collapsed": true
   },
   "outputs": [],
   "source": [
    "# def get_rating_matrix(ratings, samples, save_to=None):\n",
    "#     \"\"\"\n",
    "#         get (and write) rating matrix from long format \n",
    "#     \"\"\"\n",
    "#     mat = dok_matrix((nu, nm))\n",
    "#     print save_to, 'samples length =', len(samples)\n",
    "\n",
    "#     for t, i in enumerate(samples):\n",
    "#         if t % 500000 == 0: print t\n",
    "#         uid = user_dict[ratings['userId'][i]]\n",
    "#         mid = movie_dict[ratings['movieId'][i]]\n",
    "#         rating = ratings['rating'][i]\n",
    "#         mat[uid,mid] = rating\n",
    "#     if save_to is not None:\n",
    "#         sio.mmwrite(save_to, mat)\n",
    "#         print \"done writing\", save_to\n",
    "#     return mat"
   ]
  },
  {
   "cell_type": "code",
   "execution_count": 87,
   "metadata": {
    "collapsed": false
   },
   "outputs": [],
   "source": [
    "def get_rating_matrix_from_sf(sf, save_to=None):\n",
    "    \"\"\"\n",
    "        get (and write) rating matrix from long format \n",
    "    \"\"\"\n",
    "    mat = dok_matrix((nu, nm))\n",
    "    n = len(sf)\n",
    "    print 'save %s  samples length = %s' %(save_to, n)\n",
    "\n",
    "    for i in xrange(n):\n",
    "        if i % 10000 == 0: print i\n",
    "        u, m = sf[i]['userId'], sf[i]['movieId']\n",
    "        mat[u,m] = sf[i]['rating']\n",
    "    if save_to is not None:\n",
    "        sio.mmwrite(save_to, mat)\n",
    "        print \"done writing\", save_to\n",
    "    return mat"
   ]
  },
  {
   "cell_type": "code",
   "execution_count": null,
   "metadata": {
    "collapsed": true
   },
   "outputs": [],
   "source": [
    "def get_rating_sf(ratings, samples, save_to=None):\n",
    "    sf = SFrame(ratings.ix[samples])\n",
    "    sf['userId'] = sf['userId'].apply(lambda uid: user_dict[uid])\n",
    "    sf['movieId'] = sf['movieId'].apply(lambda mid: movie_dict[mid])\n",
    "    if save_to is not None:\n",
    "        print \"saving sframe to\", save_to\n",
    "        sf.save(save_to)\n",
    "    return sf"
   ]
  },
  {
   "cell_type": "code",
   "execution_count": 79,
   "metadata": {
    "collapsed": false
   },
   "outputs": [],
   "source": [
    "def save_ratings_splits(ratings, train_ids, valid_ids, test_ids, name):\n",
    "    valid_sf = get_rating_sf(ratings, valid_ids, save_to=\"data/%s_validate.sframe\"%name)\n",
    "    test_sf = get_rating_sf(ratings, test_ids, save_to=\"data/%s_test.sframe\"%name)\n",
    "    train_sf = get_rating_sf(ratings, train_ids, save_to=\"data/%s_train.sframe\"%name)\n",
    "    \n",
    "    valid_mtx = get_rating_matrix_from_sf(valid_sf, \"data/%s_valid.mtx\"%name)\n",
    "    test_mtx = get_rating_matrix_from_sf(test_sf, \"data/%s_test.mtx\"%name)\n",
    "    train_mtx = get_rating_matrix_from_sf(train_sf, \"data/%s_train.mtx\"%name)"
   ]
  },
  {
   "cell_type": "code",
   "execution_count": 53,
   "metadata": {
    "collapsed": true
   },
   "outputs": [],
   "source": [
    "# def save_ratings_splits_mtx(ratings, train_ids, valid_ids, test_ids, name):\n",
    "#     get_rating_matrix(ratings, valid_ids, save_to=\"data/%s_validate.mtx\"%name)\n",
    "#     get_rating_matrix(ratings, test_ids, save_to=\"data/%s_test.mtx\"%name)\n",
    "#     get_rating_matrix(ratings, train_ids, save_to=\"data/%s_train.mtx\"%name)"
   ]
  },
  {
   "cell_type": "code",
   "execution_count": 80,
   "metadata": {
    "collapsed": true
   },
   "outputs": [],
   "source": [
    "# given list X, randomly split data into training, validation and test set\n",
    "def sample_split(n, n_test=None, n_validate=None):\n",
    "    n_test = n/5 if n_test is None else n_test\n",
    "    n_validate = n/5 if n_validate is None else n_validate\n",
    "\n",
    "    samples = sample(range(n), n_test + n_validate)\n",
    "    test_ids = samples[0:n_test]\n",
    "    validate_ids = samples[n_test:]\n",
    "    train_ids = list(set(range(n)) - set(test_ids) - set(validate_ids))\n",
    "\n",
    "    return train_ids, validate_ids, test_ids"
   ]
  },
  {
   "cell_type": "code",
   "execution_count": null,
   "metadata": {
    "collapsed": false
   },
   "outputs": [],
   "source": [
    "def debug_split():\n",
    "    # smaller split for debugging \n",
    "    debug_size = nr/20\n",
    "    debug_sample = sample(range(nr), debug_size)\n",
    "    train_ids, valid_ids, test_ids = sample_split(debug_size)\n",
    "    \n",
    "    get_debug = lambda ids: map(lambda i: debug_sample[i], ids)\n",
    "    \n",
    "    train_ids = get_debug(train_ids)\n",
    "    valid_ids = get_debug(valid_ids)\n",
    "    test_ids = get_debug(test_ids)\n",
    "\n",
    "    save_ratings_splits(ratings,  train_ids, valid_ids, test_ids, 'ratings_debug')\n",
    "#     save_ratings_splits_mtx(ratings, train_ids, valid_ids, test_ids, 'ratings_debug')\n",
    "    \n",
    "    return train_ids, valid_ids, test_ids"
   ]
  },
  {
   "cell_type": "code",
   "execution_count": null,
   "metadata": {
    "collapsed": false
   },
   "outputs": [],
   "source": [
    "debug_train_ids, debug_valid_ids, debug_test_ids = debug_split()"
   ]
  },
  {
   "cell_type": "code",
   "execution_count": 89,
   "metadata": {
    "collapsed": false
   },
   "outputs": [],
   "source": [
    "def normal_split():\n",
    "    train_ids, valid_ids, test_ids = sample_split(nr)\n",
    "    save_ratings_splits(ratings, train_ids, valid_ids, test_ids, 'ratings')\n",
    "#     save_ratings_splits_mtx(ratings, train_ids, valid_ids, test_ids, 'ratings')\n",
    "    return train_ids, valid_ids, test_ids"
   ]
  },
  {
   "cell_type": "code",
   "execution_count": 90,
   "metadata": {
    "collapsed": false
   },
   "outputs": [
    {
     "name": "stdout",
     "output_type": "stream",
     "text": [
      "saving sframe to data/ratings_validate.sframe\n",
      "saving sframe to data/ratings_test.sframe\n",
      "saving sframe to data/ratings_train.sframe\n",
      "save data/ratings_valid.mtx  samples length = 4000052"
     ]
    },
    {
     "name": "stderr",
     "output_type": "stream",
     "text": [
      "Exception KeyboardInterrupt in 'zmq.backend.cython.message.Frame.__dealloc__' ignored\n",
      "ERROR: "
     ]
    },
    {
     "name": "stdout",
     "output_type": "stream",
     "text": [
      "\n",
      "0\n",
      "Traceback (most recent call last):\n",
      "  File \"/usr/local/lib/python2.7/site-packages/IPython/core/ultratb.py\", line 970, in get_records\n",
      "    return _fixed_getinnerframes(etb, number_of_lines_of_context, tb_offset)\n",
      "  File \"/usr/local/lib/python2.7/site-packages/IPython/core/ultratb.py\", line 233, in wrapped\n",
      "    return f(*args, **kwargs)\n",
      "  File \"/usr/local/lib/python2.7/site-packages/IPython/core/ultratb.py\", line 267, in _fixed_getinnerframes\n",
      "    records = fix_frame_records_filenames(inspect.getinnerframes(etb, context))\n",
      "  File \"/usr/local/Cellar/python/2.7.3/Frameworks/Python.framework/Versions/2.7/lib/python2.7/inspect.py\", line 1043, in getinnerframes\n",
      "    framelist.append((tb.tb_frame,) + getframeinfo(tb, context))\n",
      "  File \"/usr/local/Cellar/python/2.7.3/Frameworks/Python.framework/Versions/2.7/lib/python2.7/inspect.py\", line 1003, in getframeinfo\n",
      "    filename = getsourcefile(frame) or getfile(frame)\n",
      "  File \"/usr/local/Cellar/python/2.7.3/Frameworks/Python.framework/Versions/2.7/lib/python2.7/inspect.py\", line 454, in getsourcefile\n",
      "    if hasattr(getmodule(object, filename), '__loader__'):\n",
      "  File \"/usr/local/Cellar/python/2.7.3/Frameworks/Python.framework/Versions/2.7/lib/python2.7/inspect.py\", line 491, in getmodule\n",
      "    if ismodule(module) and hasattr(module, '__file__'):\n",
      "  File \"/usr/local/Cellar/python/2.7.3/Frameworks/Python.framework/Versions/2.7/lib/python2.7/inspect.py\", line 57, in ismodule\n",
      "    return isinstance(object, types.ModuleType)\n",
      "KeyboardInterrupt\n"
     ]
    },
    {
     "name": "stderr",
     "output_type": "stream",
     "text": [
      "Internal Python error in the inspect module.\n",
      "Below is the traceback from this internal error.\n",
      "\n",
      "\n",
      "Unfortunately, your original traceback can not be constructed.\n",
      "\n"
     ]
    },
    {
     "ename": "TypeError",
     "evalue": "'NoneType' object is not iterable",
     "output_type": "error",
     "traceback": [
      "\u001b[0;31m---------------------------------------------------------------------------\u001b[0m",
      "\u001b[0;31mTypeError\u001b[0m                                 Traceback (most recent call last)",
      "\u001b[0;32m/usr/local/lib/python2.7/site-packages/IPython/core/interactiveshell.pyc\u001b[0m in \u001b[0;36mrun_code\u001b[0;34m(self, code_obj, result)\u001b[0m\n\u001b[1;32m   3050\u001b[0m             \u001b[0;32mif\u001b[0m \u001b[0mresult\u001b[0m \u001b[0;32mis\u001b[0m \u001b[0;32mnot\u001b[0m \u001b[0mNone\u001b[0m\u001b[0;34m:\u001b[0m\u001b[0;34m\u001b[0m\u001b[0m\n\u001b[1;32m   3051\u001b[0m                 \u001b[0mresult\u001b[0m\u001b[0;34m.\u001b[0m\u001b[0merror_in_exec\u001b[0m \u001b[0;34m=\u001b[0m \u001b[0msys\u001b[0m\u001b[0;34m.\u001b[0m\u001b[0mexc_info\u001b[0m\u001b[0;34m(\u001b[0m\u001b[0;34m)\u001b[0m\u001b[0;34m[\u001b[0m\u001b[0;36m1\u001b[0m\u001b[0;34m]\u001b[0m\u001b[0;34m\u001b[0m\u001b[0m\n\u001b[0;32m-> 3052\u001b[0;31m             \u001b[0mself\u001b[0m\u001b[0;34m.\u001b[0m\u001b[0mshowtraceback\u001b[0m\u001b[0;34m(\u001b[0m\u001b[0;34m)\u001b[0m\u001b[0;34m\u001b[0m\u001b[0m\n\u001b[0m\u001b[1;32m   3053\u001b[0m         \u001b[0;32melse\u001b[0m\u001b[0;34m:\u001b[0m\u001b[0;34m\u001b[0m\u001b[0m\n\u001b[1;32m   3054\u001b[0m             \u001b[0moutflag\u001b[0m \u001b[0;34m=\u001b[0m \u001b[0;36m0\u001b[0m\u001b[0;34m\u001b[0m\u001b[0m\n",
      "\u001b[0;32m/usr/local/lib/python2.7/site-packages/IPython/core/interactiveshell.pyc\u001b[0m in \u001b[0;36mshowtraceback\u001b[0;34m(self, exc_tuple, filename, tb_offset, exception_only)\u001b[0m\n\u001b[1;32m   1849\u001b[0m                     \u001b[0;32mexcept\u001b[0m \u001b[0mException\u001b[0m\u001b[0;34m:\u001b[0m\u001b[0;34m\u001b[0m\u001b[0m\n\u001b[1;32m   1850\u001b[0m                         stb = self.InteractiveTB.structured_traceback(etype,\n\u001b[0;32m-> 1851\u001b[0;31m                                             value, tb, tb_offset=tb_offset)\n\u001b[0m\u001b[1;32m   1852\u001b[0m \u001b[0;34m\u001b[0m\u001b[0m\n\u001b[1;32m   1853\u001b[0m                     \u001b[0mself\u001b[0m\u001b[0;34m.\u001b[0m\u001b[0m_showtraceback\u001b[0m\u001b[0;34m(\u001b[0m\u001b[0metype\u001b[0m\u001b[0;34m,\u001b[0m \u001b[0mvalue\u001b[0m\u001b[0;34m,\u001b[0m \u001b[0mstb\u001b[0m\u001b[0;34m)\u001b[0m\u001b[0;34m\u001b[0m\u001b[0m\n",
      "\u001b[0;32m/usr/local/lib/python2.7/site-packages/IPython/core/ultratb.pyc\u001b[0m in \u001b[0;36mstructured_traceback\u001b[0;34m(self, etype, value, tb, tb_offset, number_of_lines_of_context)\u001b[0m\n\u001b[1;32m   1238\u001b[0m         \u001b[0mself\u001b[0m\u001b[0;34m.\u001b[0m\u001b[0mtb\u001b[0m \u001b[0;34m=\u001b[0m \u001b[0mtb\u001b[0m\u001b[0;34m\u001b[0m\u001b[0m\n\u001b[1;32m   1239\u001b[0m         return FormattedTB.structured_traceback(\n\u001b[0;32m-> 1240\u001b[0;31m             self, etype, value, tb, tb_offset, number_of_lines_of_context)\n\u001b[0m\u001b[1;32m   1241\u001b[0m \u001b[0;34m\u001b[0m\u001b[0m\n\u001b[1;32m   1242\u001b[0m \u001b[0;34m\u001b[0m\u001b[0m\n",
      "\u001b[0;32m/usr/local/lib/python2.7/site-packages/IPython/core/ultratb.pyc\u001b[0m in \u001b[0;36mstructured_traceback\u001b[0;34m(self, etype, value, tb, tb_offset, number_of_lines_of_context)\u001b[0m\n\u001b[1;32m   1146\u001b[0m             \u001b[0;31m# Verbose modes need a full traceback\u001b[0m\u001b[0;34m\u001b[0m\u001b[0;34m\u001b[0m\u001b[0m\n\u001b[1;32m   1147\u001b[0m             return VerboseTB.structured_traceback(\n\u001b[0;32m-> 1148\u001b[0;31m                 \u001b[0mself\u001b[0m\u001b[0;34m,\u001b[0m \u001b[0metype\u001b[0m\u001b[0;34m,\u001b[0m \u001b[0mvalue\u001b[0m\u001b[0;34m,\u001b[0m \u001b[0mtb\u001b[0m\u001b[0;34m,\u001b[0m \u001b[0mtb_offset\u001b[0m\u001b[0;34m,\u001b[0m \u001b[0mnumber_of_lines_of_context\u001b[0m\u001b[0;34m\u001b[0m\u001b[0m\n\u001b[0m\u001b[1;32m   1149\u001b[0m             )\n\u001b[1;32m   1150\u001b[0m         \u001b[0;32melse\u001b[0m\u001b[0;34m:\u001b[0m\u001b[0;34m\u001b[0m\u001b[0m\n",
      "\u001b[0;32m/usr/local/lib/python2.7/site-packages/IPython/core/ultratb.pyc\u001b[0m in \u001b[0;36mstructured_traceback\u001b[0;34m(self, etype, evalue, etb, tb_offset, number_of_lines_of_context)\u001b[0m\n\u001b[1;32m    998\u001b[0m \u001b[0;34m\u001b[0m\u001b[0m\n\u001b[1;32m    999\u001b[0m         formatted_exception = self.format_exception_as_a_whole(etype, evalue, etb, number_of_lines_of_context,\n\u001b[0;32m-> 1000\u001b[0;31m                                                                tb_offset)\n\u001b[0m\u001b[1;32m   1001\u001b[0m \u001b[0;34m\u001b[0m\u001b[0m\n\u001b[1;32m   1002\u001b[0m         \u001b[0mcolors\u001b[0m \u001b[0;34m=\u001b[0m \u001b[0mself\u001b[0m\u001b[0;34m.\u001b[0m\u001b[0mColors\u001b[0m  \u001b[0;31m# just a shorthand + quicker name lookup\u001b[0m\u001b[0;34m\u001b[0m\u001b[0m\n",
      "\u001b[0;32m/usr/local/lib/python2.7/site-packages/IPython/core/ultratb.pyc\u001b[0m in \u001b[0;36mformat_exception_as_a_whole\u001b[0;34m(self, etype, evalue, etb, number_of_lines_of_context, tb_offset)\u001b[0m\n\u001b[1;32m    949\u001b[0m         \u001b[0mrecords\u001b[0m \u001b[0;34m=\u001b[0m \u001b[0mself\u001b[0m\u001b[0;34m.\u001b[0m\u001b[0mget_records\u001b[0m\u001b[0;34m(\u001b[0m\u001b[0metb\u001b[0m\u001b[0;34m,\u001b[0m \u001b[0mnumber_of_lines_of_context\u001b[0m\u001b[0;34m,\u001b[0m \u001b[0mtb_offset\u001b[0m\u001b[0;34m)\u001b[0m\u001b[0;34m\u001b[0m\u001b[0m\n\u001b[1;32m    950\u001b[0m \u001b[0;34m\u001b[0m\u001b[0m\n\u001b[0;32m--> 951\u001b[0;31m         \u001b[0mframes\u001b[0m \u001b[0;34m=\u001b[0m \u001b[0mself\u001b[0m\u001b[0;34m.\u001b[0m\u001b[0mformat_records\u001b[0m\u001b[0;34m(\u001b[0m\u001b[0mrecords\u001b[0m\u001b[0;34m)\u001b[0m\u001b[0;34m\u001b[0m\u001b[0m\n\u001b[0m\u001b[1;32m    952\u001b[0m         \u001b[0;32mif\u001b[0m \u001b[0mrecords\u001b[0m \u001b[0;32mis\u001b[0m \u001b[0mNone\u001b[0m\u001b[0;34m:\u001b[0m\u001b[0;34m\u001b[0m\u001b[0m\n\u001b[1;32m    953\u001b[0m             \u001b[0;32mreturn\u001b[0m \u001b[0;34m\"\"\u001b[0m\u001b[0;34m\u001b[0m\u001b[0m\n",
      "\u001b[0;32m/usr/local/lib/python2.7/site-packages/IPython/core/ultratb.pyc\u001b[0m in \u001b[0;36mformat_records\u001b[0;34m(self, records)\u001b[0m\n\u001b[1;32m    722\u001b[0m \u001b[0;34m\u001b[0m\u001b[0m\n\u001b[1;32m    723\u001b[0m         \u001b[0mabspath\u001b[0m \u001b[0;34m=\u001b[0m \u001b[0mos\u001b[0m\u001b[0;34m.\u001b[0m\u001b[0mpath\u001b[0m\u001b[0;34m.\u001b[0m\u001b[0mabspath\u001b[0m\u001b[0;34m\u001b[0m\u001b[0m\n\u001b[0;32m--> 724\u001b[0;31m         \u001b[0;32mfor\u001b[0m \u001b[0mframe\u001b[0m\u001b[0;34m,\u001b[0m \u001b[0mfile\u001b[0m\u001b[0;34m,\u001b[0m \u001b[0mlnum\u001b[0m\u001b[0;34m,\u001b[0m \u001b[0mfunc\u001b[0m\u001b[0;34m,\u001b[0m \u001b[0mlines\u001b[0m\u001b[0;34m,\u001b[0m \u001b[0mindex\u001b[0m \u001b[0;32min\u001b[0m \u001b[0mrecords\u001b[0m\u001b[0;34m:\u001b[0m\u001b[0;34m\u001b[0m\u001b[0m\n\u001b[0m\u001b[1;32m    725\u001b[0m             \u001b[0;31m#print '*** record:',file,lnum,func,lines,index  # dbg\u001b[0m\u001b[0;34m\u001b[0m\u001b[0;34m\u001b[0m\u001b[0m\n\u001b[1;32m    726\u001b[0m             \u001b[0;32mif\u001b[0m \u001b[0;32mnot\u001b[0m \u001b[0mfile\u001b[0m\u001b[0;34m:\u001b[0m\u001b[0;34m\u001b[0m\u001b[0m\n",
      "\u001b[0;31mTypeError\u001b[0m: 'NoneType' object is not iterable"
     ]
    }
   ],
   "source": [
    "train_ids, valid_ids, test_ids = normal_split()"
   ]
  },
  {
   "cell_type": "code",
   "execution_count": null,
   "metadata": {
    "collapsed": true
   },
   "outputs": [],
   "source": [
    "rating_matrix = get_rating_matrix(ratings, range(len(ratings)))"
   ]
  },
  {
   "cell_type": "code",
   "execution_count": 50,
   "metadata": {
    "collapsed": false
   },
   "outputs": [],
   "source": [
    "genres = movies['genres'].map(lambda x: set(x.split('|')))\n",
    "unique_genres = reduce(lambda a,b: a|b, genres, set())\n",
    "unique_genres = filter(lambda x: x!='(no genres listed)', unique_genres)\n",
    "ng = len(unique_genres)\n",
    "\n",
    "# genreId => genreRow\n",
    "genres_dict = dict((t, i) for (i, t) in enumerate(unique_genres))\n",
    "# tagId => tagRow\n",
    "tags_id_dict = dict((t, i) for (i, t) in enumerate(tags['tag'].unique()))\n",
    "nt = len(tags_id_dict)"
   ]
  },
  {
   "cell_type": "code",
   "execution_count": 51,
   "metadata": {
    "collapsed": false
   },
   "outputs": [],
   "source": [
    "#FIXME refactor this \n",
    "def get_movie_matrix():\n",
    "    mat = dok_matrix((nm, ng + nt))\n",
    "\n",
    "    for i, gs in enumerate(genres):\n",
    "        for g in gs:\n",
    "            if g in genres_dict:\n",
    "                mat[i,genres_dict[g]] = 1\n",
    "\n",
    "    for i in xrange(len(tags)):\n",
    "        mid = movie_dict[tags['movieId'][i]]\n",
    "        t = tags['tag'][i]\n",
    "        ti = ng + tags_id_dict[t]\n",
    "        mat[mid, ti] += 1    \n",
    "    sio.mmwrite('data/movies.mtx', mat)\n",
    "    return mat"
   ]
  },
  {
   "cell_type": "code",
   "execution_count": 52,
   "metadata": {
    "collapsed": false
   },
   "outputs": [
    {
     "data": {
      "text/plain": [
       "<27278x38663 sparse matrix of type '<type 'numpy.float64'>'\n",
       "\twith 254540 stored elements in Dictionary Of Keys format>"
      ]
     },
     "execution_count": 52,
     "metadata": {},
     "output_type": "execute_result"
    }
   ],
   "source": [
    "get_movie_matrix()"
   ]
  },
  {
   "cell_type": "code",
   "execution_count": 32,
   "metadata": {
    "collapsed": true
   },
   "outputs": [],
   "source": [
    "import graphlab as gl\n",
    "from graphlab import SFrame\n",
    "from graphlab import SGraph"
   ]
  },
  {
   "cell_type": "code",
   "execution_count": 33,
   "metadata": {
    "collapsed": true
   },
   "outputs": [],
   "source": [
    "def prefix(p):\n",
    "    return lambda x: \"%s%s\"%(p,x)\n",
    "\n",
    "def remove(c):\n",
    "    def r(x):\n",
    "        del x[c]\n",
    "        return x\n",
    "    return r"
   ]
  },
  {
   "cell_type": "code",
   "execution_count": 37,
   "metadata": {
    "collapsed": false
   },
   "outputs": [],
   "source": [
    "# user_ids = range(len(user_dict))\n",
    "# movies_ids = range(len(movies_dict))\n",
    "# vertices = SFrame({\n",
    "#         'id': map(prefix('m'), movies_ids),\n",
    "#         'factors': map(lambda _: np.ones(5), movies_ids), #FIXME\n",
    "#         'features': map(lambda _:{}, movies_ids),  #FIXME\n",
    "#         'user':  map(lambda _: 0, movies_ids)\n",
    "#     }).append(SFrame({\n",
    "#         'id': map(prefix('u'), user_ids), \n",
    "#         'factors': map(lambda _: np.ones(5), user_ids), \n",
    "#         'features': map(lambda _:{}, user_ids),\n",
    "#         'user': map(lambda _: 1, user_ids)\n",
    "#     }))"
   ]
  },
  {
   "cell_type": "code",
   "execution_count": 44,
   "metadata": {
    "collapsed": true
   },
   "outputs": [],
   "source": [
    "# def create_graph(vertices, ratings, suffix):\n",
    "#     ratings_sf = SFrame(ratings)\n",
    "#     ratings_sf['userId'] = ratings_sf['userId'].apply(prefix('u'))\n",
    "#     ratings_sf['movieId'] = ratings_sf['movieId'].apply(prefix('m'))\n",
    "#     s = SGraph().add_vertices(vertices, vid_field='id')\\\n",
    "#         .add_edges(ratings_sf, src_field='userId', dst_field='movieId')\n",
    "#     s.save('data/ratings%s_train.sgraph' % suffix)"
   ]
  },
  {
   "cell_type": "code",
   "execution_count": 46,
   "metadata": {
    "collapsed": false
   },
   "outputs": [],
   "source": [
    "create_graph(vertices, ratings.ix[debug_train_ids], '_debug')"
   ]
  },
  {
   "cell_type": "code",
   "execution_count": 47,
   "metadata": {
    "collapsed": true
   },
   "outputs": [],
   "source": [
    "create_graph(vertices, ratings.ix[train_ids], '')"
   ]
  },
  {
   "cell_type": "code",
   "execution_count": null,
   "metadata": {
    "collapsed": true
   },
   "outputs": [],
   "source": [
    "# FIXME finish this\n",
    "# split for cold start\n",
    "create_graph(vertices, ratings_train_cs, 'cs')\n",
    "create_graph(vertices, ratings_train_cs_debug, 'cs_debug')"
   ]
  }
 ],
 "metadata": {
  "kernelspec": {
   "display_name": "Python 2",
   "language": "python",
   "name": "python2"
  },
  "language_info": {
   "codemirror_mode": {
    "name": "ipython",
    "version": 2
   },
   "file_extension": ".py",
   "mimetype": "text/x-python",
   "name": "python",
   "nbconvert_exporter": "python",
   "pygments_lexer": "ipython2",
   "version": "2.7.3"
  }
 },
 "nbformat": 4,
 "nbformat_minor": 0
}
