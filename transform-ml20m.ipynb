{
 "cells": [
  {
   "cell_type": "code",
   "execution_count": 2,
   "metadata": {
    "collapsed": false
   },
   "outputs": [],
   "source": [
    "import scipy.io as sio\n",
    "import pandas as pd\n",
    "from scipy.sparse import dok_matrix"
   ]
  },
  {
   "cell_type": "code",
   "execution_count": 38,
   "metadata": {
    "collapsed": false
   },
   "outputs": [],
   "source": [
    "#read movies and tags\n",
    "movies = pd.read_csv(\"ml-20m/movies.csv\", quotechar='\"')\n",
    "tags = pd.read_csv(\"ml-20m/tags.csv\", quotechar='\"')"
   ]
  },
  {
   "cell_type": "code",
   "execution_count": 101,
   "metadata": {
    "collapsed": false
   },
   "outputs": [],
   "source": [
    "movies_dict = dict((m, i) for (i, m) in enumerate(movies['movieId']))\n",
    "tags_id_dict = dict((t, i) for (i, t) in enumerate(tags['tag'].unique()))"
   ]
  },
  {
   "cell_type": "code",
   "execution_count": 96,
   "metadata": {
    "collapsed": false
   },
   "outputs": [
    {
     "data": {
      "text/plain": [
       "{'Action': 6,\n",
       " 'Adventure': 15,\n",
       " 'Animation': 4,\n",
       " 'Children': 16,\n",
       " 'Comedy': 7,\n",
       " 'Crime': 2,\n",
       " 'Documentary': 8,\n",
       " 'Drama': 3,\n",
       " 'Fantasy': 14,\n",
       " 'Film-Noir': 12,\n",
       " 'Horror': 11,\n",
       " 'IMAX': 5,\n",
       " 'Musical': 13,\n",
       " 'Mystery': 0,\n",
       " 'Romance': 10,\n",
       " 'Sci-Fi': 1,\n",
       " 'Thriller': 17,\n",
       " 'War': 9,\n",
       " 'Western': 18}"
      ]
     },
     "execution_count": 96,
     "metadata": {},
     "output_type": "execute_result"
    }
   ],
   "source": [
    "genres = movies['genres'].map(lambda x: set(x.split('|')))\n",
    "unique_genres = reduce(lambda a,b: a|b, genres, set())\n",
    "unique_genres = filter(lambda x: x!='(no genres listed)', unique_genres)\n",
    "genres_dict = dict((t, i) for (i, t) in enumerate(unique_genres))"
   ]
  },
  {
   "cell_type": "code",
   "execution_count": 119,
   "metadata": {
    "collapsed": false
   },
   "outputs": [],
   "source": [
    "nm = len(movies)\n",
    "nug = len(unique_genres)\n",
    "nut = len(tags_id_dict)\n",
    "nt = len(tags)\n",
    "mat = dok_matrix((nm, nug + nt))"
   ]
  },
  {
   "cell_type": "code",
   "execution_count": 120,
   "metadata": {
    "collapsed": false
   },
   "outputs": [],
   "source": [
    "for i, gs in enumerate(genres):\n",
    "    for g in gs:\n",
    "        if g in genres_dict:\n",
    "            mat[i,genres_dict[g]] = 1"
   ]
  },
  {
   "cell_type": "code",
   "execution_count": 138,
   "metadata": {
    "collapsed": false
   },
   "outputs": [],
   "source": [
    "for i in xrange(nt):\n",
    "    mids = movies_dict[tags['movieId'][i]]\n",
    "    t = tags['tag'][i]\n",
    "    ti = nug + tags_id_dict[t]\n",
    "    mat[mid, ti] += 1    "
   ]
  },
  {
   "cell_type": "code",
   "execution_count": 141,
   "metadata": {
    "collapsed": false
   },
   "outputs": [],
   "source": [
    "sio.mmwrite('movies_tags.mtx', mat)"
   ]
  },
  {
   "cell_type": "code",
   "execution_count": 3,
   "metadata": {
    "collapsed": false
   },
   "outputs": [],
   "source": [
    "ratings = pd.read_csv(\"data/ml-20m/ratings.csv\", quotechar='\"')"
   ]
  },
  {
   "cell_type": "code",
   "execution_count": 7,
   "metadata": {
    "collapsed": false
   },
   "outputs": [
    {
     "data": {
      "text/plain": [
       "4.0    5561926\n",
       "3.0    4291193\n",
       "5.0    2898660\n",
       "3.5    2200156\n",
       "4.5    1534824\n",
       "2.0    1430997\n",
       "2.5     883398\n",
       "1.0     680732\n",
       "1.5     279252\n",
       "0.5     239125\n",
       "dtype: int64"
      ]
     },
     "execution_count": 7,
     "metadata": {},
     "output_type": "execute_result"
    }
   ],
   "source": [
    "ratings['rating'].value_counts()"
   ]
  },
  {
   "cell_type": "code",
   "execution_count": null,
   "metadata": {
    "collapsed": true
   },
   "outputs": [],
   "source": []
  }
 ],
 "metadata": {
  "kernelspec": {
   "display_name": "Python 2",
   "language": "python",
   "name": "python2"
  },
  "language_info": {
   "codemirror_mode": {
    "name": "ipython",
    "version": 2
   },
   "file_extension": ".py",
   "mimetype": "text/x-python",
   "name": "python",
   "nbconvert_exporter": "python",
   "pygments_lexer": "ipython2",
   "version": "2.7.3"
  }
 },
 "nbformat": 4,
 "nbformat_minor": 0
}
