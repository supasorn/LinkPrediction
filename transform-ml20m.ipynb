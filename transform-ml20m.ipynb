{
 "cells": [
  {
   "cell_type": "markdown",
   "metadata": {},
   "source": [
    "Assume the data has been loaded from \n",
    "http://files.grouplens.org/datasets/movielens/ml-20m.zip and unpacked in data/ml-20m"
   ]
  },
  {
   "cell_type": "code",
   "execution_count": 1,
   "metadata": {
    "collapsed": false
   },
   "outputs": [],
   "source": [
    "import scipy.io as sio\n",
    "import pandas as pd\n",
    "from scipy.sparse import dok_matrix\n",
    "from random import sample\n",
    "import random\n",
    "random.seed(123)"
   ]
  },
  {
   "cell_type": "code",
   "execution_count": 2,
   "metadata": {
    "collapsed": false
   },
   "outputs": [],
   "source": [
    "#read movies and tags\n",
    "movies = pd.read_csv(\"data/ml-20m/movies.csv\", quotechar='\"')\n",
    "tags = pd.read_csv(\"data/ml-20m/tags.csv\", quotechar='\"')\n",
    "ratings = pd.read_csv(\"data/ml-20m/ratings.csv\", quotechar='\"')"
   ]
  },
  {
   "cell_type": "code",
   "execution_count": 3,
   "metadata": {
    "collapsed": true
   },
   "outputs": [],
   "source": [
    "### ratings.mtx\n",
    "# movieId => movieRow\n",
    "movies_dict = dict((m, i) for (i, m) in enumerate(movies['movieId']))\n",
    "# userId => userRow\n",
    "user_dict = dict((u, i) for (i, u) in enumerate(ratings['userId'].unique()))"
   ]
  },
  {
   "cell_type": "code",
   "execution_count": 4,
   "metadata": {
    "collapsed": true
   },
   "outputs": [],
   "source": [
    "nm, nr, nu = len(movies), len(ratings), len(user_dict)"
   ]
  },
  {
   "cell_type": "code",
   "execution_count": 19,
   "metadata": {
    "collapsed": true
   },
   "outputs": [],
   "source": [
    "def get_rating_matrix(ratings, samples, save_to=None):\n",
    "    \"\"\"\n",
    "        get (and write) rating matrix from long format \n",
    "    \"\"\"\n",
    "    mat = dok_matrix((nu, nm))\n",
    "    print save_to, 'samples length =', len(samples)\n",
    "\n",
    "    for t, i in enumerate(samples):\n",
    "        if t % 500000 == 0: print t\n",
    "        uid = user_dict[ratings['userId'][i]]\n",
    "        mid = movies_dict[ratings['movieId'][i]]\n",
    "        rating = ratings['rating'][i]\n",
    "        mat[uid,mid] = rating\n",
    "    if save_to is not None:\n",
    "        sio.mmwrite(save_to, mat)\n",
    "        print \"done writing\", save_to\n",
    "    return mat\n"
   ]
  },
  {
   "cell_type": "code",
   "execution_count": 20,
   "metadata": {
    "collapsed": true
   },
   "outputs": [],
   "source": [
    "def save_ratings_splits(ratings, train_ids, valid_ids, test_ids, name):\n",
    "    get_rating_matrix(ratings, valid_ids, save_to=\"data/%s_validate.mtx\"%name)\n",
    "    get_rating_matrix(ratings, test_ids, save_to=\"data/%s_test.mtx\"%name)\n",
    "    get_rating_matrix(ratings, train_ids, save_to=\"data/%s_train.mtx\"%name)"
   ]
  },
  {
   "cell_type": "code",
   "execution_count": 25,
   "metadata": {
    "collapsed": true
   },
   "outputs": [],
   "source": [
    "# given list X, randomly split data into training, validation and test set\n",
    "def sample_split(n, n_test=None, n_validate=None):\n",
    "    n_test = n/5 if n_test is None else n_test\n",
    "    n_validate = n/5 if n_validate is None else n_validate\n",
    "\n",
    "    samples = sample(range(n), n_test + n_validate)\n",
    "    test_ids = samples[0:n_test]\n",
    "    validate_ids = samples[n_test:]\n",
    "    train_ids = list(set(range(n)) - set(test_ids) - set(validate_ids))\n",
    "\n",
    "    return train_ids, validate_ids, test_ids"
   ]
  },
  {
   "cell_type": "code",
   "execution_count": 27,
   "metadata": {
    "collapsed": false
   },
   "outputs": [
    {
     "name": "stdout",
     "output_type": "stream",
     "text": [
      "debug size 1000013 valid size 200002 test size 200002\n"
     ]
    }
   ],
   "source": [
    "def debug_split():\n",
    "    # smaller split for debugging \n",
    "    debug_size = nr/20\n",
    "    debug_sample = sample(range(nr), debug_size)\n",
    "    train_ids, valid_ids, test_ids = sample_split(debug_size)\n",
    "    train_ids = get_debug(train_ids)\n",
    "    valid_ids = get_debug(valid_ids)\n",
    "    test_ids = get_debug(test_ids)\n",
    "    \n",
    "    get_debug = lambda ids: map(lambda i: debug_sample[i], ids)\n",
    "    save_ratings_splits(ratings, train_ids, valid_ids, test_ids, 'ratings_debug')\n",
    "    \n",
    "    return train_ids, valid_ids, test_ids"
   ]
  },
  {
   "cell_type": "code",
   "execution_count": 28,
   "metadata": {
    "collapsed": false
   },
   "outputs": [
    {
     "name": "stdout",
     "output_type": "stream",
     "text": [
      "data/ratings_debug_validate.mtx samples length = 200002\n",
      "0\n",
      "done writing data/ratings_debug_validate.mtx\n",
      "data/ratings_debug_test.mtx samples length = 200002\n",
      "0\n",
      "done writing data/ratings_debug_test.mtx\n",
      "data/ratings_debug_train.mtx samples length = 600009\n",
      "0\n",
      "500000\n",
      "done writing data/ratings_debug_train.mtx\n"
     ]
    }
   ],
   "source": [
    "debug_train_ids, debug_valid_ids, debug_test_ids = debug_split()"
   ]
  },
  {
   "cell_type": "code",
   "execution_count": 31,
   "metadata": {
    "collapsed": false
   },
   "outputs": [],
   "source": [
    "def normal_split():\n",
    "    train_ids, valid_ids, test_ids = sample_split(nr)\n",
    "    save_ratings_splits(ratings, train_ids, valid_ids, test_ids, 'ratings')\n",
    "    return train_ids, valid_ids, test_ids"
   ]
  },
  {
   "cell_type": "code",
   "execution_count": null,
   "metadata": {
    "collapsed": true
   },
   "outputs": [],
   "source": [
    "train_ids, valid_ids, test_ids = normal_split()"
   ]
  },
  {
   "cell_type": "code",
   "execution_count": null,
   "metadata": {
    "collapsed": true
   },
   "outputs": [],
   "source": [
    "rating_matrix = get_rating_matrix(ratings, range(len(ratings)))"
   ]
  },
  {
   "cell_type": "code",
   "execution_count": 3,
   "metadata": {
    "collapsed": false
   },
   "outputs": [],
   "source": [
    "genres = movies['genres'].map(lambda x: set(x.split('|')))\n",
    "unique_genres = reduce(lambda a,b: a|b, genres, set())\n",
    "unique_genres = filter(lambda x: x!='(no genres listed)', unique_genres)\n",
    "ng = len(unique_genres)\n",
    "\n",
    "# genreId => genreRow\n",
    "genres_dict = dict((t, i) for (i, t) in enumerate(unique_genres))\n",
    "# tagId => tagRow\n",
    "tags_id_dict = dict((t, i) for (i, t) in enumerate(tags['tag'].unique()))\n",
    "nt = len(tags_id_dict)"
   ]
  },
  {
   "cell_type": "code",
   "execution_count": 6,
   "metadata": {
    "collapsed": false
   },
   "outputs": [],
   "source": [
    "#FIXME refactor this \n",
    "def get_movie_matrix():\n",
    "    mat = dok_matrix((nm, ng + nt))\n",
    "\n",
    "    for i, gs in enumerate(genres):\n",
    "        for g in gs:\n",
    "            if g in genres_dict:\n",
    "                mat[i,genres_dict[g]] = 1\n",
    "\n",
    "    for i in xrange(len(tags)):\n",
    "        mid = movies_dict[tags['movieId'][i]]\n",
    "        t = tags['tag'][i]\n",
    "        ti = ng + tags_id_dict[t]\n",
    "        mat[mid, ti] += 1    \n",
    "    sio.mmwrite('data/movies_tags.mtx', mat)\n",
    "    return mat"
   ]
  },
  {
   "cell_type": "code",
   "execution_count": 32,
   "metadata": {
    "collapsed": true
   },
   "outputs": [],
   "source": [
    "import graphlab as gl\n",
    "from graphlab import SFrame\n",
    "from graphlab import SGraph"
   ]
  },
  {
   "cell_type": "code",
   "execution_count": 33,
   "metadata": {
    "collapsed": true
   },
   "outputs": [],
   "source": [
    "def prefix(p):\n",
    "    return lambda x: \"%s%s\"%(p,x)\n",
    "\n",
    "def remove(c):\n",
    "    def r(x):\n",
    "        del x[c]\n",
    "        return x\n",
    "    return r"
   ]
  },
  {
   "cell_type": "code",
   "execution_count": 37,
   "metadata": {
    "collapsed": false
   },
   "outputs": [],
   "source": [
    "user_ids = range(len(user_dict))\n",
    "movies_ids = range(len(movies_dict))\n",
    "vertices = SFrame({\n",
    "        'id': map(prefix('m'), movies_ids),\n",
    "        'factor': map(lambda _: 1, movies_ids), #FIXME\n",
    "        'features': map(lambda _:{}, movies_ids),  #FIXME\n",
    "        'user':  map(lambda _: 0, movies_ids)\n",
    "    }).append(SFrame({\n",
    "        'id': map(prefix('u'), user_ids), \n",
    "        'factor': map(lambda _: 1, user_ids), \n",
    "        'features': map(lambda _:{}, user_ids),\n",
    "        'user': map(lambda _: 1, user_ids)\n",
    "    }))"
   ]
  },
  {
   "cell_type": "code",
   "execution_count": 44,
   "metadata": {
    "collapsed": true
   },
   "outputs": [],
   "source": [
    "def create_graph(vertices, ratings, suffix):\n",
    "    ratings_sf = SFrame(ratings)\n",
    "    ratings_sf['userId'] = ratings_sf['userId'].apply(prefix('u'))\n",
    "    ratings_sf['movieId'] = ratings_sf['movieId'].apply(prefix('m'))\n",
    "    s = SGraph().add_vertices(vertices, vid_field='id')\\\n",
    "        .add_edges(ratings_sf, src_field='userId', dst_field='movieId')\n",
    "    s.save('data/ratings%s_train.sgraph' % suffix)"
   ]
  },
  {
   "cell_type": "code",
   "execution_count": 46,
   "metadata": {
    "collapsed": false
   },
   "outputs": [],
   "source": [
    "create_graph(vertices, ratings.ix[debug_train_ids], '_debug')"
   ]
  },
  {
   "cell_type": "code",
   "execution_count": 47,
   "metadata": {
    "collapsed": true
   },
   "outputs": [],
   "source": [
    "create_graph(vertices, ratings.ix[train_ids], '')"
   ]
  },
  {
   "cell_type": "code",
   "execution_count": null,
   "metadata": {
    "collapsed": true
   },
   "outputs": [],
   "source": [
    "# FIXME finish this\n",
    "# split for cold start\n",
    "create_graph(vertices, ratings_train_cs, 'cs')\n",
    "create_graph(vertices, ratings_train_cs_debug, 'cs_debug')"
   ]
  }
 ],
 "metadata": {
  "kernelspec": {
   "display_name": "Python 2",
   "language": "python",
   "name": "python2"
  },
  "language_info": {
   "codemirror_mode": {
    "name": "ipython",
    "version": 2
   },
   "file_extension": ".py",
   "mimetype": "text/x-python",
   "name": "python",
   "nbconvert_exporter": "python",
   "pygments_lexer": "ipython2",
   "version": "2.7.3"
  }
 },
 "nbformat": 4,
 "nbformat_minor": 0
}
