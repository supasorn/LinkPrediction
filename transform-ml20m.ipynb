{
 "cells": [
  {
   "cell_type": "markdown",
   "metadata": {},
   "source": [
    "Assume the data has been loaded from \n",
    "http://files.grouplens.org/datasets/movielens/ml-20m.zip and unpacked in data/ml-20m"
   ]
  },
  {
   "cell_type": "code",
   "execution_count": 1,
   "metadata": {
    "collapsed": false
   },
   "outputs": [],
   "source": [
    "import scipy.io as sio\n",
    "import pandas as pd\n",
    "from scipy.sparse import dok_matrix\n",
    "from random import sample\n",
    "import random\n",
    "random.seed(123)\n",
    "import graphlab as gl\n",
    "from graphlab import SFrame\n",
    "from graphlab import SGraph"
   ]
  },
  {
   "cell_type": "code",
   "execution_count": 2,
   "metadata": {
    "collapsed": false
   },
   "outputs": [],
   "source": [
    "#read movies and tags\n",
    "movies = pd.read_csv(\"data/ml-20m/movies.csv\", quotechar='\"')\n",
    "tags = pd.read_csv(\"data/ml-20m/tags.csv\", quotechar='\"')\n",
    "ratings = pd.read_csv(\"data/ml-20m/ratings.csv\", quotechar='\"')"
   ]
  },
  {
   "cell_type": "code",
   "execution_count": 3,
   "metadata": {
    "collapsed": true
   },
   "outputs": [],
   "source": [
    "### ratings.mtx\n",
    "# movieId => movieRow\n",
    "movie_dict = dict((m, i) for (i, m) in enumerate(movies['movieId']))\n",
    "# userId => userRow\n",
    "user_dict = dict((u, i) for (i, u) in enumerate(ratings['userId'].unique()))"
   ]
  },
  {
   "cell_type": "code",
   "execution_count": 4,
   "metadata": {
    "collapsed": true
   },
   "outputs": [],
   "source": [
    "nm, nr, nu = len(movies), len(ratings), len(user_dict)"
   ]
  },
  {
   "cell_type": "code",
   "execution_count": 76,
   "metadata": {
    "collapsed": false
   },
   "outputs": [
    {
     "data": {
      "text/plain": [
       "(138493, 27278)"
      ]
     },
     "execution_count": 76,
     "metadata": {},
     "output_type": "execute_result"
    }
   ],
   "source": [
    "# nu, nm"
   ]
  },
  {
   "cell_type": "code",
   "execution_count": 6,
   "metadata": {
    "collapsed": true
   },
   "outputs": [],
   "source": [
    "def get_rating_matrix(ratings, samples, save_to=None):\n",
    "    \"\"\"\n",
    "        get (and write) rating matrix from long format\n",
    "    \"\"\"\n",
    "    mat = dok_matrix((nu, nm))\n",
    "    print save_to, 'samples length =', len(samples)\n",
    "\n",
    "    for t, i in enumerate(samples):\n",
    "        if t % 500000 == 0: print t\n",
    "        uid = user_dict[ratings['userId'][i]]\n",
    "        mid = movie_dict[ratings['movieId'][i]]\n",
    "        rating = ratings['rating'][i]\n",
    "        mat[uid,mid] = rating\n",
    "    if save_to is not None:\n",
    "        sio.mmwrite(save_to, mat)\n",
    "        print \"done writing\", save_to\n",
    "    return mat"
   ]
  },
  {
   "cell_type": "code",
   "execution_count": 14,
   "metadata": {
    "collapsed": false
   },
   "outputs": [],
   "source": [
    "# def get_rating_matrix_from_sf(sf, save_to=None):\n",
    "#     \"\"\"\n",
    "#         get (and write) rating matrix from long format \n",
    "#     \"\"\"\n",
    "#     mat = dok_matrix((nu, nm))\n",
    "#     n = len(sf)\n",
    "#     print 'save %s  samples length = %s' %(save_to, n)\n",
    "\n",
    "#     for i in xrange(n):\n",
    "#         if i % 10000 == 0: print i\n",
    "#         r = sf[i] \n",
    "#         u, m = r['userId'], r['movieId']\n",
    "#         mat[u,m] = r['rating']\n",
    "#     if save_to is not None:\n",
    "#         sio.mmwrite(save_to, mat)\n",
    "#         print \"done writing\", save_to\n",
    "#     return mat"
   ]
  },
  {
   "cell_type": "code",
   "execution_count": 15,
   "metadata": {
    "collapsed": true
   },
   "outputs": [],
   "source": [
    "def get_rating_sf(ratings, samples, save_to=None):\n",
    "    sf = SFrame(ratings.ix[samples])\n",
    "    sf['userId'] = sf['userId'].apply(lambda uid: user_dict[uid])\n",
    "    sf['movieId'] = sf['movieId'].apply(lambda mid: movie_dict[mid])\n",
    "    if save_to is not None:\n",
    "        print \"saving sframe to\", save_to\n",
    "        sf.save(save_to)\n",
    "    return sf"
   ]
  },
  {
   "cell_type": "code",
   "execution_count": 7,
   "metadata": {
    "collapsed": true
   },
   "outputs": [],
   "source": [
    "def save_ratings_splits_mtx(ratings, train_ids, valid_ids, test_ids, name):\n",
    "    if len(valid_ids) > 0:\n",
    "        get_rating_matrix(ratings, valid_ids, save_to=\"data/%s_validate.mtx\"%name)\n",
    "    get_rating_matrix(ratings, test_ids, save_to=\"data/%s_test.mtx\"%name)\n",
    "    get_rating_matrix(ratings, train_ids, save_to=\"data/%s_train.mtx\"%name)"
   ]
  },
  {
   "cell_type": "code",
   "execution_count": 8,
   "metadata": {
    "collapsed": false
   },
   "outputs": [],
   "source": [
    "def save_ratings_splits_sf(ratings, train_ids, valid_ids, test_ids, name):\n",
    "    if len(valid_ids) > 0:\n",
    "        valid_sf = get_rating_sf(ratings, valid_ids, save_to=\"data/%s_validate.sframe\"%name)\n",
    "    test_sf = get_rating_sf(ratings, test_ids, save_to=\"data/%s_test.sframe\"%name)\n",
    "    train_sf = get_rating_sf(ratings, train_ids, save_to=\"data/%s_train.sframe\"%name)\n",
    "    "
   ]
  },
  {
   "cell_type": "code",
   "execution_count": 9,
   "metadata": {
    "collapsed": true
   },
   "outputs": [],
   "source": [
    "# given list X, randomly split data into training, validation and test set\n",
    "def sample_split(n, n_test=None, n_validate=None):\n",
    "    n_test = n/5 if n_test is None else n_test\n",
    "    n_validate = 0 if n_validate is None else n_validate\n",
    "\n",
    "    samples = sample(range(n), n_test + n_validate)\n",
    "    test_ids = samples[0:n_test]\n",
    "    validate_ids = samples[n_test:]\n",
    "    train_ids = list(set(range(n)) - set(test_ids) - set(validate_ids))\n",
    "\n",
    "    return train_ids, validate_ids, test_ids"
   ]
  },
  {
   "cell_type": "code",
   "execution_count": 78,
   "metadata": {
    "collapsed": false
   },
   "outputs": [],
   "source": [
    "def debug_split(S=range(nr), split_ratio=20):\n",
    "    # smaller split for debugging\n",
    "    debug_size = nr/split_ratio\n",
    "    debug_sample = sample(S, debug_size)\n",
    "    train_ids, valid_ids, test_ids = sample_split(debug_size)\n",
    "    \n",
    "    get_debug = lambda ids: map(lambda i: debug_sample[i], ids)\n",
    "    \n",
    "    train_ids = get_debug(train_ids)\n",
    "    valid_ids = get_debug(valid_ids)\n",
    "    test_ids = get_debug(test_ids)\n",
    "\n",
    "#     save_ratings_splits(ratings,  train_ids, valid_ids, test_ids, 'ratings_debug')\n",
    "#     save_ratings_splits_mtx(ratings, train_ids, valid_ids, test_ids, 'ratings_debug')\n",
    "    \n",
    "    return train_ids, valid_ids, test_ids"
   ]
  },
  {
   "cell_type": "code",
   "execution_count": 79,
   "metadata": {
    "collapsed": false
   },
   "outputs": [
    {
     "name": "stdout",
     "output_type": "stream",
     "text": [
      "saving sframe to data/ratings_debug_small_test.sframe\n",
      "saving sframe to data/ratings_debug_small_train.sframe\n"
     ]
    }
   ],
   "source": [
    "debug_train_ids, debug_valid_ids, debug_test_ids = debug_split(split_ratio=2000)\n",
    "save_ratings_splits_sf(ratings, debug_train_ids, [], debug_valid_ids, 'ratings_debug_small')"
   ]
  },
  {
   "cell_type": "code",
   "execution_count": 89,
   "metadata": {
    "collapsed": false
   },
   "outputs": [],
   "source": [
    "debug_train_ids, debug_valid_ids, debug_test_ids = debug_split()\n",
    "# def normal_split():\n",
    "#     train_ids, valid_ids, test_ids = sample_split(nr)\n",
    "#     save_ratings_splits(ratings, train_ids, valid_ids, test_ids, 'ratings')\n",
    "# #     save_ratinenres = movies['genres'].map(lambda x: set(x.split('|')))\n",
    "unique_genres = reduce(lambda a,b: a|b, genres, set())\n",
    "unique_genres = filter(lambda x: x!='(no genres listed)', unique_genres)\n",
    "ng = len(unique_genres)\n",
    "\n",
    "remove_space = lambda s: ''.join(e for e in str(s) if e.isalnum())\n",
    "tags['tag'] = tags['tag'].apply(remove_space)\n",
    "\n",
    "# genreId => genreRow\n",
    "genres_dict = dict((t, i) for (i, t) in enumerate(unique_genres))\n",
    "# tagId => tagRow\n",
    "tags_id_dict = dict((t, i) for (i, t) in enumerate(tags['tag'].unique()))\n",
    "nt = len(tags_id_dict)\n",
    "\n",
    "print ng, ntgs_splits_mtx(ratings, train_ids, valid_ids, test_ids, 'ratings')\n",
    "#     return train_ids, valid_ids, test_ids"
   ]
  },
  {
   "cell_type": "code",
   "execution_count": 11,
   "metadata": {
    "collapsed": true
   },
   "outputs": [],
   "source": [
    "def two_round_split():\n",
    "    train_ids, _, test_ids = sample_split(nr)\n",
    "    debug_train_ids, _, debug_valid_ids = debug_split(train_ids)\n",
    "    save_ratings_splits_sf(ratings, debug_train_ids, [], debug_valid_ids, 'ratings_debug')\n",
    "    save_ratings_splits_sf(ratings, train_ids, [], test_ids, 'ratings')\n",
    "    save_ratings_splits_mtx(ratings, debug_train_ids, [], debug_valid_ids, 'ratings_debug')\n",
    "    save_ratings_splits_mtx(ratings, train_ids, [], test_ids, 'ratings')\n",
    "    return train_ids, test_ids, debug_train_ids, debug_valid_ids"
   ]
  },
  {
   "cell_type": "code",
   "execution_count": 16,
   "metadata": {
    "collapsed": false
   },
   "outputs": [
    {
     "name": "stderr",
     "output_type": "stream",
     "text": [
      "[INFO] This trial license of GraphLab Create is assigned to kanitw@gmail.com and will expire on June 26, 2015. Please contact trial@dato.com for licensing options or to request a free non-commercial license for personal or academic use.\n",
      "\n",
      "[INFO] Start server at: ipc:///tmp/graphlab_server-54634 - Server binary: /usr/local/lib/python2.7/site-packages/graphlab/unity_server - Server log: /tmp/graphlab_server_1433135021.log\n",
      "[INFO] GraphLab Server Version: 1.4.0\n"
     ]
    },
    {
     "name": "stdout",
     "output_type": "stream",
     "text": [
      "saving sframe to data/ratings_debug_test.sframe\n",
      "saving sframe to data/ratings_debug_train.sframe\n",
      "saving sframe to data/ratings_test.sframe\n",
      "saving sframe to data/ratings_train.sframe\n",
      "data/ratings_debug_test.mtx samples length = 200002\n",
      "0\n",
      "done writing data/ratings_debug_test.mtx\n",
      "data/ratings_debug_train.mtx samples length = 800011\n",
      "0\n",
      "500000\n",
      "done writing data/ratings_debug_train.mtx\n",
      "data/ratings_test.mtx samples length = 4000052\n",
      "0\n",
      "500000\n",
      "1000000\n",
      "1500000\n",
      "2000000\n",
      "2500000\n",
      "3000000\n",
      "3500000\n",
      "4000000\n",
      "done writing data/ratings_test.mtx\n",
      "data/ratings_train.mtx samples length = 16000211\n",
      "0\n",
      "500000\n",
      "1000000\n",
      "1500000\n",
      "2000000\n",
      "2500000\n",
      "3000000\n",
      "3500000\n",
      "4000000\n",
      "4500000\n",
      "5000000\n",
      "5500000\n",
      "6000000\n",
      "6500000\n",
      "7000000\n",
      "7500000\n",
      "8000000\n",
      "8500000\n",
      "9000000\n",
      "9500000\n",
      "10000000\n",
      "10500000\n",
      "11000000\n",
      "11500000\n",
      "12000000\n",
      "12500000\n",
      "13000000\n",
      "13500000\n",
      "14000000\n",
      "14500000\n",
      "15000000\n",
      "15500000\n",
      "16000000\n",
      "done writing data/ratings_train.mtx\n"
     ]
    }
   ],
   "source": [
    "train_ids, test_ids, debug_train_ids, debug_valid_ids = two_round_split()"
   ]
  },
  {
   "cell_type": "code",
   "execution_count": null,
   "metadata": {
    "collapsed": true
   },
   "outputs": [],
   "source": [
    "# train_ids, valid_ids, test_ids = normal_split()"
   ]
  },
  {
   "cell_type": "code",
   "execution_count": 18,
   "metadata": {
    "collapsed": false
   },
   "outputs": [
    {
     "name": "stdout",
     "output_type": "stream",
     "text": [
      "19 37896\n"
     ]
    }
   ],
   "source": [
    "genres = movies['genres'].map(lambda x: set(x.split('|')))\n",
    "unique_genres = reduce(lambda a,b: a|b, genres, set())\n",
    "unique_genres = filter(lambda x: x!='(no genres listed)', unique_genres)\n",
    "ng = len(unique_genres)\n",
    "\n",
    "remove_space = lambda s: ''.join(e for e in str(s) if e.isalnum())\n",
    "tags['tag'] = tags['tag'].apply(remove_space)\n",
    "\n",
    "# genreId => genreRow\n",
    "genres_dict = dict((t, i) for (i, t) in enumerate(unique_genres))\n",
    "# tagId => tagRow\n",
    "tags_id_dict = dict((t, i) for (i, t) in enumerate(tags['tag'].unique()))\n",
    "nt = len(tags_id_dict)\n",
    "\n",
    "print ng, nt"
   ]
  },
  {
   "cell_type": "code",
   "execution_count": 71,
   "metadata": {
    "collapsed": false
   },
   "outputs": [],
   "source": [
    "def get_movie_matrix(nht, save_to=None):\n",
    "    mat = dok_matrix((nm, ng + nht))\n",
    "\n",
    "    for i, gs in enumerate(genres):\n",
    "        for g in gs:\n",
    "            if g in genres_dict:\n",
    "                mat[i,genres_dict[g]] = 1\n",
    "\n",
    "    for i in xrange(len(tags)):\n",
    "        mid = movie_dict[tags['movieId'][i]]\n",
    "        t = tags['tag'][i]\n",
    "        # use hash kernel\n",
    "        hh = hash(t)\n",
    "        h, e = (hh / 2) % nht , -1 if hh % 2 == 0 else 1\n",
    "        ti = ng + h\n",
    "        mat[mid, ti] += e    \n",
    "    if save_to is not None:\n",
    "        sio.mmwrite(save_to, mat)\n",
    "    return mat"
   ]
  },
  {
   "cell_type": "code",
   "execution_count": 72,
   "metadata": {
    "collapsed": false
   },
   "outputs": [],
   "source": [
    "# write phi(m) -- features for each movie!\n",
    "movies = get_movie_matrix(40, 'data/movies.mtx')"
   ]
  },
  {
   "cell_type": "code",
   "execution_count": null,
   "metadata": {
    "collapsed": true
   },
   "outputs": [],
   "source": [
    "rating_matrix = get_rating_matrix(ratings, range(len(ratings)))"
   ]
  },
  {
   "cell_type": "code",
   "execution_count": 52,
   "metadata": {
    "collapsed": true
   },
   "outputs": [],
   "source": [
    "test_movie_ids = set(sample(range(nm), nm/5))\n",
    "train_movie_ids = set(range(nm)) - test_movie_ids"
   ]
  },
  {
   "cell_type": "code",
   "execution_count": 58,
   "metadata": {
    "collapsed": false
   },
   "outputs": [],
   "source": [
    "def csc_col_to_zero(csc, col):\n",
    "    csc.data[csc.indptr[col]: csc.indptr[col+1]] = 0"
   ]
  },
  {
   "cell_type": "code",
   "execution_count": 59,
   "metadata": {
    "collapsed": true
   },
   "outputs": [],
   "source": [
    "def csc_cols_to_zero(csc, cols):\n",
    "    for col in cols:\n",
    "        csc_col_to_zero(csc, col)\n",
    "    csc.eliminate_zeros()"
   ]
  },
  {
   "cell_type": "code",
   "execution_count": 60,
   "metadata": {
    "collapsed": true
   },
   "outputs": [],
   "source": [
    "rating_matrix_csc = rating_matrix.tocsc()\n",
    "train_rating_mtx = rating_matrix_csc.copy()\n",
    "test_rating_mtx = rating_matrix_csc.copy()\n",
    "csc_cols_to_zero(train_rating_mtx, test_movie_ids)\n",
    "csc_cols_to_zero(test_rating_mtx, train_movie_ids)"
   ]
  },
  {
   "cell_type": "code",
   "execution_count": null,
   "metadata": {
    "collapsed": true
   },
   "outputs": [],
   "source": [
    "train_rating_mtx, test_rating_mtx"
   ]
  },
  {
   "cell_type": "code",
   "execution_count": 67,
   "metadata": {
    "collapsed": true
   },
   "outputs": [],
   "source": [
    "sio.mmwrite('data/ratings_cs_train.mtx', train_rating_mtx)\n",
    "sio.mmwrite('data/ratings_cs_test.mtx', test_rating_mtx)"
   ]
  },
  {
   "cell_type": "code",
   "execution_count": 68,
   "metadata": {
    "collapsed": true
   },
   "outputs": [],
   "source": [
    "def get_sf_from_coo(coo, save_to):\n",
    "    sf = SFrame({'userId': coo.row, 'movieId': coo.col, 'rating': coo.data})\n",
    "    if save_to is not None:\n",
    "        print \"saving sframe to\", save_to\n",
    "        sf.save(save_to)\n",
    "    return sf"
   ]
  },
  {
   "cell_type": "code",
   "execution_count": 69,
   "metadata": {
    "collapsed": true
   },
   "outputs": [],
   "source": [
    "train_rating_coo = train_rating_mtx.tocoo()\n",
    "test_rating_coo = test_rating_mtx.tocoo()"
   ]
  },
  {
   "cell_type": "code",
   "execution_count": 70,
   "metadata": {
    "collapsed": false
   },
   "outputs": [
    {
     "name": "stdout",
     "output_type": "stream",
     "text": [
      "saving sframe to data/ratings_train_cs.sgraph\n",
      "saving sframe to data/ratings_test_cs.sgraph\n"
     ]
    },
    {
     "data": {
      "text/html": [
       "<div style=\"max-height:1000px;max-width:1500px;overflow:auto;\"><table frame=\"box\" rules=\"cols\">\n",
       "    <tr>\n",
       "        <th style=\"padding-left: 1em; padding-right: 1em; text-align: center\">movieId</th>\n",
       "        <th style=\"padding-left: 1em; padding-right: 1em; text-align: center\">rating</th>\n",
       "        <th style=\"padding-left: 1em; padding-right: 1em; text-align: center\">userId</th>\n",
       "    </tr>\n",
       "    <tr>\n",
       "        <td style=\"padding-left: 1em; padding-right: 1em; text-align: center; vertical-align: top\">1</td>\n",
       "        <td style=\"padding-left: 1em; padding-right: 1em; text-align: center; vertical-align: top\">3.5</td>\n",
       "        <td style=\"padding-left: 1em; padding-right: 1em; text-align: center; vertical-align: top\">0</td>\n",
       "    </tr>\n",
       "    <tr>\n",
       "        <td style=\"padding-left: 1em; padding-right: 1em; text-align: center; vertical-align: top\">1</td>\n",
       "        <td style=\"padding-left: 1em; padding-right: 1em; text-align: center; vertical-align: top\">3.0</td>\n",
       "        <td style=\"padding-left: 1em; padding-right: 1em; text-align: center; vertical-align: top\">4</td>\n",
       "    </tr>\n",
       "    <tr>\n",
       "        <td style=\"padding-left: 1em; padding-right: 1em; text-align: center; vertical-align: top\">1</td>\n",
       "        <td style=\"padding-left: 1em; padding-right: 1em; text-align: center; vertical-align: top\">3.0</td>\n",
       "        <td style=\"padding-left: 1em; padding-right: 1em; text-align: center; vertical-align: top\">12</td>\n",
       "    </tr>\n",
       "    <tr>\n",
       "        <td style=\"padding-left: 1em; padding-right: 1em; text-align: center; vertical-align: top\">1</td>\n",
       "        <td style=\"padding-left: 1em; padding-right: 1em; text-align: center; vertical-align: top\">3.0</td>\n",
       "        <td style=\"padding-left: 1em; padding-right: 1em; text-align: center; vertical-align: top\">28</td>\n",
       "    </tr>\n",
       "    <tr>\n",
       "        <td style=\"padding-left: 1em; padding-right: 1em; text-align: center; vertical-align: top\">1</td>\n",
       "        <td style=\"padding-left: 1em; padding-right: 1em; text-align: center; vertical-align: top\">3.0</td>\n",
       "        <td style=\"padding-left: 1em; padding-right: 1em; text-align: center; vertical-align: top\">33</td>\n",
       "    </tr>\n",
       "    <tr>\n",
       "        <td style=\"padding-left: 1em; padding-right: 1em; text-align: center; vertical-align: top\">1</td>\n",
       "        <td style=\"padding-left: 1em; padding-right: 1em; text-align: center; vertical-align: top\">3.0</td>\n",
       "        <td style=\"padding-left: 1em; padding-right: 1em; text-align: center; vertical-align: top\">53</td>\n",
       "    </tr>\n",
       "    <tr>\n",
       "        <td style=\"padding-left: 1em; padding-right: 1em; text-align: center; vertical-align: top\">1</td>\n",
       "        <td style=\"padding-left: 1em; padding-right: 1em; text-align: center; vertical-align: top\">1.0</td>\n",
       "        <td style=\"padding-left: 1em; padding-right: 1em; text-align: center; vertical-align: top\">87</td>\n",
       "    </tr>\n",
       "    <tr>\n",
       "        <td style=\"padding-left: 1em; padding-right: 1em; text-align: center; vertical-align: top\">1</td>\n",
       "        <td style=\"padding-left: 1em; padding-right: 1em; text-align: center; vertical-align: top\">3.5</td>\n",
       "        <td style=\"padding-left: 1em; padding-right: 1em; text-align: center; vertical-align: top\">90</td>\n",
       "    </tr>\n",
       "    <tr>\n",
       "        <td style=\"padding-left: 1em; padding-right: 1em; text-align: center; vertical-align: top\">1</td>\n",
       "        <td style=\"padding-left: 1em; padding-right: 1em; text-align: center; vertical-align: top\">2.0</td>\n",
       "        <td style=\"padding-left: 1em; padding-right: 1em; text-align: center; vertical-align: top\">115</td>\n",
       "    </tr>\n",
       "    <tr>\n",
       "        <td style=\"padding-left: 1em; padding-right: 1em; text-align: center; vertical-align: top\">1</td>\n",
       "        <td style=\"padding-left: 1em; padding-right: 1em; text-align: center; vertical-align: top\">4.0</td>\n",
       "        <td style=\"padding-left: 1em; padding-right: 1em; text-align: center; vertical-align: top\">118</td>\n",
       "    </tr>\n",
       "</table>\n",
       "[4350388 rows x 3 columns]<br/>Note: Only the head of the SFrame is printed.<br/>You can use print_rows(num_rows=m, num_columns=n) to print more rows and columns.\n",
       "</div>"
      ],
      "text/plain": [
       "Columns:\n",
       "\tmovieId\tint\n",
       "\trating\tfloat\n",
       "\tuserId\tint\n",
       "\n",
       "Rows: 4350388\n",
       "\n",
       "Data:\n",
       "+---------+--------+--------+\n",
       "| movieId | rating | userId |\n",
       "+---------+--------+--------+\n",
       "|    1    |  3.5   |   0    |\n",
       "|    1    |  3.0   |   4    |\n",
       "|    1    |  3.0   |   12   |\n",
       "|    1    |  3.0   |   28   |\n",
       "|    1    |  3.0   |   33   |\n",
       "|    1    |  3.0   |   53   |\n",
       "|    1    |  1.0   |   87   |\n",
       "|    1    |  3.5   |   90   |\n",
       "|    1    |  2.0   |  115   |\n",
       "|    1    |  4.0   |  118   |\n",
       "+---------+--------+--------+\n",
       "[4350388 rows x 3 columns]\n",
       "Note: Only the head of the SFrame is printed.\n",
       "You can use print_rows(num_rows=m, num_columns=n) to print more rows and columns."
      ]
     },
     "execution_count": 70,
     "metadata": {},
     "output_type": "execute_result"
    }
   ],
   "source": [
    "get_sf_from_coo(train_rating_coo, 'data/ratings_cs_train.sgraph')\n",
    "get_sf_from_coo(test_rating_coo, 'data/ratings_cs_test.sgraph')"
   ]
  }
 ],
 "metadata": {
  "kernelspec": {
   "display_name": "Python 2",
   "language": "python",
   "name": "python2"
  },
  "language_info": {
   "codemirror_mode": {
    "name": "ipython",
    "version": 2
   },
   "file_extension": ".py",
   "mimetype": "text/x-python",
   "name": "python",
   "nbconvert_exporter": "python",
   "pygments_lexer": "ipython2",
   "version": "2.7.3"
  }
 },
 "nbformat": 4,
 "nbformat_minor": 0
}
