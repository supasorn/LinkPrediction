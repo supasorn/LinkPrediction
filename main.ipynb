{
 "cells": [
  {
   "cell_type": "code",
   "execution_count": 3,
   "metadata": {
    "collapsed": true
   },
   "outputs": [],
   "source": [
    "from __future__ import division\n",
    "import scipy as sp\n",
    "import numpy as np\n",
    "from scipy import io\n",
    "import itertools\n",
    "import math"
   ]
  },
  {
   "cell_type": "code",
   "execution_count": 4,
   "metadata": {
    "collapsed": false
   },
   "outputs": [
    {
     "data": {
      "text/plain": [
       "(10000, 1000)"
      ]
     },
     "execution_count": 4,
     "metadata": {},
     "output_type": "execute_result"
    }
   ],
   "source": [
    "data = io.mmread(\"data/netflix_mm_10000_1000\")\n",
    "data.shape"
   ]
  },
  {
   "cell_type": "code",
   "execution_count": 7,
   "metadata": {
    "collapsed": true
   },
   "outputs": [],
   "source": [
    "def RMSE(data, latent):\n",
    "    userOffset = 0\n",
    "    movieOffset = data.shape[0]\n",
    "    \n",
    "    cx = data.tocoo() \n",
    "    err = 0\n",
    "    for user,movie,rating in itertools.izip(cx.row, cx.col, cx.data):\n",
    "        vUser = latent[user + userOffset]\n",
    "        vMovie = latent[movie + movieOffset]\n",
    "        err += (vUser.dot(vMovie) - rating) ** 2\n",
    "    #return math.sqrt(err / data.nnz)\n",
    "    return err\n",
    "        "
   ]
  },
  {
   "cell_type": "code",
   "execution_count": null,
   "metadata": {
    "collapsed": false
   },
   "outputs": [
    {
     "name": "stdout",
     "output_type": "stream",
     "text": [
      "Initial RMSE 822501.205399\n",
      "500 - 822501.205399"
     ]
    }
   ],
   "source": [
    "def SGD(data, eta = 1, lambduh = 0.1, maxit = 2):\n",
    "    rank = 10\n",
    "    userOffset = 0\n",
    "    movieOffset = data.shape[0]\n",
    "    latent = np.random.rand(sum(data.shape), rank)\n",
    "    \n",
    "    it = 0\n",
    "    innerIt = 0\n",
    "    cx = data.tocoo() \n",
    "    print \"Initial RMSE %f\" % (RMSE(data, latent))\n",
    "    while it < maxit:\n",
    "        for user,movie,rating in itertools.izip(cx.row, cx.col, cx.data):\n",
    "            vUser = latent[user + userOffset]\n",
    "            vUserTmp = vUser.copy()\n",
    "            vMovie = latent[movie + movieOffset]\n",
    "            \n",
    "            e = vUser.dot(vMovie) - rating\n",
    "            c1 = (1 - eta * lambduh)\n",
    "            \n",
    "            vUser = c1 * vUser - eta * e * vMovie\n",
    "            vMovie = c1 * vMovie - eta * e * vUserTmp\n",
    "            \n",
    "            # update error\n",
    "            innerIt += 1\n",
    "            if innerIt % 500 == 0:\n",
    "                print \"%d - %f\" % (innerIt, RMSE(data, latent))\n",
    "        it += 1\n",
    "SGD(data)"
   ]
  },
  {
   "cell_type": "code",
   "execution_count": null,
   "metadata": {
    "collapsed": true
   },
   "outputs": [],
   "source": []
  }
 ],
 "metadata": {
  "kernelspec": {
   "display_name": "Python 2",
   "language": "python",
   "name": "python2"
  },
  "language_info": {
   "codemirror_mode": {
    "name": "ipython",
    "version": 2
   },
   "file_extension": ".py",
   "mimetype": "text/x-python",
   "name": "python",
   "nbconvert_exporter": "python",
   "pygments_lexer": "ipython2",
   "version": "2.7.6"
  }
 },
 "nbformat": 4,
 "nbformat_minor": 0
}
